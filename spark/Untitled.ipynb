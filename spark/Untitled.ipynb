{
 "cells": [
  {
   "cell_type": "code",
   "execution_count": 1,
   "metadata": {},
   "outputs": [],
   "source": [
    "from pyspark.sql import SparkSession\n",
    "from pyspark.sql.functions import *"
   ]
  },
  {
   "cell_type": "code",
   "execution_count": 2,
   "metadata": {},
   "outputs": [],
   "source": [
    "spark = SparkSession.builder.appName('Alura').getOrCreate()"
   ]
  },
  {
   "cell_type": "code",
   "execution_count": 3,
   "metadata": {},
   "outputs": [],
   "source": [
    "dataframe_site = spark.read.json('lab/site.json')"
   ]
  },
  {
   "cell_type": "code",
   "execution_count": 4,
   "metadata": {},
   "outputs": [
    {
     "data": {
      "text/plain": [
       "DataFrame[id_ped: bigint, id_unidade: string, preco_venda: string, quantidade: string]"
      ]
     },
     "execution_count": 4,
     "metadata": {},
     "output_type": "execute_result"
    }
   ],
   "source": [
    "dataframe_site"
   ]
  },
  {
   "cell_type": "code",
   "execution_count": 5,
   "metadata": {},
   "outputs": [],
   "source": [
    "dataframe_loja = spark.read.format('orc').load('lab/loja.orc')"
   ]
  },
  {
   "cell_type": "code",
   "execution_count": 6,
   "metadata": {},
   "outputs": [
    {
     "data": {
      "text/plain": [
       "DataFrame[id_pedido: int, data_entrega: string, frete_valor: string]"
      ]
     },
     "execution_count": 6,
     "metadata": {},
     "output_type": "execute_result"
    }
   ],
   "source": [
    "dataframe_loja"
   ]
  },
  {
   "cell_type": "code",
   "execution_count": 7,
   "metadata": {},
   "outputs": [],
   "source": [
    "dataframe_contabilidade = spark.read.format('csv').option('header', True).option('delimiter', ';').load('lab/contabilidade.csv.gz')"
   ]
  },
  {
   "cell_type": "code",
   "execution_count": 8,
   "metadata": {},
   "outputs": [
    {
     "data": {
      "text/plain": [
       "DataFrame[id: string, status: string, data_pedido: string]"
      ]
     },
     "execution_count": 8,
     "metadata": {},
     "output_type": "execute_result"
    }
   ],
   "source": [
    "dataframe_contabilidade"
   ]
  },
  {
   "cell_type": "code",
   "execution_count": 9,
   "metadata": {},
   "outputs": [
    {
     "name": "stdout",
     "output_type": "stream",
     "text": [
      "+-----------+----------+-----------+----------+\n",
      "|     id_ped|id_unidade|preco_venda|quantidade|\n",
      "+-----------+----------+-----------+----------+\n",
      "|  965107906|         1|      119.9|         1|\n",
      "|  965107906|         1|      429.9|         1|\n",
      "|-1565608536|         5|     501.34|         1|\n",
      "|-1581658418|         1|     859.07|         1|\n",
      "|-1135401761|         1|       99.9|         2|\n",
      "|  549420648|         1|      174.9|         1|\n",
      "|-1066634773|         1|     639.99|         1|\n",
      "|-1820157074|         1|       41.9|         1|\n",
      "|   33759233|         1|     120.55|         1|\n",
      "| 1131745303|         5|      13.74|         1|\n",
      "| -211558136|         5|       59.9|         1|\n",
      "|  244101855|         8|      199.9|         1|\n",
      "|  876261471|         8|      749.0|         1|\n",
      "| 1751265617|         8|      599.0|         1|\n",
      "| 1968743421|         8|      279.9|         1|\n",
      "|-2008429371|         8|      207.8|         1|\n",
      "|-1257588260|         5|     194.87|         4|\n",
      "|  195858968|         8|     1197.9|         1|\n",
      "|-1946408819|         8|      175.9|         1|\n",
      "| -775052452|         8|      699.0|         2|\n",
      "+-----------+----------+-----------+----------+\n",
      "only showing top 20 rows\n",
      "\n"
     ]
    }
   ],
   "source": [
    "dataframe_site.show()"
   ]
  },
  {
   "cell_type": "code",
   "execution_count": 10,
   "metadata": {},
   "outputs": [
    {
     "name": "stdout",
     "output_type": "stream",
     "text": [
      "+-----------+-------------------+-----------+\n",
      "|  id_pedido|       data_entrega|frete_valor|\n",
      "+-----------+-------------------+-----------+\n",
      "|  965107906|2019-04-22 16:33:14|       22.5|\n",
      "|  965107906|2019-04-22 18:08:37|      30.94|\n",
      "|-1565608536|2019-05-02 09:55:25|        0.0|\n",
      "|-1581658418|2019-04-30 17:45:00|       90.0|\n",
      "|-1135401761|2019-04-23 15:06:51|      12.86|\n",
      "|  549420648|2019-04-25 14:40:00|      23.26|\n",
      "|-1066634773|2019-04-29 20:00:00|      37.28|\n",
      "|-1820157074|2019-04-25 21:14:11|      14.27|\n",
      "|   33759233|2019-04-24 12:06:14|      22.68|\n",
      "| 1131745303|2019-04-23 14:07:20|      31.85|\n",
      "| -211558136|2019-04-23 14:48:57|      18.59|\n",
      "|  244101855|2019-04-25 14:31:21|      49.89|\n",
      "|  876261471|2019-04-23 15:08:42|      33.81|\n",
      "| 1751265617|2019-04-24 20:47:17|      19.84|\n",
      "| 1968743421|2019-04-23 05:16:29|       30.0|\n",
      "|-2008429371|2019-04-26 12:01:03|      18.21|\n",
      "|-1257588260|2019-04-25 07:40:41|       7.48|\n",
      "|  195858968|2019-04-23 11:24:35|      43.83|\n",
      "|-1946408819|2019-04-22 20:32:13|      31.78|\n",
      "| -775052452|2019-04-23 17:10:23|      16.26|\n",
      "+-----------+-------------------+-----------+\n",
      "only showing top 20 rows\n",
      "\n"
     ]
    }
   ],
   "source": [
    "dataframe_loja.show()"
   ]
  },
  {
   "cell_type": "code",
   "execution_count": 11,
   "metadata": {},
   "outputs": [
    {
     "name": "stdout",
     "output_type": "stream",
     "text": [
      "+-----------+------+-------------------+\n",
      "|         id|status|        data_pedido|\n",
      "+-----------+------+-------------------+\n",
      "|  420143590|   CAN|2019-02-11 10:31:00|\n",
      "|-1085764026|   ETM|2019-02-11 07:13:00|\n",
      "|  769988527|   CAN|2019-02-11 10:14:00|\n",
      "| -103973999|   CAN|2019-02-11 11:27:00|\n",
      "|  387869614|   CAN|2019-02-11 10:59:00|\n",
      "| 1038183568|   CAN|2019-02-11 11:02:00|\n",
      "|  515601832|   CAN|2019-02-11 09:35:00|\n",
      "|  988734085|   CAN|2019-02-11 09:27:00|\n",
      "|  475213401|   CAN|2019-02-11 10:41:00|\n",
      "|-1996100071|   COR|2019-02-11 08:39:00|\n",
      "|-1233015787|   CAN|2019-02-11 10:44:00|\n",
      "|-1228018005|   CAN|2019-02-11 07:44:00|\n",
      "|-1715998644|   CAN|2019-02-11 09:48:00|\n",
      "| 1701190932|   CAN|2019-02-11 09:32:00|\n",
      "|  985951856|   ROT|2019-02-11 09:05:00|\n",
      "| 1310097236|   CAN|2019-02-11 08:41:00|\n",
      "|-1322045127|   CAN|2019-02-11 12:04:00|\n",
      "| -671099828|   CAN|2019-02-11 09:21:00|\n",
      "| 1602431311|   CAN|2019-02-11 09:56:00|\n",
      "|-1720775861|   COR|2019-02-11 07:17:00|\n",
      "+-----------+------+-------------------+\n",
      "only showing top 20 rows\n",
      "\n"
     ]
    }
   ],
   "source": [
    "dataframe_contabilidade.show()"
   ]
  },
  {
   "cell_type": "code",
   "execution_count": 12,
   "metadata": {},
   "outputs": [
    {
     "name": "stdout",
     "output_type": "stream",
     "text": [
      "root\n",
      " |-- id_ped: long (nullable = true)\n",
      " |-- id_unidade: string (nullable = true)\n",
      " |-- preco_venda: string (nullable = true)\n",
      " |-- quantidade: string (nullable = true)\n",
      "\n"
     ]
    }
   ],
   "source": [
    "dataframe_site.printSchema()"
   ]
  },
  {
   "cell_type": "code",
   "execution_count": 13,
   "metadata": {},
   "outputs": [
    {
     "name": "stdout",
     "output_type": "stream",
     "text": [
      "root\n",
      " |-- id_pedido: integer (nullable = true)\n",
      " |-- data_entrega: string (nullable = true)\n",
      " |-- frete_valor: string (nullable = true)\n",
      "\n"
     ]
    }
   ],
   "source": [
    "dataframe_loja.printSchema()"
   ]
  },
  {
   "cell_type": "code",
   "execution_count": 14,
   "metadata": {},
   "outputs": [
    {
     "name": "stdout",
     "output_type": "stream",
     "text": [
      "root\n",
      " |-- id: string (nullable = true)\n",
      " |-- status: string (nullable = true)\n",
      " |-- data_pedido: string (nullable = true)\n",
      "\n"
     ]
    }
   ],
   "source": [
    "dataframe_contabilidade.printSchema()"
   ]
  },
  {
   "cell_type": "code",
   "execution_count": 15,
   "metadata": {},
   "outputs": [],
   "source": [
    "from pyspark.sql.types import *"
   ]
  },
  {
   "cell_type": "code",
   "execution_count": 16,
   "metadata": {},
   "outputs": [],
   "source": [
    "schema = StructType([StructField(\"id\", IntegerType(), True),\n",
    "                        StructField(\"status\", StringType(), True),\n",
    "                        StructField(\"data_pedido\", TimestampType(), True),])"
   ]
  },
  {
   "cell_type": "code",
   "execution_count": 17,
   "metadata": {},
   "outputs": [],
   "source": [
    "dataframe_contabilidade = spark.read.format('csv').schema(schema).option('header', True).option('delimiter', ';').load('lab/contabilidade.csv.gz')"
   ]
  },
  {
   "cell_type": "code",
   "execution_count": 18,
   "metadata": {},
   "outputs": [
    {
     "name": "stdout",
     "output_type": "stream",
     "text": [
      "root\n",
      " |-- id: integer (nullable = true)\n",
      " |-- status: string (nullable = true)\n",
      " |-- data_pedido: timestamp (nullable = true)\n",
      "\n"
     ]
    }
   ],
   "source": [
    "dataframe_contabilidade.printSchema()"
   ]
  },
  {
   "cell_type": "code",
   "execution_count": 19,
   "metadata": {},
   "outputs": [],
   "source": [
    "dataframe_inner = dataframe_contabilidade.join(dataframe_site, dataframe_contabilidade.id == dataframe_site.id_ped)"
   ]
  },
  {
   "cell_type": "code",
   "execution_count": 20,
   "metadata": {},
   "outputs": [
    {
     "data": {
      "text/plain": [
       "DataFrame[id: int, status: string, data_pedido: timestamp, id_ped: bigint, id_unidade: string, preco_venda: string, quantidade: string]"
      ]
     },
     "execution_count": 20,
     "metadata": {},
     "output_type": "execute_result"
    }
   ],
   "source": [
    "dataframe_inner"
   ]
  },
  {
   "cell_type": "code",
   "execution_count": 21,
   "metadata": {},
   "outputs": [
    {
     "data": {
      "text/plain": [
       "187142"
      ]
     },
     "execution_count": 21,
     "metadata": {},
     "output_type": "execute_result"
    }
   ],
   "source": [
    "dataframe_inner.count()"
   ]
  },
  {
   "cell_type": "code",
   "execution_count": 22,
   "metadata": {},
   "outputs": [
    {
     "name": "stdout",
     "output_type": "stream",
     "text": [
      "+-----------+------+-------------------+-----------+----------+-----------+----------+\n",
      "|         id|status|        data_pedido|     id_ped|id_unidade|preco_venda|quantidade|\n",
      "+-----------+------+-------------------+-----------+----------+-----------+----------+\n",
      "| -716752696|   NFS|2019-02-11 14:26:00| -716752696|         8|      83.73|         1|\n",
      "|  788688814|   ENT|2019-04-09 16:30:00|  788688814|         8|       35.9|         1|\n",
      "| 1036357147|   NFS|2019-04-09 21:17:00| 1036357147|         1|     699.92|         1|\n",
      "|  788688814|   AXD|2019-02-15 13:29:00|  788688814|         8|       35.9|         1|\n",
      "|-1345775998|   PAP|2019-02-15 15:52:00|-1345775998|         1|     229.09|         1|\n",
      "| -565184213|   AXD|2019-02-07 00:42:00| -565184213|         8|     219.45|         1|\n",
      "|  967562459|   NFS|2019-02-07 14:03:00|  967562459|         8|       65.0|         1|\n",
      "| 1822560430|   TRN|2019-02-07 20:30:00| 1822560430|         8|      189.0|         1|\n",
      "| 1822560430|   WMS|2019-02-05 10:14:00| 1822560430|         8|      189.0|         1|\n",
      "| 1257978147|   ROT|2019-03-26 14:19:00| 1257978147|         8|      779.0|         1|\n",
      "| -500564995|   TRN|2019-03-26 16:36:00| -500564995|         5|       27.9|         4|\n",
      "|-1658933871|   ENT|2019-04-08 14:29:00|-1658933871|         8|      399.0|         1|\n",
      "| -716752696|   ROT|2019-02-25 17:25:00| -716752696|         8|      83.73|         1|\n",
      "|  319441265|   TRN|2019-02-25 19:49:00|  319441265|         8|      419.0|         1|\n",
      "|  788688814|   AES|2019-02-27 00:50:00|  788688814|         8|       35.9|         1|\n",
      "|  319441265|   ENT|2019-02-27 12:34:00|  319441265|         8|      419.0|         1|\n",
      "| -668911082|   ACR|2019-04-11 19:41:00| -668911082|         8|     174.41|         1|\n",
      "| -668911082|   ACR|2019-04-11 19:41:00| -668911082|         8|       29.9|         1|\n",
      "| -668911082|   ACR|2019-04-11 19:41:00| -668911082|         8|       14.9|         1|\n",
      "| -668911082|   ACR|2019-04-11 19:41:00| -668911082|         8|     174.41|         1|\n",
      "+-----------+------+-------------------+-----------+----------+-----------+----------+\n",
      "only showing top 20 rows\n",
      "\n"
     ]
    }
   ],
   "source": [
    "dataframe_inner.show()"
   ]
  },
  {
   "cell_type": "code",
   "execution_count": 23,
   "metadata": {},
   "outputs": [],
   "source": [
    "dataframe_loja_site = dataframe_loja.join(dataframe_site, dataframe_loja.id_pedido == dataframe_site.id_ped, how='full')"
   ]
  },
  {
   "cell_type": "code",
   "execution_count": 24,
   "metadata": {},
   "outputs": [
    {
     "name": "stdout",
     "output_type": "stream",
     "text": [
      "+-----------+-------------------+-----------+-----------+----------+-----------+----------+\n",
      "|  id_pedido|       data_entrega|frete_valor|     id_ped|id_unidade|preco_venda|quantidade|\n",
      "+-----------+-------------------+-----------+-----------+----------+-----------+----------+\n",
      "|-2145969532|2019-04-25 16:29:27|      10.71|-2145969532|         8|       59.9|         3|\n",
      "|-2144499221|2019-05-02 19:08:03|      68.06|-2144499221|         8|      284.0|         1|\n",
      "|-2114249380|2019-04-29 16:20:00|       77.0|-2114249380|         5|     492.48|         1|\n",
      "|-2020035985|2019-04-29 15:29:29|      73.87|-2020035985|         1|      559.0|         1|\n",
      "|-2018039854|2019-04-22 14:02:18|      32.98|-2018039854|         5|      849.0|         1|\n",
      "|-2006859173|2019-04-29 15:55:13|       0.19|-2006859173|         5|      84.34|         1|\n",
      "|-1985551657|2019-04-30 12:16:02|       9.76|-1985551657|         5|       49.9|         1|\n",
      "|-1980600252|2019-04-24 20:50:07|       99.9|-1980600252|         8|     1159.0|         1|\n",
      "|-1933728206|2019-04-30 15:15:00|       9.29|-1933728206|         5|       16.8|         1|\n",
      "|-1933310045|2019-04-29 11:58:09|       19.9|-1933310045|         8|      499.0|         1|\n",
      "|-1923455151|2019-04-29 03:04:00|       64.0|-1923455151|         8|      339.0|         1|\n",
      "|-1911592504|2019-04-24 21:35:34|       60.2|-1911592504|         8|      158.1|         1|\n",
      "|-1901513118|2019-04-30 14:47:20|      26.61|-1901513118|         8|      709.9|         1|\n",
      "|-1868751499|2019-04-26 15:41:17|       32.7|-1868751499|         8|      329.9|         1|\n",
      "|-1830766702|2019-04-30 00:04:22|       49.7|-1830766702|         8|     849.98|         1|\n",
      "|-1830300648|2019-05-02 16:13:13|        9.7|-1830300648|         1|     1319.8|         1|\n",
      "|-1813180563|2019-04-29 20:25:32|      49.99|-1813180563|         5|     1605.5|         1|\n",
      "|-1787802020|2019-04-29 17:50:00|       30.0|-1787802020|         5|       34.8|         1|\n",
      "|-1786067732|2019-05-02 03:00:00|        0.0|-1786067732|         8|      559.9|         1|\n",
      "|-1779573713|2019-04-25 20:02:14|       24.0|-1779573713|         8|      219.9|         1|\n",
      "+-----------+-------------------+-----------+-----------+----------+-----------+----------+\n",
      "only showing top 20 rows\n",
      "\n"
     ]
    }
   ],
   "source": [
    "dataframe_loja_site.show()"
   ]
  },
  {
   "cell_type": "code",
   "execution_count": 25,
   "metadata": {},
   "outputs": [
    {
     "data": {
      "text/plain": [
       "57074"
      ]
     },
     "execution_count": 25,
     "metadata": {},
     "output_type": "execute_result"
    }
   ],
   "source": [
    "dataframe_loja_site.count()"
   ]
  },
  {
   "cell_type": "code",
   "execution_count": 26,
   "metadata": {},
   "outputs": [],
   "source": [
    "dataframe_loja_site_dis = dataframe_loja_site.distinct()"
   ]
  },
  {
   "cell_type": "code",
   "execution_count": 27,
   "metadata": {},
   "outputs": [
    {
     "data": {
      "text/plain": [
       "57044"
      ]
     },
     "execution_count": 27,
     "metadata": {},
     "output_type": "execute_result"
    }
   ],
   "source": [
    "dataframe_loja_site_dis.count()"
   ]
  },
  {
   "cell_type": "code",
   "execution_count": 28,
   "metadata": {},
   "outputs": [
    {
     "name": "stdout",
     "output_type": "stream",
     "text": [
      "+-----------+------+-------------------+\n",
      "|         id|status|        data_pedido|\n",
      "+-----------+------+-------------------+\n",
      "|  283311229|   ENT|2019-02-11 10:16:00|\n",
      "| -804282547|   ENT|2019-02-11 04:00:00|\n",
      "|-1528509500|   ENT|2019-02-11 11:42:00|\n",
      "| -118303931|   ENT|2019-02-11 10:10:00|\n",
      "|-1507015997|   ENT|2019-02-11 04:00:00|\n",
      "|   63766397|   ENT|2019-02-11 11:52:00|\n",
      "|  721558001|   ENT|2019-02-11 10:51:00|\n",
      "| 1418399803|   ENT|2019-02-11 04:00:00|\n",
      "| -971988028|   ENT|2019-02-11 09:12:00|\n",
      "| -927189659|   ENT|2019-02-11 11:27:00|\n",
      "|-1287743050|   ENT|2019-02-11 11:54:00|\n",
      "| 1549251501|   ENT|2019-02-11 09:14:00|\n",
      "| -433043814|   ENT|2019-02-11 10:06:00|\n",
      "| -528396780|   ENT|2019-02-11 10:10:00|\n",
      "| -187162069|   ENT|2019-02-11 08:45:00|\n",
      "|  646976484|   ENT|2019-02-11 04:48:00|\n",
      "| -743190914|   ENT|2019-02-11 10:10:00|\n",
      "|  931200804|   ENT|2019-02-11 09:56:00|\n",
      "|  873416484|   ENT|2019-02-11 10:17:00|\n",
      "|  897137593|   ENT|2019-02-11 10:55:00|\n",
      "+-----------+------+-------------------+\n",
      "only showing top 20 rows\n",
      "\n"
     ]
    }
   ],
   "source": [
    "dataframe_contabilidade.filter(dataframe_contabilidade.status == 'ENT').show()"
   ]
  },
  {
   "cell_type": "code",
   "execution_count": 29,
   "metadata": {},
   "outputs": [],
   "source": [
    "dataframe_fevereiro = dataframe_contabilidade.filter(dataframe_contabilidade.status == 'ENT')"
   ]
  },
  {
   "cell_type": "code",
   "execution_count": 30,
   "metadata": {},
   "outputs": [
    {
     "data": {
      "text/plain": [
       "DataFrame[id: int, status: string, data_pedido: timestamp]"
      ]
     },
     "execution_count": 30,
     "metadata": {},
     "output_type": "execute_result"
    }
   ],
   "source": [
    "dataframe_fevereiro"
   ]
  },
  {
   "cell_type": "code",
   "execution_count": 31,
   "metadata": {},
   "outputs": [
    {
     "name": "stdout",
     "output_type": "stream",
     "text": [
      "+-----------+------+-------------------+\n",
      "|         id|status|        data_pedido|\n",
      "+-----------+------+-------------------+\n",
      "|  283311229|   ENT|2019-02-11 10:16:00|\n",
      "| -804282547|   ENT|2019-02-11 04:00:00|\n",
      "|-1528509500|   ENT|2019-02-11 11:42:00|\n",
      "| -118303931|   ENT|2019-02-11 10:10:00|\n",
      "|-1507015997|   ENT|2019-02-11 04:00:00|\n",
      "|   63766397|   ENT|2019-02-11 11:52:00|\n",
      "|  721558001|   ENT|2019-02-11 10:51:00|\n",
      "| 1418399803|   ENT|2019-02-11 04:00:00|\n",
      "| -971988028|   ENT|2019-02-11 09:12:00|\n",
      "| -927189659|   ENT|2019-02-11 11:27:00|\n",
      "|-1287743050|   ENT|2019-02-11 11:54:00|\n",
      "| 1549251501|   ENT|2019-02-11 09:14:00|\n",
      "| -433043814|   ENT|2019-02-11 10:06:00|\n",
      "| -528396780|   ENT|2019-02-11 10:10:00|\n",
      "| -187162069|   ENT|2019-02-11 08:45:00|\n",
      "|  646976484|   ENT|2019-02-11 04:48:00|\n",
      "| -743190914|   ENT|2019-02-11 10:10:00|\n",
      "|  931200804|   ENT|2019-02-11 09:56:00|\n",
      "|  873416484|   ENT|2019-02-11 10:17:00|\n",
      "|  897137593|   ENT|2019-02-11 10:55:00|\n",
      "+-----------+------+-------------------+\n",
      "only showing top 20 rows\n",
      "\n"
     ]
    }
   ],
   "source": [
    "dataframe_fevereiro.filter(dataframe_fevereiro.data_pedido >= '2019-02-01').filter(dataframe_fevereiro.data_pedido <= '2019-02-28').show()"
   ]
  },
  {
   "cell_type": "code",
   "execution_count": 32,
   "metadata": {},
   "outputs": [],
   "source": [
    "dataframe_fevereiro = dataframe_fevereiro.filter(dataframe_fevereiro.data_pedido >= '2019-02-01').filter(dataframe_fevereiro.data_pedido <= '2019-02-28')"
   ]
  },
  {
   "cell_type": "code",
   "execution_count": 33,
   "metadata": {},
   "outputs": [
    {
     "data": {
      "text/plain": [
       "399502"
      ]
     },
     "execution_count": 33,
     "metadata": {},
     "output_type": "execute_result"
    }
   ],
   "source": [
    "dataframe_fevereiro.count()"
   ]
  },
  {
   "cell_type": "code",
   "execution_count": 63,
   "metadata": {},
   "outputs": [],
   "source": [
    "dataframe_exclusao_linhas = dataframe_fevereiro.drop_duplicates()"
   ]
  },
  {
   "cell_type": "code",
   "execution_count": 34,
   "metadata": {},
   "outputs": [
    {
     "data": {
      "text/plain": [
       "DataFrame[id_pedido: int, data_entrega: string, frete_valor: string, id_ped: bigint, id_unidade: string, preco_venda: string, quantidade: string]"
      ]
     },
     "execution_count": 34,
     "metadata": {},
     "output_type": "execute_result"
    }
   ],
   "source": [
    "dataframe_loja_site"
   ]
  },
  {
   "cell_type": "code",
   "execution_count": 35,
   "metadata": {},
   "outputs": [
    {
     "data": {
      "text/plain": [
       "57074"
      ]
     },
     "execution_count": 35,
     "metadata": {},
     "output_type": "execute_result"
    }
   ],
   "source": [
    "dataframe_loja_site.count()"
   ]
  },
  {
   "cell_type": "code",
   "execution_count": 36,
   "metadata": {},
   "outputs": [],
   "source": [
    "import pyspark.sql.functions as F"
   ]
  },
  {
   "cell_type": "code",
   "execution_count": 37,
   "metadata": {},
   "outputs": [
    {
     "name": "stdout",
     "output_type": "stream",
     "text": [
      "+-----------+--------------------+\n",
      "|  id_pedido|preco_venda_agregado|\n",
      "+-----------+--------------------+\n",
      "|-1327358791|                19.9|\n",
      "| -359035740|              599.91|\n",
      "| 1045323572|                18.9|\n",
      "| -933767611|              2851.8|\n",
      "|-1442837451|              1929.0|\n",
      "|  690565871|             1899.98|\n",
      "|-1761271152|               229.9|\n",
      "| -232933969|              846.21|\n",
      "|  767216253|               949.0|\n",
      "| 1116223944|               399.9|\n",
      "|-1419819680|              2549.0|\n",
      "|-1765787008|              106.36|\n",
      "|  619048573|              757.98|\n",
      "|    8329599|              6236.0|\n",
      "|  176572296|              1999.0|\n",
      "|-1375692421|                85.0|\n",
      "|  847022602|               558.0|\n",
      "| 1973451197|              1190.0|\n",
      "|-1955479379|               899.0|\n",
      "|-1396752534|              165.76|\n",
      "+-----------+--------------------+\n",
      "only showing top 20 rows\n",
      "\n"
     ]
    }
   ],
   "source": [
    "dataframe_loja_site.groupby(dataframe_loja_site.id_pedido).agg(F.sum(dataframe_loja_site.preco_venda).alias('preco_venda_agregado')).show()"
   ]
  },
  {
   "cell_type": "code",
   "execution_count": 38,
   "metadata": {},
   "outputs": [],
   "source": [
    "dataframe_groupby = dataframe_loja_site.groupby(dataframe_loja_site.id_pedido).agg(F.sum(dataframe_loja_site.preco_venda).alias('preco_venda_agregado'))"
   ]
  },
  {
   "cell_type": "code",
   "execution_count": 39,
   "metadata": {},
   "outputs": [
    {
     "data": {
      "text/plain": [
       "45585"
      ]
     },
     "execution_count": 39,
     "metadata": {},
     "output_type": "execute_result"
    }
   ],
   "source": [
    "dataframe_groupby.count()"
   ]
  },
  {
   "cell_type": "code",
   "execution_count": 40,
   "metadata": {},
   "outputs": [
    {
     "name": "stdout",
     "output_type": "stream",
     "text": [
      "+-----------+--------------------+\n",
      "|  id_pedido|preco_venda_agregado|\n",
      "+-----------+--------------------+\n",
      "|-1327358791|                19.9|\n",
      "| -359035740|              599.91|\n",
      "| 1045323572|                18.9|\n",
      "| -933767611|              2851.8|\n",
      "|-1442837451|              1929.0|\n",
      "|  690565871|             1899.98|\n",
      "|-1761271152|               229.9|\n",
      "| -232933969|              846.21|\n",
      "|  767216253|               949.0|\n",
      "| 1116223944|               399.9|\n",
      "|-1419819680|              2549.0|\n",
      "|-1765787008|              106.36|\n",
      "|  619048573|              757.98|\n",
      "|    8329599|              6236.0|\n",
      "|  176572296|              1999.0|\n",
      "|-1375692421|                85.0|\n",
      "|  847022602|               558.0|\n",
      "| 1973451197|              1190.0|\n",
      "|-1955479379|               899.0|\n",
      "|-1396752534|              165.76|\n",
      "+-----------+--------------------+\n",
      "only showing top 20 rows\n",
      "\n"
     ]
    }
   ],
   "source": [
    "dataframe_groupby.show()"
   ]
  },
  {
   "cell_type": "code",
   "execution_count": 41,
   "metadata": {},
   "outputs": [],
   "source": [
    "dataframe_coalesce = dataframe_loja_site.withColumn(\"nova coluna\",  coalesce(dataframe_loja_site.preco_venda, dataframe_loja_site.frete_valor))"
   ]
  },
  {
   "cell_type": "code",
   "execution_count": 42,
   "metadata": {},
   "outputs": [
    {
     "name": "stdout",
     "output_type": "stream",
     "text": [
      "+-----------+-------------------+-----------+-----------+----------+-----------+----------+-----------+\n",
      "|  id_pedido|       data_entrega|frete_valor|     id_ped|id_unidade|preco_venda|quantidade|nova coluna|\n",
      "+-----------+-------------------+-----------+-----------+----------+-----------+----------+-----------+\n",
      "|-2145969532|2019-04-25 16:29:27|      10.71|-2145969532|         8|       59.9|         3|       59.9|\n",
      "|-2144499221|2019-05-02 19:08:03|      68.06|-2144499221|         8|      284.0|         1|      284.0|\n",
      "|-2114249380|2019-04-29 16:20:00|       77.0|-2114249380|         5|     492.48|         1|     492.48|\n",
      "|-2020035985|2019-04-29 15:29:29|      73.87|-2020035985|         1|      559.0|         1|      559.0|\n",
      "|-2018039854|2019-04-22 14:02:18|      32.98|-2018039854|         5|      849.0|         1|      849.0|\n",
      "|-2006859173|2019-04-29 15:55:13|       0.19|-2006859173|         5|      84.34|         1|      84.34|\n",
      "|-1985551657|2019-04-30 12:16:02|       9.76|-1985551657|         5|       49.9|         1|       49.9|\n",
      "|-1980600252|2019-04-24 20:50:07|       99.9|-1980600252|         8|     1159.0|         1|     1159.0|\n",
      "|-1933728206|2019-04-30 15:15:00|       9.29|-1933728206|         5|       16.8|         1|       16.8|\n",
      "|-1933310045|2019-04-29 11:58:09|       19.9|-1933310045|         8|      499.0|         1|      499.0|\n",
      "|-1923455151|2019-04-29 03:04:00|       64.0|-1923455151|         8|      339.0|         1|      339.0|\n",
      "|-1911592504|2019-04-24 21:35:34|       60.2|-1911592504|         8|      158.1|         1|      158.1|\n",
      "|-1901513118|2019-04-30 14:47:20|      26.61|-1901513118|         8|      709.9|         1|      709.9|\n",
      "|-1868751499|2019-04-26 15:41:17|       32.7|-1868751499|         8|      329.9|         1|      329.9|\n",
      "|-1830766702|2019-04-30 00:04:22|       49.7|-1830766702|         8|     849.98|         1|     849.98|\n",
      "|-1830300648|2019-05-02 16:13:13|        9.7|-1830300648|         1|     1319.8|         1|     1319.8|\n",
      "|-1813180563|2019-04-29 20:25:32|      49.99|-1813180563|         5|     1605.5|         1|     1605.5|\n",
      "|-1787802020|2019-04-29 17:50:00|       30.0|-1787802020|         5|       34.8|         1|       34.8|\n",
      "|-1786067732|2019-05-02 03:00:00|        0.0|-1786067732|         8|      559.9|         1|      559.9|\n",
      "|-1779573713|2019-04-25 20:02:14|       24.0|-1779573713|         8|      219.9|         1|      219.9|\n",
      "+-----------+-------------------+-----------+-----------+----------+-----------+----------+-----------+\n",
      "only showing top 20 rows\n",
      "\n"
     ]
    }
   ],
   "source": [
    "dataframe_coalesce.show()"
   ]
  },
  {
   "cell_type": "code",
   "execution_count": 43,
   "metadata": {},
   "outputs": [
    {
     "name": "stdout",
     "output_type": "stream",
     "text": [
      "+-----------+-----------+-----------+\n",
      "|preco_venda|frete_valor|nova coluna|\n",
      "+-----------+-----------+-----------+\n",
      "|       59.9|      10.71|       59.9|\n",
      "|      284.0|      68.06|      284.0|\n",
      "|     492.48|       77.0|     492.48|\n",
      "|      559.0|      73.87|      559.0|\n",
      "|      849.0|      32.98|      849.0|\n",
      "|      84.34|       0.19|      84.34|\n",
      "|       49.9|       9.76|       49.9|\n",
      "|     1159.0|       99.9|     1159.0|\n",
      "|       16.8|       9.29|       16.8|\n",
      "|      499.0|       19.9|      499.0|\n",
      "|      339.0|       64.0|      339.0|\n",
      "|      158.1|       60.2|      158.1|\n",
      "|      709.9|      26.61|      709.9|\n",
      "|      329.9|       32.7|      329.9|\n",
      "|     849.98|       49.7|     849.98|\n",
      "|     1319.8|        9.7|     1319.8|\n",
      "|     1605.5|      49.99|     1605.5|\n",
      "|       34.8|       30.0|       34.8|\n",
      "|      559.9|        0.0|      559.9|\n",
      "|      219.9|       24.0|      219.9|\n",
      "+-----------+-----------+-----------+\n",
      "only showing top 20 rows\n",
      "\n"
     ]
    }
   ],
   "source": [
    "dataframe_coalesce.select(dataframe_coalesce.preco_venda, dataframe_coalesce.frete_valor, dataframe_coalesce['nova coluna']).show(5)"
   ]
  },
  {
   "cell_type": "code",
   "execution_count": 47,
   "metadata": {},
   "outputs": [
    {
     "name": "stdout",
     "output_type": "stream",
     "text": [
      "+---------+------+-------------------+-----------+------+-------------------+\n",
      "|       id|status|        data_pedido|         id|status|        data_pedido|\n",
      "+---------+------+-------------------+-----------+------+-------------------+\n",
      "|283311229|   ENT|2019-02-11 10:16:00|  283311229|   ENT|2019-02-11 10:16:00|\n",
      "|283311229|   ENT|2019-02-11 10:16:00| -804282547|   ENT|2019-02-11 04:00:00|\n",
      "|283311229|   ENT|2019-02-11 10:16:00|-1528509500|   ENT|2019-02-11 11:42:00|\n",
      "|283311229|   ENT|2019-02-11 10:16:00| -118303931|   ENT|2019-02-11 10:10:00|\n",
      "|283311229|   ENT|2019-02-11 10:16:00|-1507015997|   ENT|2019-02-11 04:00:00|\n",
      "|283311229|   ENT|2019-02-11 10:16:00|   63766397|   ENT|2019-02-11 11:52:00|\n",
      "|283311229|   ENT|2019-02-11 10:16:00|  721558001|   ENT|2019-02-11 10:51:00|\n",
      "|283311229|   ENT|2019-02-11 10:16:00| 1418399803|   ENT|2019-02-11 04:00:00|\n",
      "|283311229|   ENT|2019-02-11 10:16:00| -971988028|   ENT|2019-02-11 09:12:00|\n",
      "|283311229|   ENT|2019-02-11 10:16:00| -927189659|   ENT|2019-02-11 11:27:00|\n",
      "|283311229|   ENT|2019-02-11 10:16:00|-1287743050|   ENT|2019-02-11 11:54:00|\n",
      "|283311229|   ENT|2019-02-11 10:16:00| 1549251501|   ENT|2019-02-11 09:14:00|\n",
      "|283311229|   ENT|2019-02-11 10:16:00| -433043814|   ENT|2019-02-11 10:06:00|\n",
      "|283311229|   ENT|2019-02-11 10:16:00| -528396780|   ENT|2019-02-11 10:10:00|\n",
      "|283311229|   ENT|2019-02-11 10:16:00| -187162069|   ENT|2019-02-11 08:45:00|\n",
      "|283311229|   ENT|2019-02-11 10:16:00|  646976484|   ENT|2019-02-11 04:48:00|\n",
      "|283311229|   ENT|2019-02-11 10:16:00| -743190914|   ENT|2019-02-11 10:10:00|\n",
      "|283311229|   ENT|2019-02-11 10:16:00|  931200804|   ENT|2019-02-11 09:56:00|\n",
      "|283311229|   ENT|2019-02-11 10:16:00|  873416484|   ENT|2019-02-11 10:17:00|\n",
      "|283311229|   ENT|2019-02-11 10:16:00|  897137593|   ENT|2019-02-11 10:55:00|\n",
      "+---------+------+-------------------+-----------+------+-------------------+\n",
      "only showing top 20 rows\n",
      "\n"
     ]
    }
   ],
   "source": [
    "dataframe_fevereiro.crossJoin(dataframe_fevereiro.withColumnRenamed(\"id1\",\"id2\")).show(5)"
   ]
  },
  {
   "cell_type": "code",
   "execution_count": 52,
   "metadata": {},
   "outputs": [],
   "source": [
    "dataframe_novo = spark.createDataFrame([\n",
    "    (\"ENT\", \"ENTREGA\"),\n",
    "    (\"RET\", \"RETIRA\"),\n",
    "    (\"TRN\", \"ATRASO\"),\n",
    "    (\"EST\", \"ESTOQUE\")],\n",
    "    [\"id_entrega_status\", \"descricao\"]\n",
    ") "
   ]
  },
  {
   "cell_type": "code",
   "execution_count": 49,
   "metadata": {},
   "outputs": [
    {
     "data": {
      "text/plain": [
       "<bound method DataFrame.describe of DataFrame[id_entrega_status: string, _2: string]>"
      ]
     },
     "execution_count": 49,
     "metadata": {},
     "output_type": "execute_result"
    }
   ],
   "source": [
    "dataframe_novo.describe"
   ]
  },
  {
   "cell_type": "code",
   "execution_count": 53,
   "metadata": {},
   "outputs": [
    {
     "data": {
      "text/plain": [
       "Row(id_entrega_status='ENT', descricao='ENTREGA')"
      ]
     },
     "execution_count": 53,
     "metadata": {},
     "output_type": "execute_result"
    }
   ],
   "source": [
    "dataframe_novo.first()"
   ]
  },
  {
   "cell_type": "code",
   "execution_count": 55,
   "metadata": {},
   "outputs": [],
   "source": [
    "dataframe_descricao = dataframe_contabilidade.join(dataframe_novo, dataframe_contabilidade.status == dataframe_novo.id_entrega_status)"
   ]
  },
  {
   "cell_type": "code",
   "execution_count": 56,
   "metadata": {},
   "outputs": [
    {
     "name": "stdout",
     "output_type": "stream",
     "text": [
      "+-----------+------+-------------------+-----------------+---------+\n",
      "|         id|status|        data_pedido|id_entrega_status|descricao|\n",
      "+-----------+------+-------------------+-----------------+---------+\n",
      "|  283311229|   ENT|2019-02-11 10:16:00|              ENT|  ENTREGA|\n",
      "| -804282547|   ENT|2019-02-11 04:00:00|              ENT|  ENTREGA|\n",
      "|-1528509500|   ENT|2019-02-11 11:42:00|              ENT|  ENTREGA|\n",
      "| -118303931|   ENT|2019-02-11 10:10:00|              ENT|  ENTREGA|\n",
      "|-1507015997|   ENT|2019-02-11 04:00:00|              ENT|  ENTREGA|\n",
      "|   63766397|   ENT|2019-02-11 11:52:00|              ENT|  ENTREGA|\n",
      "|  721558001|   ENT|2019-02-11 10:51:00|              ENT|  ENTREGA|\n",
      "| 1418399803|   ENT|2019-02-11 04:00:00|              ENT|  ENTREGA|\n",
      "| -971988028|   ENT|2019-02-11 09:12:00|              ENT|  ENTREGA|\n",
      "| -927189659|   ENT|2019-02-11 11:27:00|              ENT|  ENTREGA|\n",
      "|-1287743050|   ENT|2019-02-11 11:54:00|              ENT|  ENTREGA|\n",
      "| 1549251501|   ENT|2019-02-11 09:14:00|              ENT|  ENTREGA|\n",
      "| -433043814|   ENT|2019-02-11 10:06:00|              ENT|  ENTREGA|\n",
      "| -528396780|   ENT|2019-02-11 10:10:00|              ENT|  ENTREGA|\n",
      "| -187162069|   ENT|2019-02-11 08:45:00|              ENT|  ENTREGA|\n",
      "|  646976484|   ENT|2019-02-11 04:48:00|              ENT|  ENTREGA|\n",
      "| -743190914|   ENT|2019-02-11 10:10:00|              ENT|  ENTREGA|\n",
      "|  931200804|   ENT|2019-02-11 09:56:00|              ENT|  ENTREGA|\n",
      "|  873416484|   ENT|2019-02-11 10:17:00|              ENT|  ENTREGA|\n",
      "|  897137593|   ENT|2019-02-11 10:55:00|              ENT|  ENTREGA|\n",
      "+-----------+------+-------------------+-----------------+---------+\n",
      "only showing top 20 rows\n",
      "\n"
     ]
    }
   ],
   "source": [
    "dataframe_descricao.show(5)"
   ]
  },
  {
   "cell_type": "code",
   "execution_count": 57,
   "metadata": {},
   "outputs": [],
   "source": [
    "dataframe_pandas = dataframe_descricao.toPandas()"
   ]
  },
  {
   "cell_type": "code",
   "execution_count": null,
   "metadata": {},
   "outputs": [],
   "source": [
    "dataframe_pandas.head(5)"
   ]
  },
  {
   "cell_type": "code",
   "execution_count": 60,
   "metadata": {},
   "outputs": [],
   "source": [
    "dataframe_json = dataframe_fevereiro.toJSON()"
   ]
  },
  {
   "cell_type": "code",
   "execution_count": 61,
   "metadata": {},
   "outputs": [
    {
     "data": {
      "text/plain": [
       "MapPartitionsRDD[256] at toJavaRDD at NativeMethodAccessorImpl.java:0"
      ]
     },
     "execution_count": 61,
     "metadata": {},
     "output_type": "execute_result"
    }
   ],
   "source": [
    "dataframe_json"
   ]
  },
  {
   "cell_type": "code",
   "execution_count": 62,
   "metadata": {
    "scrolled": true
   },
   "outputs": [
    {
     "data": {
      "text/plain": [
       "['{\"id\":283311229,\"status\":\"ENT\",\"data_pedido\":\"2019-02-11T10:16:00.000-02:00\"}',\n",
       " '{\"id\":-804282547,\"status\":\"ENT\",\"data_pedido\":\"2019-02-11T04:00:00.000-02:00\"}',\n",
       " '{\"id\":-1528509500,\"status\":\"ENT\",\"data_pedido\":\"2019-02-11T11:42:00.000-02:00\"}',\n",
       " '{\"id\":-118303931,\"status\":\"ENT\",\"data_pedido\":\"2019-02-11T10:10:00.000-02:00\"}',\n",
       " '{\"id\":-1507015997,\"status\":\"ENT\",\"data_pedido\":\"2019-02-11T04:00:00.000-02:00\"}',\n",
       " '{\"id\":63766397,\"status\":\"ENT\",\"data_pedido\":\"2019-02-11T11:52:00.000-02:00\"}',\n",
       " '{\"id\":721558001,\"status\":\"ENT\",\"data_pedido\":\"2019-02-11T10:51:00.000-02:00\"}',\n",
       " '{\"id\":1418399803,\"status\":\"ENT\",\"data_pedido\":\"2019-02-11T04:00:00.000-02:00\"}',\n",
       " '{\"id\":-971988028,\"status\":\"ENT\",\"data_pedido\":\"2019-02-11T09:12:00.000-02:00\"}',\n",
       " '{\"id\":-927189659,\"status\":\"ENT\",\"data_pedido\":\"2019-02-11T11:27:00.000-02:00\"}',\n",
       " '{\"id\":-1287743050,\"status\":\"ENT\",\"data_pedido\":\"2019-02-11T11:54:00.000-02:00\"}',\n",
       " '{\"id\":1549251501,\"status\":\"ENT\",\"data_pedido\":\"2019-02-11T09:14:00.000-02:00\"}',\n",
       " '{\"id\":-433043814,\"status\":\"ENT\",\"data_pedido\":\"2019-02-11T10:06:00.000-02:00\"}',\n",
       " '{\"id\":-528396780,\"status\":\"ENT\",\"data_pedido\":\"2019-02-11T10:10:00.000-02:00\"}',\n",
       " '{\"id\":-187162069,\"status\":\"ENT\",\"data_pedido\":\"2019-02-11T08:45:00.000-02:00\"}',\n",
       " '{\"id\":646976484,\"status\":\"ENT\",\"data_pedido\":\"2019-02-11T04:48:00.000-02:00\"}',\n",
       " '{\"id\":-743190914,\"status\":\"ENT\",\"data_pedido\":\"2019-02-11T10:10:00.000-02:00\"}',\n",
       " '{\"id\":931200804,\"status\":\"ENT\",\"data_pedido\":\"2019-02-11T09:56:00.000-02:00\"}',\n",
       " '{\"id\":873416484,\"status\":\"ENT\",\"data_pedido\":\"2019-02-11T10:17:00.000-02:00\"}',\n",
       " '{\"id\":897137593,\"status\":\"ENT\",\"data_pedido\":\"2019-02-11T10:55:00.000-02:00\"}',\n",
       " '{\"id\":-447135555,\"status\":\"ENT\",\"data_pedido\":\"2019-02-11T11:35:00.000-02:00\"}',\n",
       " '{\"id\":1648006242,\"status\":\"ENT\",\"data_pedido\":\"2019-02-11T11:40:00.000-02:00\"}',\n",
       " '{\"id\":-818393997,\"status\":\"ENT\",\"data_pedido\":\"2019-02-11T10:10:00.000-02:00\"}',\n",
       " '{\"id\":7468972,\"status\":\"ENT\",\"data_pedido\":\"2019-02-11T11:06:00.000-02:00\"}',\n",
       " '{\"id\":-1869525964,\"status\":\"ENT\",\"data_pedido\":\"2019-02-11T10:47:00.000-02:00\"}',\n",
       " '{\"id\":1238888793,\"status\":\"ENT\",\"data_pedido\":\"2019-02-11T11:40:00.000-02:00\"}',\n",
       " '{\"id\":-1640024174,\"status\":\"ENT\",\"data_pedido\":\"2019-02-11T10:30:00.000-02:00\"}',\n",
       " '{\"id\":698013487,\"status\":\"ENT\",\"data_pedido\":\"2019-02-11T10:09:00.000-02:00\"}',\n",
       " '{\"id\":-1472923634,\"status\":\"ENT\",\"data_pedido\":\"2019-02-11T08:32:00.000-02:00\"}',\n",
       " '{\"id\":1585461005,\"status\":\"ENT\",\"data_pedido\":\"2019-02-11T00:00:00.000-02:00\"}',\n",
       " '{\"id\":-1838936917,\"status\":\"ENT\",\"data_pedido\":\"2019-02-11T09:10:00.000-02:00\"}',\n",
       " '{\"id\":-110176647,\"status\":\"ENT\",\"data_pedido\":\"2019-02-11T11:49:00.000-02:00\"}',\n",
       " '{\"id\":1484311999,\"status\":\"ENT\",\"data_pedido\":\"2019-02-11T12:00:00.000-02:00\"}',\n",
       " '{\"id\":-178936604,\"status\":\"ENT\",\"data_pedido\":\"2019-02-11T07:00:00.000-02:00\"}',\n",
       " '{\"id\":1519283515,\"status\":\"ENT\",\"data_pedido\":\"2019-02-11T12:03:00.000-02:00\"}',\n",
       " '{\"id\":-2013254478,\"status\":\"ENT\",\"data_pedido\":\"2019-02-11T12:22:00.000-02:00\"}',\n",
       " '{\"id\":1731742272,\"status\":\"ENT\",\"data_pedido\":\"2019-02-11T11:40:00.000-02:00\"}',\n",
       " '{\"id\":1472481197,\"status\":\"ENT\",\"data_pedido\":\"2019-02-11T04:00:00.000-02:00\"}',\n",
       " '{\"id\":1215201659,\"status\":\"ENT\",\"data_pedido\":\"2019-02-11T04:00:00.000-02:00\"}',\n",
       " '{\"id\":1330478220,\"status\":\"ENT\",\"data_pedido\":\"2019-02-11T10:41:00.000-02:00\"}',\n",
       " '{\"id\":1654987236,\"status\":\"ENT\",\"data_pedido\":\"2019-02-11T11:53:00.000-02:00\"}',\n",
       " '{\"id\":1474440722,\"status\":\"ENT\",\"data_pedido\":\"2019-02-11T11:40:00.000-02:00\"}',\n",
       " '{\"id\":1904914284,\"status\":\"ENT\",\"data_pedido\":\"2019-02-11T12:03:00.000-02:00\"}',\n",
       " '{\"id\":-27206412,\"status\":\"ENT\",\"data_pedido\":\"2019-02-11T09:15:00.000-02:00\"}',\n",
       " '{\"id\":-376216123,\"status\":\"ENT\",\"data_pedido\":\"2019-02-11T12:15:00.000-02:00\"}',\n",
       " '{\"id\":-380671172,\"status\":\"ENT\",\"data_pedido\":\"2019-02-11T10:07:00.000-02:00\"}',\n",
       " '{\"id\":2068463181,\"status\":\"ENT\",\"data_pedido\":\"2019-02-11T10:04:00.000-02:00\"}',\n",
       " '{\"id\":882072549,\"status\":\"ENT\",\"data_pedido\":\"2019-02-11T09:23:00.000-02:00\"}',\n",
       " '{\"id\":2095633981,\"status\":\"ENT\",\"data_pedido\":\"2019-02-11T11:27:00.000-02:00\"}',\n",
       " '{\"id\":-284288706,\"status\":\"ENT\",\"data_pedido\":\"2019-02-11T04:00:00.000-02:00\"}',\n",
       " '{\"id\":-613475708,\"status\":\"ENT\",\"data_pedido\":\"2019-02-11T04:00:00.000-02:00\"}',\n",
       " '{\"id\":1414511322,\"status\":\"ENT\",\"data_pedido\":\"2019-02-11T11:04:00.000-02:00\"}',\n",
       " '{\"id\":-320522135,\"status\":\"ENT\",\"data_pedido\":\"2019-02-11T11:51:00.000-02:00\"}',\n",
       " '{\"id\":-2048157637,\"status\":\"ENT\",\"data_pedido\":\"2019-02-11T04:00:00.000-02:00\"}',\n",
       " '{\"id\":-343462771,\"status\":\"ENT\",\"data_pedido\":\"2019-02-11T11:44:00.000-02:00\"}',\n",
       " '{\"id\":-490183669,\"status\":\"ENT\",\"data_pedido\":\"2019-02-11T04:00:00.000-02:00\"}',\n",
       " '{\"id\":870682190,\"status\":\"ENT\",\"data_pedido\":\"2019-02-11T04:00:00.000-02:00\"}',\n",
       " '{\"id\":51187917,\"status\":\"ENT\",\"data_pedido\":\"2019-02-11T04:00:00.000-02:00\"}',\n",
       " '{\"id\":-1605412180,\"status\":\"ENT\",\"data_pedido\":\"2019-02-11T11:40:00.000-02:00\"}',\n",
       " '{\"id\":1559883868,\"status\":\"ENT\",\"data_pedido\":\"2019-02-11T11:28:00.000-02:00\"}',\n",
       " '{\"id\":206944907,\"status\":\"ENT\",\"data_pedido\":\"2019-02-11T00:41:00.000-02:00\"}',\n",
       " '{\"id\":-1466843824,\"status\":\"ENT\",\"data_pedido\":\"2019-02-11T00:27:00.000-02:00\"}',\n",
       " '{\"id\":-565629626,\"status\":\"ENT\",\"data_pedido\":\"2019-02-11T11:27:00.000-02:00\"}',\n",
       " '{\"id\":-1054646923,\"status\":\"ENT\",\"data_pedido\":\"2019-02-11T04:00:00.000-02:00\"}',\n",
       " '{\"id\":367127357,\"status\":\"ENT\",\"data_pedido\":\"2019-02-11T04:00:00.000-02:00\"}',\n",
       " '{\"id\":-1367308684,\"status\":\"ENT\",\"data_pedido\":\"2019-02-11T08:51:00.000-02:00\"}',\n",
       " '{\"id\":-1026970471,\"status\":\"ENT\",\"data_pedido\":\"2019-02-11T11:46:00.000-02:00\"}',\n",
       " '{\"id\":-1439458353,\"status\":\"ENT\",\"data_pedido\":\"2019-02-11T09:15:00.000-02:00\"}',\n",
       " '{\"id\":-247072344,\"status\":\"ENT\",\"data_pedido\":\"2019-02-11T11:25:00.000-02:00\"}',\n",
       " '{\"id\":-1758297115,\"status\":\"ENT\",\"data_pedido\":\"2019-02-11T09:25:00.000-02:00\"}',\n",
       " '{\"id\":79162951,\"status\":\"ENT\",\"data_pedido\":\"2019-02-11T11:13:00.000-02:00\"}',\n",
       " '{\"id\":-922521839,\"status\":\"ENT\",\"data_pedido\":\"2019-02-11T00:27:00.000-02:00\"}',\n",
       " '{\"id\":332857306,\"status\":\"ENT\",\"data_pedido\":\"2019-02-11T08:33:00.000-02:00\"}',\n",
       " '{\"id\":-748320113,\"status\":\"ENT\",\"data_pedido\":\"2019-02-11T04:00:00.000-02:00\"}',\n",
       " '{\"id\":1507529517,\"status\":\"ENT\",\"data_pedido\":\"2019-02-11T10:37:00.000-02:00\"}',\n",
       " '{\"id\":-403663778,\"status\":\"ENT\",\"data_pedido\":\"2019-02-11T11:27:00.000-02:00\"}',\n",
       " '{\"id\":801226124,\"status\":\"ENT\",\"data_pedido\":\"2019-02-11T04:00:00.000-02:00\"}',\n",
       " '{\"id\":1700015212,\"status\":\"ENT\",\"data_pedido\":\"2019-02-11T07:30:00.000-02:00\"}',\n",
       " '{\"id\":-99885494,\"status\":\"ENT\",\"data_pedido\":\"2019-02-11T10:00:00.000-02:00\"}',\n",
       " '{\"id\":-1457691472,\"status\":\"ENT\",\"data_pedido\":\"2019-02-11T09:00:00.000-02:00\"}',\n",
       " '{\"id\":324240993,\"status\":\"ENT\",\"data_pedido\":\"2019-02-11T06:34:00.000-02:00\"}',\n",
       " '{\"id\":745893628,\"status\":\"ENT\",\"data_pedido\":\"2019-02-11T11:30:00.000-02:00\"}',\n",
       " '{\"id\":2095224667,\"status\":\"ENT\",\"data_pedido\":\"2019-02-11T10:38:00.000-02:00\"}',\n",
       " '{\"id\":1851751865,\"status\":\"ENT\",\"data_pedido\":\"2019-02-11T10:39:00.000-02:00\"}',\n",
       " '{\"id\":642243792,\"status\":\"ENT\",\"data_pedido\":\"2019-02-11T12:32:00.000-02:00\"}',\n",
       " '{\"id\":1556345799,\"status\":\"ENT\",\"data_pedido\":\"2019-02-11T11:40:00.000-02:00\"}',\n",
       " '{\"id\":-1960880696,\"status\":\"ENT\",\"data_pedido\":\"2019-02-11T04:00:00.000-02:00\"}',\n",
       " '{\"id\":-96050368,\"status\":\"ENT\",\"data_pedido\":\"2019-02-11T11:40:00.000-02:00\"}',\n",
       " '{\"id\":1086591309,\"status\":\"ENT\",\"data_pedido\":\"2019-02-11T04:00:00.000-02:00\"}',\n",
       " '{\"id\":1036233401,\"status\":\"ENT\",\"data_pedido\":\"2019-02-11T10:22:00.000-02:00\"}',\n",
       " '{\"id\":-126883622,\"status\":\"ENT\",\"data_pedido\":\"2019-02-11T12:06:00.000-02:00\"}',\n",
       " '{\"id\":986553646,\"status\":\"ENT\",\"data_pedido\":\"2019-02-11T09:25:00.000-02:00\"}',\n",
       " '{\"id\":768513926,\"status\":\"ENT\",\"data_pedido\":\"2019-02-11T12:13:00.000-02:00\"}',\n",
       " '{\"id\":-44935687,\"status\":\"ENT\",\"data_pedido\":\"2019-02-11T09:09:00.000-02:00\"}',\n",
       " '{\"id\":727654666,\"status\":\"ENT\",\"data_pedido\":\"2019-02-11T07:00:00.000-02:00\"}',\n",
       " '{\"id\":873851528,\"status\":\"ENT\",\"data_pedido\":\"2019-02-11T11:40:00.000-02:00\"}',\n",
       " '{\"id\":141319503,\"status\":\"ENT\",\"data_pedido\":\"2019-02-11T04:00:00.000-02:00\"}',\n",
       " '{\"id\":-1782372525,\"status\":\"ENT\",\"data_pedido\":\"2019-02-11T10:30:00.000-02:00\"}',\n",
       " '{\"id\":-1966548567,\"status\":\"ENT\",\"data_pedido\":\"2019-02-11T08:52:00.000-02:00\"}',\n",
       " '{\"id\":-379397209,\"status\":\"ENT\",\"data_pedido\":\"2019-02-11T11:45:00.000-02:00\"}',\n",
       " '{\"id\":1716415982,\"status\":\"ENT\",\"data_pedido\":\"2019-02-11T12:32:00.000-02:00\"}',\n",
       " '{\"id\":-1966008105,\"status\":\"ENT\",\"data_pedido\":\"2019-02-11T06:36:00.000-02:00\"}',\n",
       " '{\"id\":-1161374362,\"status\":\"ENT\",\"data_pedido\":\"2019-02-11T04:00:00.000-02:00\"}',\n",
       " '{\"id\":1379420004,\"status\":\"ENT\",\"data_pedido\":\"2019-02-11T07:00:00.000-02:00\"}',\n",
       " '{\"id\":-1349313975,\"status\":\"ENT\",\"data_pedido\":\"2019-02-11T11:01:00.000-02:00\"}',\n",
       " '{\"id\":-1433568628,\"status\":\"ENT\",\"data_pedido\":\"2019-02-11T11:55:00.000-02:00\"}',\n",
       " '{\"id\":2003119509,\"status\":\"ENT\",\"data_pedido\":\"2019-02-11T09:05:00.000-02:00\"}',\n",
       " '{\"id\":-1175937954,\"status\":\"ENT\",\"data_pedido\":\"2019-02-11T09:00:00.000-02:00\"}',\n",
       " '{\"id\":2071814721,\"status\":\"ENT\",\"data_pedido\":\"2019-02-11T08:00:00.000-02:00\"}',\n",
       " '{\"id\":-1977347329,\"status\":\"ENT\",\"data_pedido\":\"2019-02-11T04:00:00.000-02:00\"}',\n",
       " '{\"id\":-599989934,\"status\":\"ENT\",\"data_pedido\":\"2019-02-11T12:00:00.000-02:00\"}',\n",
       " '{\"id\":1643061714,\"status\":\"ENT\",\"data_pedido\":\"2019-02-11T07:00:00.000-02:00\"}',\n",
       " '{\"id\":-182876323,\"status\":\"ENT\",\"data_pedido\":\"2019-02-11T04:00:00.000-02:00\"}',\n",
       " '{\"id\":1847487996,\"status\":\"ENT\",\"data_pedido\":\"2019-02-11T12:11:00.000-02:00\"}',\n",
       " '{\"id\":563399282,\"status\":\"ENT\",\"data_pedido\":\"2019-02-11T04:00:00.000-02:00\"}',\n",
       " '{\"id\":2135986957,\"status\":\"ENT\",\"data_pedido\":\"2019-02-11T07:46:00.000-02:00\"}',\n",
       " '{\"id\":635933825,\"status\":\"ENT\",\"data_pedido\":\"2019-02-11T10:00:00.000-02:00\"}',\n",
       " '{\"id\":1634390259,\"status\":\"ENT\",\"data_pedido\":\"2019-02-11T11:54:00.000-02:00\"}',\n",
       " '{\"id\":-595551335,\"status\":\"ENT\",\"data_pedido\":\"2019-02-11T07:26:00.000-02:00\"}',\n",
       " '{\"id\":1484420074,\"status\":\"ENT\",\"data_pedido\":\"2019-02-11T07:12:00.000-02:00\"}',\n",
       " '{\"id\":969948651,\"status\":\"ENT\",\"data_pedido\":\"2019-02-11T10:30:00.000-02:00\"}',\n",
       " '{\"id\":-1867471722,\"status\":\"ENT\",\"data_pedido\":\"2019-02-11T09:09:00.000-02:00\"}',\n",
       " '{\"id\":1427084078,\"status\":\"ENT\",\"data_pedido\":\"2019-02-11T09:26:00.000-02:00\"}',\n",
       " '{\"id\":-1917787609,\"status\":\"ENT\",\"data_pedido\":\"2019-02-11T12:12:00.000-02:00\"}',\n",
       " '{\"id\":-1512533100,\"status\":\"ENT\",\"data_pedido\":\"2019-02-11T11:00:00.000-02:00\"}',\n",
       " '{\"id\":1973543201,\"status\":\"ENT\",\"data_pedido\":\"2019-02-11T09:26:00.000-02:00\"}',\n",
       " '{\"id\":-528932568,\"status\":\"ENT\",\"data_pedido\":\"2019-02-11T04:00:00.000-02:00\"}',\n",
       " '{\"id\":-255509845,\"status\":\"ENT\",\"data_pedido\":\"2019-02-11T09:51:00.000-02:00\"}',\n",
       " '{\"id\":969948651,\"status\":\"ENT\",\"data_pedido\":\"2019-02-11T10:30:00.000-02:00\"}',\n",
       " '{\"id\":492576052,\"status\":\"ENT\",\"data_pedido\":\"2019-02-11T11:15:00.000-02:00\"}',\n",
       " '{\"id\":1884473385,\"status\":\"ENT\",\"data_pedido\":\"2019-02-11T09:27:00.000-02:00\"}',\n",
       " '{\"id\":962210874,\"status\":\"ENT\",\"data_pedido\":\"2019-02-11T04:00:00.000-02:00\"}',\n",
       " '{\"id\":1492581031,\"status\":\"ENT\",\"data_pedido\":\"2019-02-11T08:14:00.000-02:00\"}',\n",
       " '{\"id\":505004626,\"status\":\"ENT\",\"data_pedido\":\"2019-02-11T11:53:00.000-02:00\"}',\n",
       " '{\"id\":505004626,\"status\":\"ENT\",\"data_pedido\":\"2019-02-11T11:54:00.000-02:00\"}',\n",
       " '{\"id\":505004626,\"status\":\"ENT\",\"data_pedido\":\"2019-02-11T11:54:00.000-02:00\"}',\n",
       " '{\"id\":1797229142,\"status\":\"ENT\",\"data_pedido\":\"2019-02-11T04:00:00.000-02:00\"}',\n",
       " '{\"id\":-1006762855,\"status\":\"ENT\",\"data_pedido\":\"2019-02-11T11:40:00.000-02:00\"}',\n",
       " '{\"id\":-1631210885,\"status\":\"ENT\",\"data_pedido\":\"2019-02-11T04:00:00.000-02:00\"}',\n",
       " '{\"id\":-1911331115,\"status\":\"ENT\",\"data_pedido\":\"2019-02-11T11:39:00.000-02:00\"}',\n",
       " '{\"id\":-844032323,\"status\":\"ENT\",\"data_pedido\":\"2019-02-11T11:39:00.000-02:00\"}',\n",
       " '{\"id\":1441331866,\"status\":\"ENT\",\"data_pedido\":\"2019-02-11T11:24:00.000-02:00\"}',\n",
       " '{\"id\":-2065353990,\"status\":\"ENT\",\"data_pedido\":\"2019-02-11T10:37:00.000-02:00\"}',\n",
       " '{\"id\":-1936835084,\"status\":\"ENT\",\"data_pedido\":\"2019-02-11T10:30:00.000-02:00\"}',\n",
       " '{\"id\":-177707528,\"status\":\"ENT\",\"data_pedido\":\"2019-02-11T10:11:00.000-02:00\"}',\n",
       " '{\"id\":1187590846,\"status\":\"ENT\",\"data_pedido\":\"2019-02-11T11:21:00.000-02:00\"}',\n",
       " '{\"id\":-593986645,\"status\":\"ENT\",\"data_pedido\":\"2019-02-11T11:36:00.000-02:00\"}',\n",
       " '{\"id\":48986791,\"status\":\"ENT\",\"data_pedido\":\"2019-02-11T08:11:00.000-02:00\"}',\n",
       " '{\"id\":-825657848,\"status\":\"ENT\",\"data_pedido\":\"2019-02-11T11:10:00.000-02:00\"}',\n",
       " '{\"id\":-1981476126,\"status\":\"ENT\",\"data_pedido\":\"2019-02-11T04:00:00.000-02:00\"}',\n",
       " '{\"id\":-1438026047,\"status\":\"ENT\",\"data_pedido\":\"2019-02-11T04:00:00.000-02:00\"}',\n",
       " '{\"id\":1387993628,\"status\":\"ENT\",\"data_pedido\":\"2019-02-11T11:09:00.000-02:00\"}',\n",
       " '{\"id\":1387993628,\"status\":\"ENT\",\"data_pedido\":\"2019-02-11T11:09:00.000-02:00\"}',\n",
       " '{\"id\":-1413677655,\"status\":\"ENT\",\"data_pedido\":\"2019-02-11T09:11:00.000-02:00\"}',\n",
       " '{\"id\":-1530383149,\"status\":\"ENT\",\"data_pedido\":\"2019-02-11T08:14:00.000-02:00\"}',\n",
       " '{\"id\":-54990070,\"status\":\"ENT\",\"data_pedido\":\"2019-02-11T12:31:00.000-02:00\"}',\n",
       " '{\"id\":904843189,\"status\":\"ENT\",\"data_pedido\":\"2019-02-11T04:00:00.000-02:00\"}',\n",
       " '{\"id\":-260116059,\"status\":\"ENT\",\"data_pedido\":\"2019-02-11T08:45:00.000-02:00\"}',\n",
       " '{\"id\":991135008,\"status\":\"ENT\",\"data_pedido\":\"2019-02-11T10:00:00.000-02:00\"}',\n",
       " '{\"id\":-1202309214,\"status\":\"ENT\",\"data_pedido\":\"2019-02-11T11:59:00.000-02:00\"}',\n",
       " '{\"id\":-1202309214,\"status\":\"ENT\",\"data_pedido\":\"2019-02-11T11:59:00.000-02:00\"}',\n",
       " '{\"id\":-1202309214,\"status\":\"ENT\",\"data_pedido\":\"2019-02-11T11:59:00.000-02:00\"}',\n",
       " '{\"id\":1889401230,\"status\":\"ENT\",\"data_pedido\":\"2019-02-11T04:00:00.000-02:00\"}',\n",
       " '{\"id\":-1218587990,\"status\":\"ENT\",\"data_pedido\":\"2019-02-11T10:09:00.000-02:00\"}',\n",
       " '{\"id\":-1993076803,\"status\":\"ENT\",\"data_pedido\":\"2019-02-11T11:45:00.000-02:00\"}',\n",
       " '{\"id\":1351630594,\"status\":\"ENT\",\"data_pedido\":\"2019-02-11T06:36:00.000-02:00\"}',\n",
       " '{\"id\":-1857413726,\"status\":\"ENT\",\"data_pedido\":\"2019-02-11T07:56:00.000-02:00\"}',\n",
       " '{\"id\":798162626,\"status\":\"ENT\",\"data_pedido\":\"2019-02-11T10:41:00.000-02:00\"}',\n",
       " '{\"id\":-1147216643,\"status\":\"ENT\",\"data_pedido\":\"2019-02-11T07:00:00.000-02:00\"}',\n",
       " '{\"id\":-935607817,\"status\":\"ENT\",\"data_pedido\":\"2019-02-11T07:43:00.000-02:00\"}',\n",
       " '{\"id\":-1186101329,\"status\":\"ENT\",\"data_pedido\":\"2019-02-11T09:25:00.000-02:00\"}',\n",
       " '{\"id\":208278646,\"status\":\"ENT\",\"data_pedido\":\"2019-02-11T10:37:00.000-02:00\"}',\n",
       " '{\"id\":1703342691,\"status\":\"ENT\",\"data_pedido\":\"2019-02-11T12:19:00.000-02:00\"}',\n",
       " '{\"id\":-527727728,\"status\":\"ENT\",\"data_pedido\":\"2019-02-11T07:00:00.000-02:00\"}',\n",
       " '{\"id\":-351499269,\"status\":\"ENT\",\"data_pedido\":\"2019-02-11T09:36:00.000-02:00\"}',\n",
       " '{\"id\":2143307342,\"status\":\"ENT\",\"data_pedido\":\"2019-02-11T07:00:00.000-02:00\"}',\n",
       " '{\"id\":-2060746485,\"status\":\"ENT\",\"data_pedido\":\"2019-02-11T10:53:00.000-02:00\"}',\n",
       " '{\"id\":1103626865,\"status\":\"ENT\",\"data_pedido\":\"2019-02-11T04:00:00.000-02:00\"}',\n",
       " '{\"id\":1485278552,\"status\":\"ENT\",\"data_pedido\":\"2019-02-11T12:27:00.000-02:00\"}',\n",
       " '{\"id\":1150715675,\"status\":\"ENT\",\"data_pedido\":\"2019-02-11T04:00:00.000-02:00\"}',\n",
       " '{\"id\":791873398,\"status\":\"ENT\",\"data_pedido\":\"2019-02-11T04:00:00.000-02:00\"}',\n",
       " '{\"id\":-136768604,\"status\":\"ENT\",\"data_pedido\":\"2019-02-11T07:00:00.000-02:00\"}',\n",
       " '{\"id\":1824067875,\"status\":\"ENT\",\"data_pedido\":\"2019-02-11T11:56:00.000-02:00\"}',\n",
       " '{\"id\":215385853,\"status\":\"ENT\",\"data_pedido\":\"2019-02-11T04:00:00.000-02:00\"}',\n",
       " '{\"id\":-2045000603,\"status\":\"ENT\",\"data_pedido\":\"2019-02-11T08:14:00.000-02:00\"}',\n",
       " '{\"id\":937780027,\"status\":\"ENT\",\"data_pedido\":\"2019-02-11T10:05:00.000-02:00\"}',\n",
       " '{\"id\":-38147614,\"status\":\"ENT\",\"data_pedido\":\"2019-02-11T10:30:00.000-02:00\"}',\n",
       " '{\"id\":-2073988517,\"status\":\"ENT\",\"data_pedido\":\"2019-02-11T04:00:00.000-02:00\"}',\n",
       " '{\"id\":-1434861466,\"status\":\"ENT\",\"data_pedido\":\"2019-02-11T08:36:00.000-02:00\"}',\n",
       " '{\"id\":1310748442,\"status\":\"ENT\",\"data_pedido\":\"2019-02-11T11:56:00.000-02:00\"}',\n",
       " '{\"id\":60759952,\"status\":\"ENT\",\"data_pedido\":\"2019-02-11T04:00:00.000-02:00\"}',\n",
       " '{\"id\":945834781,\"status\":\"ENT\",\"data_pedido\":\"2019-02-11T10:08:00.000-02:00\"}',\n",
       " '{\"id\":532420756,\"status\":\"ENT\",\"data_pedido\":\"2019-02-11T12:31:00.000-02:00\"}',\n",
       " '{\"id\":1207896314,\"status\":\"ENT\",\"data_pedido\":\"2019-02-11T09:05:00.000-02:00\"}',\n",
       " '{\"id\":1507336863,\"status\":\"ENT\",\"data_pedido\":\"2019-02-11T11:00:00.000-02:00\"}',\n",
       " '{\"id\":-1271289759,\"status\":\"ENT\",\"data_pedido\":\"2019-02-11T11:45:00.000-02:00\"}',\n",
       " '{\"id\":1103626865,\"status\":\"ENT\",\"data_pedido\":\"2019-02-11T04:00:00.000-02:00\"}',\n",
       " '{\"id\":1103626865,\"status\":\"ENT\",\"data_pedido\":\"2019-02-11T04:00:00.000-02:00\"}',\n",
       " '{\"id\":-771075535,\"status\":\"ENT\",\"data_pedido\":\"2019-02-11T11:46:00.000-02:00\"}',\n",
       " '{\"id\":133277939,\"status\":\"ENT\",\"data_pedido\":\"2019-02-11T06:36:00.000-02:00\"}',\n",
       " '{\"id\":-157493992,\"status\":\"ENT\",\"data_pedido\":\"2019-02-11T10:37:00.000-02:00\"}',\n",
       " '{\"id\":-1245686805,\"status\":\"ENT\",\"data_pedido\":\"2019-02-11T09:39:00.000-02:00\"}',\n",
       " '{\"id\":1482288525,\"status\":\"ENT\",\"data_pedido\":\"2019-02-11T04:00:00.000-02:00\"}',\n",
       " '{\"id\":-1959202445,\"status\":\"ENT\",\"data_pedido\":\"2019-02-11T10:54:00.000-02:00\"}',\n",
       " '{\"id\":-791220443,\"status\":\"ENT\",\"data_pedido\":\"2019-02-11T11:00:00.000-02:00\"}',\n",
       " '{\"id\":1611762160,\"status\":\"ENT\",\"data_pedido\":\"2019-02-11T06:36:00.000-02:00\"}',\n",
       " '{\"id\":1950391773,\"status\":\"ENT\",\"data_pedido\":\"2019-02-11T04:00:00.000-02:00\"}',\n",
       " '{\"id\":1571394073,\"status\":\"ENT\",\"data_pedido\":\"2019-02-11T11:37:00.000-02:00\"}',\n",
       " '{\"id\":2030626147,\"status\":\"ENT\",\"data_pedido\":\"2019-02-11T10:37:00.000-02:00\"}',\n",
       " '{\"id\":1252510927,\"status\":\"ENT\",\"data_pedido\":\"2019-02-11T06:36:00.000-02:00\"}',\n",
       " '{\"id\":-648188512,\"status\":\"ENT\",\"data_pedido\":\"2019-02-11T06:36:00.000-02:00\"}',\n",
       " '{\"id\":1159080101,\"status\":\"ENT\",\"data_pedido\":\"2019-02-11T06:36:00.000-02:00\"}',\n",
       " '{\"id\":-1120749587,\"status\":\"ENT\",\"data_pedido\":\"2019-02-11T11:15:00.000-02:00\"}',\n",
       " '{\"id\":-310664690,\"status\":\"ENT\",\"data_pedido\":\"2019-02-11T07:34:00.000-02:00\"}',\n",
       " '{\"id\":516483224,\"status\":\"ENT\",\"data_pedido\":\"2019-02-11T09:18:00.000-02:00\"}',\n",
       " '{\"id\":-38147614,\"status\":\"ENT\",\"data_pedido\":\"2019-02-11T10:30:00.000-02:00\"}',\n",
       " '{\"id\":-1675530359,\"status\":\"ENT\",\"data_pedido\":\"2019-02-11T00:34:00.000-02:00\"}',\n",
       " '{\"id\":202577575,\"status\":\"ENT\",\"data_pedido\":\"2019-02-11T11:37:00.000-02:00\"}',\n",
       " '{\"id\":-1214354288,\"status\":\"ENT\",\"data_pedido\":\"2019-02-11T11:50:00.000-02:00\"}',\n",
       " '{\"id\":-1311196740,\"status\":\"ENT\",\"data_pedido\":\"2019-02-11T09:15:00.000-02:00\"}',\n",
       " '{\"id\":414817779,\"status\":\"ENT\",\"data_pedido\":\"2019-02-11T06:36:00.000-02:00\"}',\n",
       " '{\"id\":-12063404,\"status\":\"ENT\",\"data_pedido\":\"2019-02-11T04:00:00.000-02:00\"}',\n",
       " '{\"id\":-500658268,\"status\":\"ENT\",\"data_pedido\":\"2019-02-11T09:50:00.000-02:00\"}',\n",
       " '{\"id\":1319685254,\"status\":\"ENT\",\"data_pedido\":\"2019-02-11T07:56:00.000-02:00\"}',\n",
       " '{\"id\":312554054,\"status\":\"ENT\",\"data_pedido\":\"2019-02-11T12:28:00.000-02:00\"}',\n",
       " '{\"id\":312554054,\"status\":\"ENT\",\"data_pedido\":\"2019-02-11T12:28:00.000-02:00\"}',\n",
       " '{\"id\":-41931513,\"status\":\"ENT\",\"data_pedido\":\"2019-02-11T07:00:00.000-02:00\"}',\n",
       " '{\"id\":-1227704334,\"status\":\"ENT\",\"data_pedido\":\"2019-02-11T10:31:00.000-02:00\"}',\n",
       " '{\"id\":1152005423,\"status\":\"ENT\",\"data_pedido\":\"2019-02-11T11:56:00.000-02:00\"}',\n",
       " '{\"id\":-540168924,\"status\":\"ENT\",\"data_pedido\":\"2019-02-11T10:37:00.000-02:00\"}',\n",
       " '{\"id\":-2016443314,\"status\":\"ENT\",\"data_pedido\":\"2019-02-11T04:00:00.000-02:00\"}',\n",
       " '{\"id\":-652475085,\"status\":\"ENT\",\"data_pedido\":\"2019-02-11T04:00:00.000-02:00\"}',\n",
       " '{\"id\":-351499269,\"status\":\"ENT\",\"data_pedido\":\"2019-02-11T09:36:00.000-02:00\"}',\n",
       " '{\"id\":-584807276,\"status\":\"ENT\",\"data_pedido\":\"2019-02-11T04:00:00.000-02:00\"}',\n",
       " '{\"id\":-1387065136,\"status\":\"ENT\",\"data_pedido\":\"2019-02-11T11:30:00.000-02:00\"}',\n",
       " '{\"id\":1946944782,\"status\":\"ENT\",\"data_pedido\":\"2019-02-11T11:02:00.000-02:00\"}',\n",
       " '{\"id\":-2078209039,\"status\":\"ENT\",\"data_pedido\":\"2019-02-11T04:00:00.000-02:00\"}',\n",
       " '{\"id\":-1419049917,\"status\":\"ENT\",\"data_pedido\":\"2019-02-11T07:11:00.000-02:00\"}',\n",
       " '{\"id\":-1793804441,\"status\":\"ENT\",\"data_pedido\":\"2019-02-11T10:31:00.000-02:00\"}',\n",
       " '{\"id\":1494567085,\"status\":\"ENT\",\"data_pedido\":\"2019-02-11T04:00:00.000-02:00\"}',\n",
       " '{\"id\":-1668973143,\"status\":\"ENT\",\"data_pedido\":\"2019-02-11T11:28:00.000-02:00\"}',\n",
       " '{\"id\":587293475,\"status\":\"ENT\",\"data_pedido\":\"2019-02-11T09:57:00.000-02:00\"}',\n",
       " '{\"id\":1537408572,\"status\":\"ENT\",\"data_pedido\":\"2019-02-11T11:25:00.000-02:00\"}',\n",
       " '{\"id\":1815597482,\"status\":\"ENT\",\"data_pedido\":\"2019-02-11T10:37:00.000-02:00\"}',\n",
       " '{\"id\":165700924,\"status\":\"ENT\",\"data_pedido\":\"2019-02-11T08:12:00.000-02:00\"}',\n",
       " '{\"id\":165700924,\"status\":\"ENT\",\"data_pedido\":\"2019-02-11T08:12:00.000-02:00\"}',\n",
       " '{\"id\":165700924,\"status\":\"ENT\",\"data_pedido\":\"2019-02-11T08:12:00.000-02:00\"}',\n",
       " '{\"id\":-2003919449,\"status\":\"ENT\",\"data_pedido\":\"2019-02-11T07:00:00.000-02:00\"}',\n",
       " '{\"id\":-487695568,\"status\":\"ENT\",\"data_pedido\":\"2019-02-11T07:00:00.000-02:00\"}',\n",
       " '{\"id\":-1456210380,\"status\":\"ENT\",\"data_pedido\":\"2019-02-11T07:00:00.000-02:00\"}',\n",
       " '{\"id\":-485595303,\"status\":\"ENT\",\"data_pedido\":\"2019-02-11T07:30:00.000-02:00\"}',\n",
       " '{\"id\":-412820607,\"status\":\"ENT\",\"data_pedido\":\"2019-02-11T09:15:00.000-02:00\"}',\n",
       " '{\"id\":-412820607,\"status\":\"ENT\",\"data_pedido\":\"2019-02-11T09:15:00.000-02:00\"}',\n",
       " '{\"id\":-412820607,\"status\":\"ENT\",\"data_pedido\":\"2019-02-11T09:15:00.000-02:00\"}',\n",
       " '{\"id\":1970005653,\"status\":\"ENT\",\"data_pedido\":\"2019-02-11T11:44:00.000-02:00\"}',\n",
       " '{\"id\":-29055618,\"status\":\"ENT\",\"data_pedido\":\"2019-02-11T11:00:00.000-02:00\"}',\n",
       " '{\"id\":1638176135,\"status\":\"ENT\",\"data_pedido\":\"2019-02-11T11:00:00.000-02:00\"}',\n",
       " '{\"id\":-1689013650,\"status\":\"ENT\",\"data_pedido\":\"2019-02-11T10:46:00.000-02:00\"}',\n",
       " '{\"id\":1463568291,\"status\":\"ENT\",\"data_pedido\":\"2019-02-11T11:37:00.000-02:00\"}',\n",
       " '{\"id\":868937727,\"status\":\"ENT\",\"data_pedido\":\"2019-02-11T10:21:00.000-02:00\"}',\n",
       " '{\"id\":-2000968835,\"status\":\"ENT\",\"data_pedido\":\"2019-02-11T11:39:00.000-02:00\"}',\n",
       " '{\"id\":-664084480,\"status\":\"ENT\",\"data_pedido\":\"2019-02-11T04:00:00.000-02:00\"}',\n",
       " '{\"id\":-983475606,\"status\":\"ENT\",\"data_pedido\":\"2019-02-11T04:00:00.000-02:00\"}',\n",
       " '{\"id\":-1734527570,\"status\":\"ENT\",\"data_pedido\":\"2019-02-11T04:00:00.000-02:00\"}',\n",
       " '{\"id\":1404179778,\"status\":\"ENT\",\"data_pedido\":\"2019-02-11T04:00:00.000-02:00\"}',\n",
       " '{\"id\":1330737912,\"status\":\"ENT\",\"data_pedido\":\"2019-02-11T07:11:00.000-02:00\"}',\n",
       " '{\"id\":-1220523903,\"status\":\"ENT\",\"data_pedido\":\"2019-02-11T10:57:00.000-02:00\"}',\n",
       " '{\"id\":-1924890966,\"status\":\"ENT\",\"data_pedido\":\"2019-02-11T11:34:00.000-02:00\"}',\n",
       " '{\"id\":-1723388315,\"status\":\"ENT\",\"data_pedido\":\"2019-02-11T07:00:00.000-02:00\"}',\n",
       " '{\"id\":-1888179948,\"status\":\"ENT\",\"data_pedido\":\"2019-02-11T11:29:00.000-02:00\"}',\n",
       " '{\"id\":1234202002,\"status\":\"ENT\",\"data_pedido\":\"2019-02-11T10:28:00.000-02:00\"}',\n",
       " '{\"id\":-1732697208,\"status\":\"ENT\",\"data_pedido\":\"2019-02-11T09:53:00.000-02:00\"}',\n",
       " '{\"id\":86624859,\"status\":\"ENT\",\"data_pedido\":\"2019-02-11T08:57:00.000-02:00\"}',\n",
       " '{\"id\":-1163788477,\"status\":\"ENT\",\"data_pedido\":\"2019-02-11T07:00:00.000-02:00\"}',\n",
       " '{\"id\":455663664,\"status\":\"ENT\",\"data_pedido\":\"2019-02-11T11:26:00.000-02:00\"}',\n",
       " '{\"id\":1436339288,\"status\":\"ENT\",\"data_pedido\":\"2019-02-11T10:06:00.000-02:00\"}',\n",
       " '{\"id\":-1876890939,\"status\":\"ENT\",\"data_pedido\":\"2019-02-11T11:26:00.000-02:00\"}',\n",
       " '{\"id\":927825574,\"status\":\"ENT\",\"data_pedido\":\"2019-02-11T11:16:00.000-02:00\"}',\n",
       " '{\"id\":-1063301680,\"status\":\"ENT\",\"data_pedido\":\"2019-02-11T11:36:00.000-02:00\"}',\n",
       " '{\"id\":-818280404,\"status\":\"ENT\",\"data_pedido\":\"2019-02-11T11:01:00.000-02:00\"}',\n",
       " '{\"id\":-1986364915,\"status\":\"ENT\",\"data_pedido\":\"2019-02-11T07:00:00.000-02:00\"}',\n",
       " '{\"id\":117701787,\"status\":\"ENT\",\"data_pedido\":\"2019-02-11T11:25:00.000-02:00\"}',\n",
       " '{\"id\":-1588690871,\"status\":\"ENT\",\"data_pedido\":\"2019-02-11T07:00:00.000-02:00\"}',\n",
       " '{\"id\":1293769462,\"status\":\"ENT\",\"data_pedido\":\"2019-02-11T09:03:00.000-02:00\"}',\n",
       " '{\"id\":1874144402,\"status\":\"ENT\",\"data_pedido\":\"2019-02-11T12:21:00.000-02:00\"}',\n",
       " '{\"id\":-703298387,\"status\":\"ENT\",\"data_pedido\":\"2019-02-11T11:15:00.000-02:00\"}',\n",
       " '{\"id\":-1313660920,\"status\":\"ENT\",\"data_pedido\":\"2019-02-11T09:06:00.000-02:00\"}',\n",
       " '{\"id\":1250170632,\"status\":\"ENT\",\"data_pedido\":\"2019-02-11T09:06:00.000-02:00\"}',\n",
       " '{\"id\":1938064864,\"status\":\"ENT\",\"data_pedido\":\"2019-02-11T09:06:00.000-02:00\"}',\n",
       " '{\"id\":1272443304,\"status\":\"ENT\",\"data_pedido\":\"2019-02-11T10:51:00.000-02:00\"}',\n",
       " '{\"id\":747767331,\"status\":\"ENT\",\"data_pedido\":\"2019-02-11T11:31:00.000-02:00\"}',\n",
       " '{\"id\":-948464098,\"status\":\"ENT\",\"data_pedido\":\"2019-02-11T10:37:00.000-02:00\"}',\n",
       " '{\"id\":1975604149,\"status\":\"ENT\",\"data_pedido\":\"2019-02-11T11:25:00.000-02:00\"}',\n",
       " '{\"id\":-173639842,\"status\":\"ENT\",\"data_pedido\":\"2019-02-11T11:30:00.000-02:00\"}',\n",
       " '{\"id\":1984500182,\"status\":\"ENT\",\"data_pedido\":\"2019-02-11T12:08:00.000-02:00\"}',\n",
       " '{\"id\":-1116851363,\"status\":\"ENT\",\"data_pedido\":\"2019-02-11T09:00:00.000-02:00\"}',\n",
       " '{\"id\":-2139683818,\"status\":\"ENT\",\"data_pedido\":\"2019-02-11T09:45:00.000-02:00\"}',\n",
       " '{\"id\":819817932,\"status\":\"ENT\",\"data_pedido\":\"2019-02-11T10:10:00.000-02:00\"}',\n",
       " '{\"id\":-1691446092,\"status\":\"ENT\",\"data_pedido\":\"2019-02-11T11:25:00.000-02:00\"}',\n",
       " '{\"id\":-39109732,\"status\":\"ENT\",\"data_pedido\":\"2019-02-11T12:22:00.000-02:00\"}',\n",
       " '{\"id\":-126094870,\"status\":\"ENT\",\"data_pedido\":\"2019-02-11T04:00:00.000-02:00\"}',\n",
       " '{\"id\":2019922012,\"status\":\"ENT\",\"data_pedido\":\"2019-02-11T10:36:00.000-02:00\"}',\n",
       " '{\"id\":1963096807,\"status\":\"ENT\",\"data_pedido\":\"2019-02-11T10:37:00.000-02:00\"}',\n",
       " '{\"id\":360955219,\"status\":\"ENT\",\"data_pedido\":\"2019-02-11T04:00:00.000-02:00\"}',\n",
       " '{\"id\":535670933,\"status\":\"ENT\",\"data_pedido\":\"2019-02-11T04:00:00.000-02:00\"}',\n",
       " '{\"id\":-279343046,\"status\":\"ENT\",\"data_pedido\":\"2019-02-11T11:51:00.000-02:00\"}',\n",
       " '{\"id\":-304540935,\"status\":\"ENT\",\"data_pedido\":\"2019-02-11T10:37:00.000-02:00\"}',\n",
       " '{\"id\":-426751216,\"status\":\"ENT\",\"data_pedido\":\"2019-02-11T11:35:00.000-02:00\"}',\n",
       " '{\"id\":-1365817376,\"status\":\"ENT\",\"data_pedido\":\"2019-02-11T04:00:00.000-02:00\"}',\n",
       " '{\"id\":1872901051,\"status\":\"ENT\",\"data_pedido\":\"2019-02-11T06:36:00.000-02:00\"}',\n",
       " '{\"id\":863690874,\"status\":\"ENT\",\"data_pedido\":\"2019-02-11T11:56:00.000-02:00\"}',\n",
       " '{\"id\":354755230,\"status\":\"ENT\",\"data_pedido\":\"2019-02-11T08:10:00.000-02:00\"}',\n",
       " '{\"id\":793363513,\"status\":\"ENT\",\"data_pedido\":\"2019-02-11T07:00:00.000-02:00\"}',\n",
       " '{\"id\":-149853919,\"status\":\"ENT\",\"data_pedido\":\"2019-02-11T04:00:00.000-02:00\"}',\n",
       " '{\"id\":-1906958097,\"status\":\"ENT\",\"data_pedido\":\"2019-02-11T07:00:00.000-02:00\"}',\n",
       " '{\"id\":1009236833,\"status\":\"ENT\",\"data_pedido\":\"2019-02-11T07:00:00.000-02:00\"}',\n",
       " '{\"id\":-1370118344,\"status\":\"ENT\",\"data_pedido\":\"2019-02-11T10:31:00.000-02:00\"}',\n",
       " '{\"id\":920338903,\"status\":\"ENT\",\"data_pedido\":\"2019-02-11T11:40:00.000-02:00\"}',\n",
       " '{\"id\":663581390,\"status\":\"ENT\",\"data_pedido\":\"2019-02-11T07:00:00.000-02:00\"}',\n",
       " '{\"id\":1767931554,\"status\":\"ENT\",\"data_pedido\":\"2019-02-11T10:21:00.000-02:00\"}',\n",
       " '{\"id\":1621470748,\"status\":\"ENT\",\"data_pedido\":\"2019-02-11T07:00:00.000-02:00\"}',\n",
       " '{\"id\":-595423441,\"status\":\"ENT\",\"data_pedido\":\"2019-02-11T04:00:00.000-02:00\"}',\n",
       " '{\"id\":819617350,\"status\":\"ENT\",\"data_pedido\":\"2019-02-11T08:37:00.000-02:00\"}',\n",
       " '{\"id\":1603420604,\"status\":\"ENT\",\"data_pedido\":\"2019-02-11T11:24:00.000-02:00\"}',\n",
       " '{\"id\":-1825925405,\"status\":\"ENT\",\"data_pedido\":\"2019-02-11T11:00:00.000-02:00\"}',\n",
       " '{\"id\":-1285217783,\"status\":\"ENT\",\"data_pedido\":\"2019-02-11T07:00:00.000-02:00\"}',\n",
       " '{\"id\":-1450681877,\"status\":\"ENT\",\"data_pedido\":\"2019-02-11T12:23:00.000-02:00\"}',\n",
       " '{\"id\":1382195314,\"status\":\"ENT\",\"data_pedido\":\"2019-02-11T10:22:00.000-02:00\"}',\n",
       " '{\"id\":1371904516,\"status\":\"ENT\",\"data_pedido\":\"2019-02-11T11:45:00.000-02:00\"}',\n",
       " '{\"id\":1159789410,\"status\":\"ENT\",\"data_pedido\":\"2019-02-11T08:10:00.000-02:00\"}',\n",
       " '{\"id\":1608580086,\"status\":\"ENT\",\"data_pedido\":\"2019-02-11T12:10:00.000-02:00\"}',\n",
       " '{\"id\":1608580086,\"status\":\"ENT\",\"data_pedido\":\"2019-02-11T12:10:00.000-02:00\"}',\n",
       " '{\"id\":1302903856,\"status\":\"ENT\",\"data_pedido\":\"2019-02-11T10:00:00.000-02:00\"}',\n",
       " '{\"id\":-39074673,\"status\":\"ENT\",\"data_pedido\":\"2019-02-11T11:08:00.000-02:00\"}',\n",
       " '{\"id\":-39074673,\"status\":\"ENT\",\"data_pedido\":\"2019-02-11T11:08:00.000-02:00\"}',\n",
       " '{\"id\":-39074673,\"status\":\"ENT\",\"data_pedido\":\"2019-02-11T11:08:00.000-02:00\"}',\n",
       " '{\"id\":-39074673,\"status\":\"ENT\",\"data_pedido\":\"2019-02-11T11:08:00.000-02:00\"}',\n",
       " '{\"id\":870830400,\"status\":\"ENT\",\"data_pedido\":\"2019-02-11T11:40:00.000-02:00\"}',\n",
       " '{\"id\":-2095783222,\"status\":\"ENT\",\"data_pedido\":\"2019-02-11T09:50:00.000-02:00\"}',\n",
       " '{\"id\":168114567,\"status\":\"ENT\",\"data_pedido\":\"2019-02-11T04:00:00.000-02:00\"}',\n",
       " '{\"id\":1493284948,\"status\":\"ENT\",\"data_pedido\":\"2019-02-11T07:00:00.000-02:00\"}',\n",
       " '{\"id\":-522266525,\"status\":\"ENT\",\"data_pedido\":\"2019-02-11T11:50:00.000-02:00\"}',\n",
       " '{\"id\":-330378641,\"status\":\"ENT\",\"data_pedido\":\"2019-02-11T07:28:00.000-02:00\"}',\n",
       " '{\"id\":-326760515,\"status\":\"ENT\",\"data_pedido\":\"2019-02-11T06:36:00.000-02:00\"}',\n",
       " '{\"id\":-1785117937,\"status\":\"ENT\",\"data_pedido\":\"2019-02-11T08:00:00.000-02:00\"}',\n",
       " '{\"id\":614275988,\"status\":\"ENT\",\"data_pedido\":\"2019-02-11T04:00:00.000-02:00\"}',\n",
       " '{\"id\":643468083,\"status\":\"ENT\",\"data_pedido\":\"2019-02-11T06:33:00.000-02:00\"}',\n",
       " '{\"id\":-817988396,\"status\":\"ENT\",\"data_pedido\":\"2019-02-11T09:45:00.000-02:00\"}',\n",
       " '{\"id\":1770657215,\"status\":\"ENT\",\"data_pedido\":\"2019-02-11T04:00:00.000-02:00\"}',\n",
       " '{\"id\":866554082,\"status\":\"ENT\",\"data_pedido\":\"2019-02-11T11:45:00.000-02:00\"}',\n",
       " '{\"id\":-2141070747,\"status\":\"ENT\",\"data_pedido\":\"2019-02-11T04:00:00.000-02:00\"}',\n",
       " '{\"id\":1814200136,\"status\":\"ENT\",\"data_pedido\":\"2019-02-11T09:58:00.000-02:00\"}',\n",
       " '{\"id\":343828687,\"status\":\"ENT\",\"data_pedido\":\"2019-02-11T11:40:00.000-02:00\"}',\n",
       " '{\"id\":726709586,\"status\":\"ENT\",\"data_pedido\":\"2019-02-11T11:12:00.000-02:00\"}',\n",
       " '{\"id\":1193088203,\"status\":\"ENT\",\"data_pedido\":\"2019-02-11T10:49:00.000-02:00\"}',\n",
       " '{\"id\":-2058375494,\"status\":\"ENT\",\"data_pedido\":\"2019-02-11T08:20:00.000-02:00\"}',\n",
       " '{\"id\":-830462717,\"status\":\"ENT\",\"data_pedido\":\"2019-02-11T12:16:00.000-02:00\"}',\n",
       " '{\"id\":-697358482,\"status\":\"ENT\",\"data_pedido\":\"2019-02-11T11:24:00.000-02:00\"}',\n",
       " '{\"id\":-434118900,\"status\":\"ENT\",\"data_pedido\":\"2019-02-11T11:24:00.000-02:00\"}',\n",
       " '{\"id\":1532574206,\"status\":\"ENT\",\"data_pedido\":\"2019-02-11T11:27:00.000-02:00\"}',\n",
       " '{\"id\":-1194799287,\"status\":\"ENT\",\"data_pedido\":\"2019-02-11T04:00:00.000-02:00\"}',\n",
       " '{\"id\":1020328616,\"status\":\"ENT\",\"data_pedido\":\"2019-02-11T11:56:00.000-02:00\"}',\n",
       " '{\"id\":-1555909616,\"status\":\"ENT\",\"data_pedido\":\"2019-02-11T04:00:00.000-02:00\"}',\n",
       " '{\"id\":1635904842,\"status\":\"ENT\",\"data_pedido\":\"2019-02-11T08:57:00.000-02:00\"}',\n",
       " '{\"id\":199736449,\"status\":\"ENT\",\"data_pedido\":\"2019-02-11T09:04:00.000-02:00\"}',\n",
       " '{\"id\":-1099323405,\"status\":\"ENT\",\"data_pedido\":\"2019-02-11T09:52:00.000-02:00\"}',\n",
       " '{\"id\":667964799,\"status\":\"ENT\",\"data_pedido\":\"2019-02-11T11:17:00.000-02:00\"}',\n",
       " '{\"id\":-1841089588,\"status\":\"ENT\",\"data_pedido\":\"2019-02-11T11:00:00.000-02:00\"}',\n",
       " '{\"id\":-2007158739,\"status\":\"ENT\",\"data_pedido\":\"2019-02-11T09:30:00.000-02:00\"}',\n",
       " '{\"id\":-1822911707,\"status\":\"ENT\",\"data_pedido\":\"2019-02-11T04:00:00.000-02:00\"}',\n",
       " '{\"id\":56390069,\"status\":\"ENT\",\"data_pedido\":\"2019-02-11T04:00:00.000-02:00\"}',\n",
       " '{\"id\":-2130379797,\"status\":\"ENT\",\"data_pedido\":\"2019-02-11T08:38:00.000-02:00\"}',\n",
       " '{\"id\":19708431,\"status\":\"ENT\",\"data_pedido\":\"2019-02-11T04:00:00.000-02:00\"}',\n",
       " '{\"id\":-1365817376,\"status\":\"ENT\",\"data_pedido\":\"2019-02-11T04:00:00.000-02:00\"}',\n",
       " '{\"id\":-1961650559,\"status\":\"ENT\",\"data_pedido\":\"2019-02-11T11:31:00.000-02:00\"}',\n",
       " '{\"id\":1315116115,\"status\":\"ENT\",\"data_pedido\":\"2019-02-11T09:23:00.000-02:00\"}',\n",
       " '{\"id\":-52951840,\"status\":\"ENT\",\"data_pedido\":\"2019-02-11T06:36:00.000-02:00\"}',\n",
       " '{\"id\":-1948623494,\"status\":\"ENT\",\"data_pedido\":\"2019-02-11T06:36:00.000-02:00\"}',\n",
       " '{\"id\":-823910524,\"status\":\"ENT\",\"data_pedido\":\"2019-02-11T04:00:00.000-02:00\"}',\n",
       " '{\"id\":-461128625,\"status\":\"ENT\",\"data_pedido\":\"2019-02-11T06:36:00.000-02:00\"}',\n",
       " '{\"id\":-2124197610,\"status\":\"ENT\",\"data_pedido\":\"2019-02-11T04:00:00.000-02:00\"}',\n",
       " '{\"id\":-1087841738,\"status\":\"ENT\",\"data_pedido\":\"2019-02-11T10:37:00.000-02:00\"}',\n",
       " '{\"id\":-100671544,\"status\":\"ENT\",\"data_pedido\":\"2019-02-11T04:00:00.000-02:00\"}',\n",
       " '{\"id\":2090730468,\"status\":\"ENT\",\"data_pedido\":\"2019-02-11T04:00:00.000-02:00\"}',\n",
       " '{\"id\":-86083976,\"status\":\"ENT\",\"data_pedido\":\"2019-02-11T10:00:00.000-02:00\"}',\n",
       " '{\"id\":-327778008,\"status\":\"ENT\",\"data_pedido\":\"2019-02-11T10:37:00.000-02:00\"}',\n",
       " '{\"id\":-1385802440,\"status\":\"ENT\",\"data_pedido\":\"2019-02-11T06:36:00.000-02:00\"}',\n",
       " '{\"id\":2096537601,\"status\":\"ENT\",\"data_pedido\":\"2019-02-11T10:00:00.000-02:00\"}',\n",
       " '{\"id\":-1589488434,\"status\":\"ENT\",\"data_pedido\":\"2019-02-11T12:00:00.000-02:00\"}',\n",
       " '{\"id\":-2129396350,\"status\":\"ENT\",\"data_pedido\":\"2019-02-11T04:00:00.000-02:00\"}',\n",
       " '{\"id\":1017994860,\"status\":\"ENT\",\"data_pedido\":\"2019-02-11T09:33:00.000-02:00\"}',\n",
       " '{\"id\":-1272799137,\"status\":\"ENT\",\"data_pedido\":\"2019-02-11T10:00:00.000-02:00\"}',\n",
       " '{\"id\":2055447636,\"status\":\"ENT\",\"data_pedido\":\"2019-02-11T08:01:00.000-02:00\"}',\n",
       " '{\"id\":2055447636,\"status\":\"ENT\",\"data_pedido\":\"2019-02-11T08:01:00.000-02:00\"}',\n",
       " '{\"id\":355493777,\"status\":\"ENT\",\"data_pedido\":\"2019-02-11T12:12:00.000-02:00\"}',\n",
       " '{\"id\":1627941078,\"status\":\"ENT\",\"data_pedido\":\"2019-02-11T11:51:00.000-02:00\"}',\n",
       " '{\"id\":-654868267,\"status\":\"ENT\",\"data_pedido\":\"2019-02-11T11:36:00.000-02:00\"}',\n",
       " '{\"id\":-654868267,\"status\":\"ENT\",\"data_pedido\":\"2019-02-11T11:36:00.000-02:00\"}',\n",
       " '{\"id\":-1309807043,\"status\":\"ENT\",\"data_pedido\":\"2019-02-11T11:45:00.000-02:00\"}',\n",
       " '{\"id\":-1757497173,\"status\":\"ENT\",\"data_pedido\":\"2019-02-11T10:54:00.000-02:00\"}',\n",
       " '{\"id\":185153014,\"status\":\"ENT\",\"data_pedido\":\"2019-02-11T04:00:00.000-02:00\"}',\n",
       " '{\"id\":-233339288,\"status\":\"ENT\",\"data_pedido\":\"2019-02-11T09:57:00.000-02:00\"}',\n",
       " '{\"id\":427656779,\"status\":\"ENT\",\"data_pedido\":\"2019-02-11T12:12:00.000-02:00\"}',\n",
       " '{\"id\":1049754341,\"status\":\"ENT\",\"data_pedido\":\"2019-02-11T11:39:00.000-02:00\"}',\n",
       " '{\"id\":-996508199,\"status\":\"ENT\",\"data_pedido\":\"2019-02-11T08:32:00.000-02:00\"}',\n",
       " '{\"id\":162986209,\"status\":\"ENT\",\"data_pedido\":\"2019-02-11T10:13:00.000-02:00\"}',\n",
       " '{\"id\":2010925601,\"status\":\"ENT\",\"data_pedido\":\"2019-02-11T10:37:00.000-02:00\"}',\n",
       " '{\"id\":1519270943,\"status\":\"ENT\",\"data_pedido\":\"2019-02-11T04:00:00.000-02:00\"}',\n",
       " '{\"id\":2051283990,\"status\":\"ENT\",\"data_pedido\":\"2019-02-11T07:00:00.000-02:00\"}',\n",
       " '{\"id\":-1442687571,\"status\":\"ENT\",\"data_pedido\":\"2019-02-11T07:00:00.000-02:00\"}',\n",
       " '{\"id\":991974714,\"status\":\"ENT\",\"data_pedido\":\"2019-02-11T04:00:00.000-02:00\"}',\n",
       " '{\"id\":-878938612,\"status\":\"ENT\",\"data_pedido\":\"2019-02-11T09:41:00.000-02:00\"}',\n",
       " '{\"id\":-23043050,\"status\":\"ENT\",\"data_pedido\":\"2019-02-11T10:00:00.000-02:00\"}',\n",
       " '{\"id\":-1866445872,\"status\":\"ENT\",\"data_pedido\":\"2019-02-11T10:40:00.000-02:00\"}',\n",
       " '{\"id\":-1754134139,\"status\":\"ENT\",\"data_pedido\":\"2019-02-11T07:00:00.000-02:00\"}',\n",
       " '{\"id\":-1471295646,\"status\":\"ENT\",\"data_pedido\":\"2019-02-11T12:03:00.000-02:00\"}',\n",
       " '{\"id\":1673816935,\"status\":\"ENT\",\"data_pedido\":\"2019-02-11T10:15:00.000-02:00\"}',\n",
       " '{\"id\":-185489284,\"status\":\"ENT\",\"data_pedido\":\"2019-02-11T10:00:00.000-02:00\"}',\n",
       " '{\"id\":-247800002,\"status\":\"ENT\",\"data_pedido\":\"2019-02-11T04:00:00.000-02:00\"}',\n",
       " '{\"id\":301917059,\"status\":\"ENT\",\"data_pedido\":\"2019-02-11T07:00:00.000-02:00\"}',\n",
       " '{\"id\":596115206,\"status\":\"ENT\",\"data_pedido\":\"2019-02-11T08:20:00.000-02:00\"}',\n",
       " '{\"id\":-1183134962,\"status\":\"ENT\",\"data_pedido\":\"2019-02-11T07:00:00.000-02:00\"}',\n",
       " '{\"id\":-199741947,\"status\":\"ENT\",\"data_pedido\":\"2019-02-11T10:05:00.000-02:00\"}',\n",
       " '{\"id\":-1664694620,\"status\":\"ENT\",\"data_pedido\":\"2019-02-11T04:00:00.000-02:00\"}',\n",
       " '{\"id\":-637766403,\"status\":\"ENT\",\"data_pedido\":\"2019-02-11T10:37:00.000-02:00\"}',\n",
       " '{\"id\":-723261891,\"status\":\"ENT\",\"data_pedido\":\"2019-02-11T07:00:00.000-02:00\"}',\n",
       " '{\"id\":1052202200,\"status\":\"ENT\",\"data_pedido\":\"2019-02-11T08:00:00.000-02:00\"}',\n",
       " '{\"id\":-993102638,\"status\":\"ENT\",\"data_pedido\":\"2019-02-11T10:43:00.000-02:00\"}',\n",
       " '{\"id\":-1583230973,\"status\":\"ENT\",\"data_pedido\":\"2019-02-11T10:00:00.000-02:00\"}',\n",
       " '{\"id\":1964180352,\"status\":\"ENT\",\"data_pedido\":\"2019-02-11T09:38:00.000-02:00\"}',\n",
       " '{\"id\":-667718957,\"status\":\"ENT\",\"data_pedido\":\"2019-02-11T09:11:00.000-02:00\"}',\n",
       " '{\"id\":-1880681051,\"status\":\"ENT\",\"data_pedido\":\"2019-02-11T10:31:00.000-02:00\"}',\n",
       " '{\"id\":1026748800,\"status\":\"ENT\",\"data_pedido\":\"2019-02-11T10:20:00.000-02:00\"}',\n",
       " '{\"id\":-1894191045,\"status\":\"ENT\",\"data_pedido\":\"2019-02-11T07:00:00.000-02:00\"}',\n",
       " '{\"id\":1760101240,\"status\":\"ENT\",\"data_pedido\":\"2019-02-11T10:37:00.000-02:00\"}',\n",
       " '{\"id\":622627008,\"status\":\"ENT\",\"data_pedido\":\"2019-02-11T09:32:00.000-02:00\"}',\n",
       " '{\"id\":1291948906,\"status\":\"ENT\",\"data_pedido\":\"2019-02-11T09:07:00.000-02:00\"}',\n",
       " '{\"id\":-1339325619,\"status\":\"ENT\",\"data_pedido\":\"2019-02-11T11:15:00.000-02:00\"}',\n",
       " '{\"id\":-40272214,\"status\":\"ENT\",\"data_pedido\":\"2019-02-11T11:15:00.000-02:00\"}',\n",
       " '{\"id\":1215229086,\"status\":\"ENT\",\"data_pedido\":\"2019-02-11T07:00:00.000-02:00\"}',\n",
       " '{\"id\":2124960114,\"status\":\"ENT\",\"data_pedido\":\"2019-02-11T11:02:00.000-02:00\"}',\n",
       " '{\"id\":-1005353019,\"status\":\"ENT\",\"data_pedido\":\"2019-02-11T10:46:00.000-02:00\"}',\n",
       " '{\"id\":-1005353019,\"status\":\"ENT\",\"data_pedido\":\"2019-02-11T10:46:00.000-02:00\"}',\n",
       " '{\"id\":521034853,\"status\":\"ENT\",\"data_pedido\":\"2019-02-11T10:31:00.000-02:00\"}',\n",
       " '{\"id\":159049413,\"status\":\"ENT\",\"data_pedido\":\"2019-02-11T12:22:00.000-02:00\"}',\n",
       " '{\"id\":-215202544,\"status\":\"ENT\",\"data_pedido\":\"2019-02-11T11:43:00.000-02:00\"}',\n",
       " '{\"id\":-10851164,\"status\":\"ENT\",\"data_pedido\":\"2019-02-11T10:29:00.000-02:00\"}',\n",
       " '{\"id\":-1943974313,\"status\":\"ENT\",\"data_pedido\":\"2019-02-11T11:24:00.000-02:00\"}',\n",
       " '{\"id\":691298359,\"status\":\"ENT\",\"data_pedido\":\"2019-02-11T10:07:00.000-02:00\"}',\n",
       " '{\"id\":-783506976,\"status\":\"ENT\",\"data_pedido\":\"2019-02-11T07:00:00.000-02:00\"}',\n",
       " '{\"id\":-1930148446,\"status\":\"ENT\",\"data_pedido\":\"2019-02-11T04:00:00.000-02:00\"}',\n",
       " '{\"id\":-2082702436,\"status\":\"ENT\",\"data_pedido\":\"2019-02-11T08:02:00.000-02:00\"}',\n",
       " '{\"id\":266137822,\"status\":\"ENT\",\"data_pedido\":\"2019-02-11T11:00:00.000-02:00\"}',\n",
       " '{\"id\":1952963030,\"status\":\"ENT\",\"data_pedido\":\"2019-02-11T11:24:00.000-02:00\"}',\n",
       " '{\"id\":-1956745475,\"status\":\"ENT\",\"data_pedido\":\"2019-02-11T12:04:00.000-02:00\"}',\n",
       " '{\"id\":-1425455895,\"status\":\"ENT\",\"data_pedido\":\"2019-02-11T10:06:00.000-02:00\"}',\n",
       " '{\"id\":811368796,\"status\":\"ENT\",\"data_pedido\":\"2019-02-11T10:59:00.000-02:00\"}',\n",
       " '{\"id\":-267188049,\"status\":\"ENT\",\"data_pedido\":\"2019-02-11T04:00:00.000-02:00\"}',\n",
       " '{\"id\":1556468092,\"status\":\"ENT\",\"data_pedido\":\"2019-02-11T10:37:00.000-02:00\"}',\n",
       " '{\"id\":-1052884898,\"status\":\"ENT\",\"data_pedido\":\"2019-02-11T10:37:00.000-02:00\"}',\n",
       " '{\"id\":-91288583,\"status\":\"ENT\",\"data_pedido\":\"2019-02-11T04:00:00.000-02:00\"}',\n",
       " '{\"id\":-1315330216,\"status\":\"ENT\",\"data_pedido\":\"2019-02-11T11:48:00.000-02:00\"}',\n",
       " '{\"id\":-707628338,\"status\":\"ENT\",\"data_pedido\":\"2019-02-11T10:50:00.000-02:00\"}',\n",
       " '{\"id\":-586563854,\"status\":\"ENT\",\"data_pedido\":\"2019-02-11T09:19:00.000-02:00\"}',\n",
       " '{\"id\":367079315,\"status\":\"ENT\",\"data_pedido\":\"2019-02-11T08:34:00.000-02:00\"}',\n",
       " '{\"id\":-307587169,\"status\":\"ENT\",\"data_pedido\":\"2019-02-11T09:21:00.000-02:00\"}',\n",
       " '{\"id\":-307587169,\"status\":\"ENT\",\"data_pedido\":\"2019-02-11T09:22:00.000-02:00\"}',\n",
       " '{\"id\":1564726155,\"status\":\"ENT\",\"data_pedido\":\"2019-02-11T11:09:00.000-02:00\"}',\n",
       " '{\"id\":-308349212,\"status\":\"ENT\",\"data_pedido\":\"2019-02-11T11:40:00.000-02:00\"}',\n",
       " '{\"id\":-308349212,\"status\":\"ENT\",\"data_pedido\":\"2019-02-11T11:40:00.000-02:00\"}',\n",
       " '{\"id\":-308349212,\"status\":\"ENT\",\"data_pedido\":\"2019-02-11T11:40:00.000-02:00\"}',\n",
       " '{\"id\":-308349212,\"status\":\"ENT\",\"data_pedido\":\"2019-02-11T11:40:00.000-02:00\"}',\n",
       " '{\"id\":-52024403,\"status\":\"ENT\",\"data_pedido\":\"2019-02-11T10:00:00.000-02:00\"}',\n",
       " '{\"id\":-1155089318,\"status\":\"ENT\",\"data_pedido\":\"2019-02-11T04:00:00.000-02:00\"}',\n",
       " '{\"id\":18237012,\"status\":\"ENT\",\"data_pedido\":\"2019-02-11T09:33:00.000-02:00\"}',\n",
       " '{\"id\":2140185973,\"status\":\"ENT\",\"data_pedido\":\"2019-02-11T12:00:00.000-02:00\"}',\n",
       " '{\"id\":-1588707649,\"status\":\"ENT\",\"data_pedido\":\"2019-02-11T11:11:00.000-02:00\"}',\n",
       " '{\"id\":-223052418,\"status\":\"ENT\",\"data_pedido\":\"2019-02-11T08:00:00.000-02:00\"}',\n",
       " '{\"id\":-82700986,\"status\":\"ENT\",\"data_pedido\":\"2019-02-11T10:37:00.000-02:00\"}',\n",
       " '{\"id\":-128881876,\"status\":\"ENT\",\"data_pedido\":\"2019-02-11T11:10:00.000-02:00\"}',\n",
       " '{\"id\":-128881876,\"status\":\"ENT\",\"data_pedido\":\"2019-02-11T11:10:00.000-02:00\"}',\n",
       " '{\"id\":-992414162,\"status\":\"ENT\",\"data_pedido\":\"2019-02-11T09:14:00.000-02:00\"}',\n",
       " '{\"id\":-18284462,\"status\":\"ENT\",\"data_pedido\":\"2019-02-11T08:00:00.000-02:00\"}',\n",
       " '{\"id\":-438826046,\"status\":\"ENT\",\"data_pedido\":\"2019-02-11T04:00:00.000-02:00\"}',\n",
       " '{\"id\":-512699552,\"status\":\"ENT\",\"data_pedido\":\"2019-02-11T07:00:00.000-02:00\"}',\n",
       " '{\"id\":-739511838,\"status\":\"ENT\",\"data_pedido\":\"2019-02-11T10:57:00.000-02:00\"}',\n",
       " '{\"id\":-1890603295,\"status\":\"ENT\",\"data_pedido\":\"2019-02-11T07:00:00.000-02:00\"}',\n",
       " '{\"id\":1675928888,\"status\":\"ENT\",\"data_pedido\":\"2019-02-11T11:16:00.000-02:00\"}',\n",
       " '{\"id\":-1695080782,\"status\":\"ENT\",\"data_pedido\":\"2019-02-11T09:14:00.000-02:00\"}',\n",
       " '{\"id\":-582521497,\"status\":\"ENT\",\"data_pedido\":\"2019-02-11T04:00:00.000-02:00\"}',\n",
       " '{\"id\":1771648807,\"status\":\"ENT\",\"data_pedido\":\"2019-02-11T10:47:00.000-02:00\"}',\n",
       " '{\"id\":-1754347268,\"status\":\"ENT\",\"data_pedido\":\"2019-02-11T10:28:00.000-02:00\"}',\n",
       " '{\"id\":1935326157,\"status\":\"ENT\",\"data_pedido\":\"2019-02-11T04:00:00.000-02:00\"}',\n",
       " '{\"id\":358758941,\"status\":\"ENT\",\"data_pedido\":\"2019-02-11T11:46:00.000-02:00\"}',\n",
       " '{\"id\":1439396997,\"status\":\"ENT\",\"data_pedido\":\"2019-02-11T10:15:00.000-02:00\"}',\n",
       " '{\"id\":1215980346,\"status\":\"ENT\",\"data_pedido\":\"2019-02-11T11:06:00.000-02:00\"}',\n",
       " '{\"id\":1158388326,\"status\":\"ENT\",\"data_pedido\":\"2019-02-11T04:00:00.000-02:00\"}',\n",
       " '{\"id\":-1092036052,\"status\":\"ENT\",\"data_pedido\":\"2019-02-11T10:19:00.000-02:00\"}',\n",
       " '{\"id\":880751616,\"status\":\"ENT\",\"data_pedido\":\"2019-02-11T11:08:00.000-02:00\"}',\n",
       " '{\"id\":-2065174828,\"status\":\"ENT\",\"data_pedido\":\"2019-02-11T08:00:00.000-02:00\"}',\n",
       " '{\"id\":2025090600,\"status\":\"ENT\",\"data_pedido\":\"2019-02-11T10:05:00.000-02:00\"}',\n",
       " '{\"id\":-141786734,\"status\":\"ENT\",\"data_pedido\":\"2019-02-11T07:35:00.000-02:00\"}',\n",
       " '{\"id\":1063450123,\"status\":\"ENT\",\"data_pedido\":\"2019-02-11T00:00:00.000-02:00\"}',\n",
       " '{\"id\":1055856038,\"status\":\"ENT\",\"data_pedido\":\"2019-02-11T12:30:00.000-02:00\"}',\n",
       " '{\"id\":1011499918,\"status\":\"ENT\",\"data_pedido\":\"2019-02-11T10:00:00.000-02:00\"}',\n",
       " '{\"id\":1011499918,\"status\":\"ENT\",\"data_pedido\":\"2019-02-11T10:00:00.000-02:00\"}',\n",
       " '{\"id\":-183981133,\"status\":\"ENT\",\"data_pedido\":\"2019-02-11T12:14:00.000-02:00\"}',\n",
       " '{\"id\":1639930198,\"status\":\"ENT\",\"data_pedido\":\"2019-02-11T10:55:00.000-02:00\"}',\n",
       " '{\"id\":1728842189,\"status\":\"ENT\",\"data_pedido\":\"2019-02-11T09:00:00.000-02:00\"}',\n",
       " '{\"id\":1349437138,\"status\":\"ENT\",\"data_pedido\":\"2019-02-11T09:29:00.000-02:00\"}',\n",
       " '{\"id\":1402614438,\"status\":\"ENT\",\"data_pedido\":\"2019-02-11T10:48:00.000-02:00\"}',\n",
       " '{\"id\":-1551038937,\"status\":\"ENT\",\"data_pedido\":\"2019-02-11T11:38:00.000-02:00\"}',\n",
       " '{\"id\":1025331617,\"status\":\"ENT\",\"data_pedido\":\"2019-02-11T11:30:00.000-02:00\"}',\n",
       " '{\"id\":1472212605,\"status\":\"ENT\",\"data_pedido\":\"2019-02-11T07:35:00.000-02:00\"}',\n",
       " '{\"id\":-986727498,\"status\":\"ENT\",\"data_pedido\":\"2019-02-11T11:22:00.000-02:00\"}',\n",
       " '{\"id\":-655458862,\"status\":\"ENT\",\"data_pedido\":\"2019-02-11T10:17:00.000-02:00\"}',\n",
       " '{\"id\":-655458862,\"status\":\"ENT\",\"data_pedido\":\"2019-02-11T10:17:00.000-02:00\"}',\n",
       " '{\"id\":56390069,\"status\":\"ENT\",\"data_pedido\":\"2019-02-11T04:00:00.000-02:00\"}',\n",
       " '{\"id\":954813790,\"status\":\"ENT\",\"data_pedido\":\"2019-02-11T11:08:00.000-02:00\"}',\n",
       " '{\"id\":442013584,\"status\":\"ENT\",\"data_pedido\":\"2019-02-11T11:25:00.000-02:00\"}',\n",
       " '{\"id\":1951586546,\"status\":\"ENT\",\"data_pedido\":\"2019-02-11T08:55:00.000-02:00\"}',\n",
       " '{\"id\":1955991331,\"status\":\"ENT\",\"data_pedido\":\"2019-02-11T06:36:00.000-02:00\"}',\n",
       " '{\"id\":1238573761,\"status\":\"ENT\",\"data_pedido\":\"2019-02-11T06:36:00.000-02:00\"}',\n",
       " '{\"id\":-596011085,\"status\":\"ENT\",\"data_pedido\":\"2019-02-11T12:00:00.000-02:00\"}',\n",
       " '{\"id\":-1985531763,\"status\":\"ENT\",\"data_pedido\":\"2019-02-11T10:45:00.000-02:00\"}',\n",
       " '{\"id\":982853514,\"status\":\"ENT\",\"data_pedido\":\"2019-02-11T08:30:00.000-02:00\"}',\n",
       " '{\"id\":280427773,\"status\":\"ENT\",\"data_pedido\":\"2019-02-11T09:30:00.000-02:00\"}',\n",
       " '{\"id\":-287659271,\"status\":\"ENT\",\"data_pedido\":\"2019-02-11T12:08:00.000-02:00\"}',\n",
       " '{\"id\":-1821043338,\"status\":\"ENT\",\"data_pedido\":\"2019-02-11T10:18:00.000-02:00\"}',\n",
       " '{\"id\":-1854158391,\"status\":\"ENT\",\"data_pedido\":\"2019-02-11T12:23:00.000-02:00\"}',\n",
       " '{\"id\":1972978485,\"status\":\"ENT\",\"data_pedido\":\"2019-02-11T10:19:00.000-02:00\"}',\n",
       " '{\"id\":-28332106,\"status\":\"ENT\",\"data_pedido\":\"2019-02-11T09:57:00.000-02:00\"}',\n",
       " '{\"id\":-867264488,\"status\":\"ENT\",\"data_pedido\":\"2019-02-11T06:36:00.000-02:00\"}',\n",
       " '{\"id\":1489526078,\"status\":\"ENT\",\"data_pedido\":\"2019-02-11T10:21:00.000-02:00\"}',\n",
       " '{\"id\":1489526078,\"status\":\"ENT\",\"data_pedido\":\"2019-02-11T10:06:00.000-02:00\"}',\n",
       " '{\"id\":1489526078,\"status\":\"ENT\",\"data_pedido\":\"2019-02-11T10:21:00.000-02:00\"}',\n",
       " '{\"id\":-77041873,\"status\":\"ENT\",\"data_pedido\":\"2019-02-11T12:03:00.000-02:00\"}',\n",
       " '{\"id\":1237172454,\"status\":\"ENT\",\"data_pedido\":\"2019-02-11T12:16:00.000-02:00\"}',\n",
       " '{\"id\":1290531751,\"status\":\"ENT\",\"data_pedido\":\"2019-02-11T08:07:00.000-02:00\"}',\n",
       " '{\"id\":-1875688926,\"status\":\"ENT\",\"data_pedido\":\"2019-02-11T04:00:00.000-02:00\"}',\n",
       " '{\"id\":-63461,\"status\":\"ENT\",\"data_pedido\":\"2019-02-11T11:23:00.000-02:00\"}',\n",
       " '{\"id\":-1679123971,\"status\":\"ENT\",\"data_pedido\":\"2019-02-11T04:00:00.000-02:00\"}',\n",
       " '{\"id\":1326364880,\"status\":\"ENT\",\"data_pedido\":\"2019-02-11T11:41:00.000-02:00\"}',\n",
       " '{\"id\":596101061,\"status\":\"ENT\",\"data_pedido\":\"2019-02-11T11:45:00.000-02:00\"}',\n",
       " '{\"id\":-839930268,\"status\":\"ENT\",\"data_pedido\":\"2019-02-11T10:00:00.000-02:00\"}',\n",
       " '{\"id\":1469483040,\"status\":\"ENT\",\"data_pedido\":\"2019-02-11T04:00:00.000-02:00\"}',\n",
       " '{\"id\":1089314616,\"status\":\"ENT\",\"data_pedido\":\"2019-02-11T10:07:00.000-02:00\"}',\n",
       " '{\"id\":-220319997,\"status\":\"ENT\",\"data_pedido\":\"2019-02-11T06:36:00.000-02:00\"}',\n",
       " '{\"id\":1382953421,\"status\":\"ENT\",\"data_pedido\":\"2019-02-11T11:06:00.000-02:00\"}',\n",
       " '{\"id\":-2111824305,\"status\":\"ENT\",\"data_pedido\":\"2019-02-11T07:00:00.000-02:00\"}',\n",
       " '{\"id\":1945429188,\"status\":\"ENT\",\"data_pedido\":\"2019-02-11T07:00:00.000-02:00\"}',\n",
       " '{\"id\":2064490163,\"status\":\"ENT\",\"data_pedido\":\"2019-02-11T10:57:00.000-02:00\"}',\n",
       " '{\"id\":199736449,\"status\":\"ENT\",\"data_pedido\":\"2019-02-11T09:04:00.000-02:00\"}',\n",
       " '{\"id\":199736449,\"status\":\"ENT\",\"data_pedido\":\"2019-02-11T09:04:00.000-02:00\"}',\n",
       " '{\"id\":199736449,\"status\":\"ENT\",\"data_pedido\":\"2019-02-11T09:04:00.000-02:00\"}',\n",
       " '{\"id\":199736449,\"status\":\"ENT\",\"data_pedido\":\"2019-02-11T09:04:00.000-02:00\"}',\n",
       " '{\"id\":199736449,\"status\":\"ENT\",\"data_pedido\":\"2019-02-11T09:04:00.000-02:00\"}',\n",
       " '{\"id\":199736449,\"status\":\"ENT\",\"data_pedido\":\"2019-02-11T09:04:00.000-02:00\"}',\n",
       " '{\"id\":-1843893984,\"status\":\"ENT\",\"data_pedido\":\"2019-02-11T08:59:00.000-02:00\"}',\n",
       " '{\"id\":-1615118766,\"status\":\"ENT\",\"data_pedido\":\"2019-02-11T07:00:00.000-02:00\"}',\n",
       " '{\"id\":614264180,\"status\":\"ENT\",\"data_pedido\":\"2019-02-11T12:25:00.000-02:00\"}',\n",
       " '{\"id\":1623381879,\"status\":\"ENT\",\"data_pedido\":\"2019-02-11T11:00:00.000-02:00\"}',\n",
       " '{\"id\":440745495,\"status\":\"ENT\",\"data_pedido\":\"2019-02-11T09:22:00.000-02:00\"}',\n",
       " '{\"id\":275013391,\"status\":\"ENT\",\"data_pedido\":\"2019-02-11T11:40:00.000-02:00\"}',\n",
       " '{\"id\":-21456110,\"status\":\"ENT\",\"data_pedido\":\"2019-02-11T04:00:00.000-02:00\"}',\n",
       " '{\"id\":496691328,\"status\":\"ENT\",\"data_pedido\":\"2019-02-11T10:57:00.000-02:00\"}',\n",
       " '{\"id\":-1739508779,\"status\":\"ENT\",\"data_pedido\":\"2019-02-11T07:00:00.000-02:00\"}',\n",
       " '{\"id\":-1841055421,\"status\":\"ENT\",\"data_pedido\":\"2019-02-11T10:16:00.000-02:00\"}',\n",
       " '{\"id\":-152628513,\"status\":\"ENT\",\"data_pedido\":\"2019-02-11T08:16:00.000-02:00\"}',\n",
       " '{\"id\":-304019254,\"status\":\"ENT\",\"data_pedido\":\"2019-02-11T10:49:00.000-02:00\"}',\n",
       " '{\"id\":622128374,\"status\":\"ENT\",\"data_pedido\":\"2019-02-11T04:00:00.000-02:00\"}',\n",
       " '{\"id\":-1798221659,\"status\":\"ENT\",\"data_pedido\":\"2019-02-11T09:35:00.000-02:00\"}',\n",
       " '{\"id\":-312375870,\"status\":\"ENT\",\"data_pedido\":\"2019-02-11T04:00:00.000-02:00\"}',\n",
       " '{\"id\":-904552915,\"status\":\"ENT\",\"data_pedido\":\"2019-02-11T06:36:00.000-02:00\"}',\n",
       " '{\"id\":771816538,\"status\":\"ENT\",\"data_pedido\":\"2019-02-11T08:00:00.000-02:00\"}',\n",
       " '{\"id\":1132828100,\"status\":\"ENT\",\"data_pedido\":\"2019-02-11T04:00:00.000-02:00\"}',\n",
       " '{\"id\":-1001101054,\"status\":\"ENT\",\"data_pedido\":\"2019-02-11T10:04:00.000-02:00\"}',\n",
       " '{\"id\":656826138,\"status\":\"ENT\",\"data_pedido\":\"2019-02-11T08:08:00.000-02:00\"}',\n",
       " '{\"id\":656826138,\"status\":\"ENT\",\"data_pedido\":\"2019-02-11T08:07:00.000-02:00\"}',\n",
       " '{\"id\":1796294504,\"status\":\"ENT\",\"data_pedido\":\"2019-02-11T10:00:00.000-02:00\"}',\n",
       " '{\"id\":621267496,\"status\":\"ENT\",\"data_pedido\":\"2019-02-11T04:00:00.000-02:00\"}',\n",
       " '{\"id\":1579323322,\"status\":\"ENT\",\"data_pedido\":\"2019-02-11T12:16:00.000-02:00\"}',\n",
       " '{\"id\":-1160714694,\"status\":\"ENT\",\"data_pedido\":\"2019-02-11T10:10:00.000-02:00\"}',\n",
       " '{\"id\":-1846381599,\"status\":\"ENT\",\"data_pedido\":\"2019-02-11T09:39:00.000-02:00\"}',\n",
       " '{\"id\":-596777686,\"status\":\"ENT\",\"data_pedido\":\"2019-02-11T04:00:00.000-02:00\"}',\n",
       " '{\"id\":-373021356,\"status\":\"ENT\",\"data_pedido\":\"2019-02-11T09:44:00.000-02:00\"}',\n",
       " '{\"id\":1904640344,\"status\":\"ENT\",\"data_pedido\":\"2019-02-11T11:12:00.000-02:00\"}',\n",
       " '{\"id\":-285023057,\"status\":\"ENT\",\"data_pedido\":\"2019-02-11T11:24:00.000-02:00\"}',\n",
       " '{\"id\":888351700,\"status\":\"ENT\",\"data_pedido\":\"2019-02-11T11:24:00.000-02:00\"}',\n",
       " '{\"id\":239233729,\"status\":\"ENT\",\"data_pedido\":\"2019-02-11T04:00:00.000-02:00\"}',\n",
       " '{\"id\":1103756892,\"status\":\"ENT\",\"data_pedido\":\"2019-02-11T12:07:00.000-02:00\"}',\n",
       " '{\"id\":1672435104,\"status\":\"ENT\",\"data_pedido\":\"2019-02-11T10:31:00.000-02:00\"}',\n",
       " '{\"id\":-1567984255,\"status\":\"ENT\",\"data_pedido\":\"2019-02-11T12:08:00.000-02:00\"}',\n",
       " '{\"id\":-1158027270,\"status\":\"ENT\",\"data_pedido\":\"2019-02-11T04:00:00.000-02:00\"}',\n",
       " '{\"id\":-1315191138,\"status\":\"ENT\",\"data_pedido\":\"2019-02-11T11:32:00.000-02:00\"}',\n",
       " '{\"id\":-94463387,\"status\":\"ENT\",\"data_pedido\":\"2019-02-11T10:43:00.000-02:00\"}',\n",
       " '{\"id\":-17917942,\"status\":\"ENT\",\"data_pedido\":\"2019-02-11T07:00:00.000-02:00\"}',\n",
       " '{\"id\":1738723406,\"status\":\"ENT\",\"data_pedido\":\"2019-02-11T10:22:00.000-02:00\"}',\n",
       " '{\"id\":-1840922718,\"status\":\"ENT\",\"data_pedido\":\"2019-02-11T11:05:00.000-02:00\"}',\n",
       " '{\"id\":378701609,\"status\":\"ENT\",\"data_pedido\":\"2019-02-11T11:33:00.000-02:00\"}',\n",
       " '{\"id\":-2124717230,\"status\":\"ENT\",\"data_pedido\":\"2019-02-11T11:06:00.000-02:00\"}',\n",
       " '{\"id\":211863932,\"status\":\"ENT\",\"data_pedido\":\"2019-02-11T11:31:00.000-02:00\"}',\n",
       " '{\"id\":-127027255,\"status\":\"ENT\",\"data_pedido\":\"2019-02-11T08:00:00.000-02:00\"}',\n",
       " '{\"id\":1547864760,\"status\":\"ENT\",\"data_pedido\":\"2019-02-11T03:01:00.000-02:00\"}',\n",
       " '{\"id\":-1630687136,\"status\":\"ENT\",\"data_pedido\":\"2019-02-11T08:38:00.000-02:00\"}',\n",
       " '{\"id\":-1010907284,\"status\":\"ENT\",\"data_pedido\":\"2019-02-11T07:00:00.000-02:00\"}',\n",
       " '{\"id\":211601299,\"status\":\"ENT\",\"data_pedido\":\"2019-02-11T07:00:00.000-02:00\"}',\n",
       " '{\"id\":2074406306,\"status\":\"ENT\",\"data_pedido\":\"2019-02-11T08:42:00.000-02:00\"}',\n",
       " '{\"id\":227074591,\"status\":\"ENT\",\"data_pedido\":\"2019-02-11T04:00:00.000-02:00\"}',\n",
       " '{\"id\":-770160832,\"status\":\"ENT\",\"data_pedido\":\"2019-02-11T09:03:00.000-02:00\"}',\n",
       " '{\"id\":-683866885,\"status\":\"ENT\",\"data_pedido\":\"2019-02-11T11:16:00.000-02:00\"}',\n",
       " '{\"id\":-1602186011,\"status\":\"ENT\",\"data_pedido\":\"2019-02-11T08:11:00.000-02:00\"}',\n",
       " '{\"id\":833958251,\"status\":\"ENT\",\"data_pedido\":\"2019-02-11T12:13:00.000-02:00\"}',\n",
       " '{\"id\":-1934810976,\"status\":\"ENT\",\"data_pedido\":\"2019-02-11T07:00:00.000-02:00\"}',\n",
       " '{\"id\":-1908925065,\"status\":\"ENT\",\"data_pedido\":\"2019-02-11T10:30:00.000-02:00\"}',\n",
       " '{\"id\":783367696,\"status\":\"ENT\",\"data_pedido\":\"2019-02-11T11:15:00.000-02:00\"}',\n",
       " '{\"id\":784354095,\"status\":\"ENT\",\"data_pedido\":\"2019-02-11T09:58:00.000-02:00\"}',\n",
       " '{\"id\":1000699531,\"status\":\"ENT\",\"data_pedido\":\"2019-02-11T04:00:00.000-02:00\"}',\n",
       " '{\"id\":-1926477287,\"status\":\"ENT\",\"data_pedido\":\"2019-02-11T07:00:00.000-02:00\"}',\n",
       " '{\"id\":-402878578,\"status\":\"ENT\",\"data_pedido\":\"2019-02-11T12:27:00.000-02:00\"}',\n",
       " '{\"id\":-145579764,\"status\":\"ENT\",\"data_pedido\":\"2019-02-11T04:00:00.000-02:00\"}',\n",
       " '{\"id\":-418369990,\"status\":\"ENT\",\"data_pedido\":\"2019-02-11T04:00:00.000-02:00\"}',\n",
       " '{\"id\":161964673,\"status\":\"ENT\",\"data_pedido\":\"2019-02-11T09:45:00.000-02:00\"}',\n",
       " '{\"id\":2139162158,\"status\":\"ENT\",\"data_pedido\":\"2019-02-11T09:46:00.000-02:00\"}',\n",
       " '{\"id\":596642910,\"status\":\"ENT\",\"data_pedido\":\"2019-02-11T07:00:00.000-02:00\"}',\n",
       " '{\"id\":-1575079443,\"status\":\"ENT\",\"data_pedido\":\"2019-02-11T11:43:00.000-02:00\"}',\n",
       " '{\"id\":1378235281,\"status\":\"ENT\",\"data_pedido\":\"2019-02-11T11:34:00.000-02:00\"}',\n",
       " '{\"id\":351617694,\"status\":\"ENT\",\"data_pedido\":\"2019-02-11T10:31:00.000-02:00\"}',\n",
       " '{\"id\":-1212926270,\"status\":\"ENT\",\"data_pedido\":\"2019-02-11T07:00:00.000-02:00\"}',\n",
       " '{\"id\":-155737839,\"status\":\"ENT\",\"data_pedido\":\"2019-02-11T09:36:00.000-02:00\"}',\n",
       " '{\"id\":882191115,\"status\":\"ENT\",\"data_pedido\":\"2019-02-11T04:00:00.000-02:00\"}',\n",
       " '{\"id\":-641391059,\"status\":\"ENT\",\"data_pedido\":\"2019-02-11T09:01:00.000-02:00\"}',\n",
       " '{\"id\":-445666855,\"status\":\"ENT\",\"data_pedido\":\"2019-02-11T06:36:00.000-02:00\"}',\n",
       " '{\"id\":214734891,\"status\":\"ENT\",\"data_pedido\":\"2019-02-11T10:00:00.000-02:00\"}',\n",
       " '{\"id\":322345066,\"status\":\"ENT\",\"data_pedido\":\"2019-02-11T11:01:00.000-02:00\"}',\n",
       " '{\"id\":-727741556,\"status\":\"ENT\",\"data_pedido\":\"2019-02-11T04:00:00.000-02:00\"}',\n",
       " '{\"id\":-1879617760,\"status\":\"ENT\",\"data_pedido\":\"2019-02-11T11:29:00.000-02:00\"}',\n",
       " '{\"id\":-464690545,\"status\":\"ENT\",\"data_pedido\":\"2019-02-11T11:24:00.000-02:00\"}',\n",
       " '{\"id\":-1248219145,\"status\":\"ENT\",\"data_pedido\":\"2019-02-11T08:32:00.000-02:00\"}',\n",
       " '{\"id\":-1807152003,\"status\":\"ENT\",\"data_pedido\":\"2019-02-11T09:58:00.000-02:00\"}',\n",
       " '{\"id\":870243910,\"status\":\"ENT\",\"data_pedido\":\"2019-02-11T09:58:00.000-02:00\"}',\n",
       " '{\"id\":-645266031,\"status\":\"ENT\",\"data_pedido\":\"2019-02-11T11:29:00.000-02:00\"}',\n",
       " '{\"id\":-1583027879,\"status\":\"ENT\",\"data_pedido\":\"2019-02-11T04:00:00.000-02:00\"}',\n",
       " '{\"id\":319082226,\"status\":\"ENT\",\"data_pedido\":\"2019-02-11T06:36:00.000-02:00\"}',\n",
       " '{\"id\":78975264,\"status\":\"ENT\",\"data_pedido\":\"2019-02-11T08:37:00.000-02:00\"}',\n",
       " '{\"id\":550266255,\"status\":\"ENT\",\"data_pedido\":\"2019-02-11T10:12:00.000-02:00\"}',\n",
       " '{\"id\":-637217149,\"status\":\"ENT\",\"data_pedido\":\"2019-02-11T12:21:00.000-02:00\"}',\n",
       " '{\"id\":-2002529827,\"status\":\"ENT\",\"data_pedido\":\"2019-02-11T10:37:00.000-02:00\"}',\n",
       " '{\"id\":747556537,\"status\":\"ENT\",\"data_pedido\":\"2019-02-11T11:03:00.000-02:00\"}',\n",
       " '{\"id\":304686752,\"status\":\"ENT\",\"data_pedido\":\"2019-02-11T11:00:00.000-02:00\"}',\n",
       " '{\"id\":331636976,\"status\":\"ENT\",\"data_pedido\":\"2019-02-11T01:57:00.000-02:00\"}',\n",
       " '{\"id\":1130100853,\"status\":\"ENT\",\"data_pedido\":\"2019-02-11T11:42:00.000-02:00\"}',\n",
       " '{\"id\":1755036365,\"status\":\"ENT\",\"data_pedido\":\"2019-02-11T09:45:00.000-02:00\"}',\n",
       " '{\"id\":1799144817,\"status\":\"ENT\",\"data_pedido\":\"2019-02-11T09:58:00.000-02:00\"}',\n",
       " '{\"id\":-1354440137,\"status\":\"ENT\",\"data_pedido\":\"2019-02-11T10:37:00.000-02:00\"}',\n",
       " '{\"id\":-929349586,\"status\":\"ENT\",\"data_pedido\":\"2019-02-11T04:00:00.000-02:00\"}',\n",
       " '{\"id\":-1118697947,\"status\":\"ENT\",\"data_pedido\":\"2019-02-11T07:00:00.000-02:00\"}',\n",
       " '{\"id\":-1176997339,\"status\":\"ENT\",\"data_pedido\":\"2019-02-11T07:00:00.000-02:00\"}',\n",
       " '{\"id\":-1060696660,\"status\":\"ENT\",\"data_pedido\":\"2019-02-11T10:47:00.000-02:00\"}',\n",
       " '{\"id\":-209163562,\"status\":\"ENT\",\"data_pedido\":\"2019-02-11T04:00:00.000-02:00\"}',\n",
       " '{\"id\":-1782608122,\"status\":\"ENT\",\"data_pedido\":\"2019-02-11T07:00:00.000-02:00\"}',\n",
       " '{\"id\":375275715,\"status\":\"ENT\",\"data_pedido\":\"2019-02-11T11:28:00.000-02:00\"}',\n",
       " '{\"id\":1975556606,\"status\":\"ENT\",\"data_pedido\":\"2019-02-11T08:32:00.000-02:00\"}',\n",
       " '{\"id\":1200547151,\"status\":\"ENT\",\"data_pedido\":\"2019-02-11T10:05:00.000-02:00\"}',\n",
       " '{\"id\":1973227313,\"status\":\"ENT\",\"data_pedido\":\"2019-02-11T09:40:00.000-02:00\"}',\n",
       " '{\"id\":1735484297,\"status\":\"ENT\",\"data_pedido\":\"2019-02-11T10:49:00.000-02:00\"}',\n",
       " '{\"id\":1537690444,\"status\":\"ENT\",\"data_pedido\":\"2019-02-11T12:05:00.000-02:00\"}',\n",
       " '{\"id\":1537690444,\"status\":\"ENT\",\"data_pedido\":\"2019-02-11T12:05:00.000-02:00\"}',\n",
       " '{\"id\":1537690444,\"status\":\"ENT\",\"data_pedido\":\"2019-02-11T12:05:00.000-02:00\"}',\n",
       " '{\"id\":-1057999148,\"status\":\"ENT\",\"data_pedido\":\"2019-02-11T10:47:00.000-02:00\"}',\n",
       " '{\"id\":1060408699,\"status\":\"ENT\",\"data_pedido\":\"2019-02-11T08:15:00.000-02:00\"}',\n",
       " '{\"id\":-1457018205,\"status\":\"ENT\",\"data_pedido\":\"2019-02-11T00:00:00.000-02:00\"}',\n",
       " '{\"id\":-218964648,\"status\":\"ENT\",\"data_pedido\":\"2019-02-11T07:00:00.000-02:00\"}',\n",
       " '{\"id\":1655922263,\"status\":\"ENT\",\"data_pedido\":\"2019-02-11T04:00:00.000-02:00\"}',\n",
       " '{\"id\":363208229,\"status\":\"ENT\",\"data_pedido\":\"2019-02-11T10:50:00.000-02:00\"}',\n",
       " '{\"id\":-1941557072,\"status\":\"ENT\",\"data_pedido\":\"2019-02-11T11:38:00.000-02:00\"}',\n",
       " '{\"id\":335928063,\"status\":\"ENT\",\"data_pedido\":\"2019-02-11T08:00:00.000-02:00\"}',\n",
       " '{\"id\":825261492,\"status\":\"ENT\",\"data_pedido\":\"2019-02-11T09:58:00.000-02:00\"}',\n",
       " '{\"id\":-1058386630,\"status\":\"ENT\",\"data_pedido\":\"2019-02-11T09:41:00.000-02:00\"}',\n",
       " '{\"id\":823284438,\"status\":\"ENT\",\"data_pedido\":\"2019-02-11T08:26:00.000-02:00\"}',\n",
       " '{\"id\":1422333909,\"status\":\"ENT\",\"data_pedido\":\"2019-02-11T09:45:00.000-02:00\"}',\n",
       " '{\"id\":780331727,\"status\":\"ENT\",\"data_pedido\":\"2019-02-11T12:21:00.000-02:00\"}',\n",
       " '{\"id\":987071032,\"status\":\"ENT\",\"data_pedido\":\"2019-02-11T06:33:00.000-02:00\"}',\n",
       " '{\"id\":1300049343,\"status\":\"ENT\",\"data_pedido\":\"2019-02-11T10:07:00.000-02:00\"}',\n",
       " '{\"id\":-2072113555,\"status\":\"ENT\",\"data_pedido\":\"2019-02-11T12:10:00.000-02:00\"}',\n",
       " '{\"id\":-915141851,\"status\":\"ENT\",\"data_pedido\":\"2019-02-11T09:58:00.000-02:00\"}',\n",
       " '{\"id\":321861108,\"status\":\"ENT\",\"data_pedido\":\"2019-02-11T06:36:00.000-02:00\"}',\n",
       " '{\"id\":196676530,\"status\":\"ENT\",\"data_pedido\":\"2019-02-11T07:00:00.000-02:00\"}',\n",
       " '{\"id\":1008139756,\"status\":\"ENT\",\"data_pedido\":\"2019-02-11T04:00:00.000-02:00\"}',\n",
       " '{\"id\":1596267204,\"status\":\"ENT\",\"data_pedido\":\"2019-02-11T08:00:00.000-02:00\"}',\n",
       " '{\"id\":2020268024,\"status\":\"ENT\",\"data_pedido\":\"2019-02-11T10:00:00.000-02:00\"}',\n",
       " '{\"id\":813159204,\"status\":\"ENT\",\"data_pedido\":\"2019-02-11T07:00:00.000-02:00\"}',\n",
       " '{\"id\":-1240759751,\"status\":\"ENT\",\"data_pedido\":\"2019-02-11T04:00:00.000-02:00\"}',\n",
       " '{\"id\":-453608871,\"status\":\"ENT\",\"data_pedido\":\"2019-02-11T04:00:00.000-02:00\"}',\n",
       " '{\"id\":1068059316,\"status\":\"ENT\",\"data_pedido\":\"2019-02-11T09:14:00.000-02:00\"}',\n",
       " '{\"id\":398643169,\"status\":\"ENT\",\"data_pedido\":\"2019-02-11T10:20:00.000-02:00\"}',\n",
       " '{\"id\":-1420042752,\"status\":\"ENT\",\"data_pedido\":\"2019-02-11T10:42:00.000-02:00\"}',\n",
       " '{\"id\":357392849,\"status\":\"ENT\",\"data_pedido\":\"2019-02-11T06:36:00.000-02:00\"}',\n",
       " '{\"id\":-1593304191,\"status\":\"ENT\",\"data_pedido\":\"2019-02-11T10:19:00.000-02:00\"}',\n",
       " '{\"id\":1948881854,\"status\":\"ENT\",\"data_pedido\":\"2019-02-11T04:00:00.000-02:00\"}',\n",
       " '{\"id\":-848419835,\"status\":\"ENT\",\"data_pedido\":\"2019-02-11T11:37:00.000-02:00\"}',\n",
       " '{\"id\":2077554351,\"status\":\"ENT\",\"data_pedido\":\"2019-02-11T11:54:00.000-02:00\"}',\n",
       " '{\"id\":-1079155353,\"status\":\"ENT\",\"data_pedido\":\"2019-02-11T04:00:00.000-02:00\"}',\n",
       " '{\"id\":-2097359882,\"status\":\"ENT\",\"data_pedido\":\"2019-02-11T06:36:00.000-02:00\"}',\n",
       " '{\"id\":-1963511069,\"status\":\"ENT\",\"data_pedido\":\"2019-02-11T07:26:00.000-02:00\"}',\n",
       " '{\"id\":-1184726642,\"status\":\"ENT\",\"data_pedido\":\"2019-02-11T07:00:00.000-02:00\"}',\n",
       " '{\"id\":1135065613,\"status\":\"ENT\",\"data_pedido\":\"2019-02-11T11:00:00.000-02:00\"}',\n",
       " '{\"id\":-156091594,\"status\":\"ENT\",\"data_pedido\":\"2019-02-11T12:02:00.000-02:00\"}',\n",
       " '{\"id\":-1817083243,\"status\":\"ENT\",\"data_pedido\":\"2019-02-11T10:37:00.000-02:00\"}',\n",
       " '{\"id\":1799144817,\"status\":\"ENT\",\"data_pedido\":\"2019-02-11T09:58:00.000-02:00\"}',\n",
       " '{\"id\":-1293723399,\"status\":\"ENT\",\"data_pedido\":\"2019-02-11T11:30:00.000-02:00\"}',\n",
       " '{\"id\":1438602435,\"status\":\"ENT\",\"data_pedido\":\"2019-02-11T04:00:00.000-02:00\"}',\n",
       " '{\"id\":177669498,\"status\":\"ENT\",\"data_pedido\":\"2019-02-11T11:43:00.000-02:00\"}',\n",
       " '{\"id\":472009610,\"status\":\"ENT\",\"data_pedido\":\"2019-02-11T11:40:00.000-02:00\"}',\n",
       " '{\"id\":898875496,\"status\":\"ENT\",\"data_pedido\":\"2019-02-11T07:26:00.000-02:00\"}',\n",
       " '{\"id\":852350835,\"status\":\"ENT\",\"data_pedido\":\"2019-02-11T08:32:00.000-02:00\"}',\n",
       " '{\"id\":-1842033037,\"status\":\"ENT\",\"data_pedido\":\"2019-02-11T07:00:00.000-02:00\"}',\n",
       " '{\"id\":519321691,\"status\":\"ENT\",\"data_pedido\":\"2019-02-11T11:29:00.000-02:00\"}',\n",
       " '{\"id\":1282351671,\"status\":\"ENT\",\"data_pedido\":\"2019-02-11T11:55:00.000-02:00\"}',\n",
       " '{\"id\":-500278239,\"status\":\"ENT\",\"data_pedido\":\"2019-02-11T11:26:00.000-02:00\"}',\n",
       " '{\"id\":1511614620,\"status\":\"ENT\",\"data_pedido\":\"2019-02-11T12:20:00.000-02:00\"}',\n",
       " '{\"id\":-911207836,\"status\":\"ENT\",\"data_pedido\":\"2019-02-11T10:00:00.000-02:00\"}',\n",
       " '{\"id\":107099174,\"status\":\"ENT\",\"data_pedido\":\"2019-02-11T11:24:00.000-02:00\"}',\n",
       " '{\"id\":572024577,\"status\":\"ENT\",\"data_pedido\":\"2019-02-11T11:58:00.000-02:00\"}',\n",
       " '{\"id\":541327111,\"status\":\"ENT\",\"data_pedido\":\"2019-02-11T09:59:00.000-02:00\"}',\n",
       " '{\"id\":-341588972,\"status\":\"ENT\",\"data_pedido\":\"2019-02-11T11:05:00.000-02:00\"}',\n",
       " '{\"id\":-797988694,\"status\":\"ENT\",\"data_pedido\":\"2019-02-11T10:47:00.000-02:00\"}',\n",
       " '{\"id\":939517161,\"status\":\"ENT\",\"data_pedido\":\"2019-02-11T12:00:00.000-02:00\"}',\n",
       " '{\"id\":2026456880,\"status\":\"ENT\",\"data_pedido\":\"2019-02-11T10:00:00.000-02:00\"}',\n",
       " '{\"id\":1022252099,\"status\":\"ENT\",\"data_pedido\":\"2019-02-11T10:35:00.000-02:00\"}',\n",
       " '{\"id\":2146597692,\"status\":\"ENT\",\"data_pedido\":\"2019-02-11T11:08:00.000-02:00\"}',\n",
       " '{\"id\":-1376831630,\"status\":\"ENT\",\"data_pedido\":\"2019-02-11T11:12:00.000-02:00\"}',\n",
       " '{\"id\":-964934035,\"status\":\"ENT\",\"data_pedido\":\"2019-02-11T10:46:00.000-02:00\"}',\n",
       " '{\"id\":186626919,\"status\":\"ENT\",\"data_pedido\":\"2019-02-11T07:39:00.000-02:00\"}',\n",
       " '{\"id\":494680258,\"status\":\"ENT\",\"data_pedido\":\"2019-02-11T08:00:00.000-02:00\"}',\n",
       " '{\"id\":-1192777785,\"status\":\"ENT\",\"data_pedido\":\"2019-02-11T08:00:00.000-02:00\"}',\n",
       " '{\"id\":-1394395053,\"status\":\"ENT\",\"data_pedido\":\"2019-02-11T10:10:00.000-02:00\"}',\n",
       " '{\"id\":-753527977,\"status\":\"ENT\",\"data_pedido\":\"2019-02-11T10:34:00.000-02:00\"}',\n",
       " '{\"id\":-1035435282,\"status\":\"ENT\",\"data_pedido\":\"2019-02-11T10:00:00.000-02:00\"}',\n",
       " '{\"id\":624954576,\"status\":\"ENT\",\"data_pedido\":\"2019-02-11T05:46:00.000-02:00\"}',\n",
       " '{\"id\":582791585,\"status\":\"ENT\",\"data_pedido\":\"2019-02-11T06:36:00.000-02:00\"}',\n",
       " '{\"id\":1521643840,\"status\":\"ENT\",\"data_pedido\":\"2019-02-11T04:00:00.000-02:00\"}',\n",
       " '{\"id\":-1603836780,\"status\":\"ENT\",\"data_pedido\":\"2019-02-11T09:42:00.000-02:00\"}',\n",
       " '{\"id\":1856066438,\"status\":\"ENT\",\"data_pedido\":\"2019-02-11T08:00:00.000-02:00\"}',\n",
       " '{\"id\":1335213354,\"status\":\"ENT\",\"data_pedido\":\"2019-02-11T10:16:00.000-02:00\"}',\n",
       " '{\"id\":1377022707,\"status\":\"ENT\",\"data_pedido\":\"2019-02-11T11:37:00.000-02:00\"}',\n",
       " '{\"id\":444480255,\"status\":\"ENT\",\"data_pedido\":\"2019-02-11T04:00:00.000-02:00\"}',\n",
       " '{\"id\":-801933124,\"status\":\"ENT\",\"data_pedido\":\"2019-02-11T06:05:00.000-02:00\"}',\n",
       " '{\"id\":-1009980512,\"status\":\"ENT\",\"data_pedido\":\"2019-02-11T11:30:00.000-02:00\"}',\n",
       " '{\"id\":-1310068030,\"status\":\"ENT\",\"data_pedido\":\"2019-02-11T10:04:00.000-02:00\"}',\n",
       " '{\"id\":-152621871,\"status\":\"ENT\",\"data_pedido\":\"2019-02-11T10:14:00.000-02:00\"}',\n",
       " '{\"id\":-2014783301,\"status\":\"ENT\",\"data_pedido\":\"2019-02-11T12:29:00.000-02:00\"}',\n",
       " '{\"id\":-684873059,\"status\":\"ENT\",\"data_pedido\":\"2019-02-11T10:00:00.000-02:00\"}',\n",
       " '{\"id\":1471615354,\"status\":\"ENT\",\"data_pedido\":\"2019-02-11T10:58:00.000-02:00\"}',\n",
       " '{\"id\":-1847355247,\"status\":\"ENT\",\"data_pedido\":\"2019-02-11T12:19:00.000-02:00\"}',\n",
       " '{\"id\":-2014487026,\"status\":\"ENT\",\"data_pedido\":\"2019-02-11T07:00:00.000-02:00\"}',\n",
       " '{\"id\":-1674813383,\"status\":\"ENT\",\"data_pedido\":\"2019-02-11T10:10:00.000-02:00\"}',\n",
       " '{\"id\":-1703873134,\"status\":\"ENT\",\"data_pedido\":\"2019-02-11T12:08:00.000-02:00\"}',\n",
       " '{\"id\":1086591309,\"status\":\"ENT\",\"data_pedido\":\"2019-02-11T04:00:00.000-02:00\"}',\n",
       " '{\"id\":721231614,\"status\":\"ENT\",\"data_pedido\":\"2019-02-11T10:00:00.000-02:00\"}',\n",
       " '{\"id\":1303434417,\"status\":\"ENT\",\"data_pedido\":\"2019-02-11T10:24:00.000-02:00\"}',\n",
       " '{\"id\":-1448848784,\"status\":\"ENT\",\"data_pedido\":\"2019-02-11T09:54:00.000-02:00\"}',\n",
       " '{\"id\":-902734764,\"status\":\"ENT\",\"data_pedido\":\"2019-02-11T12:24:00.000-02:00\"}',\n",
       " '{\"id\":241023778,\"status\":\"ENT\",\"data_pedido\":\"2019-02-11T11:59:00.000-02:00\"}',\n",
       " '{\"id\":225891299,\"status\":\"ENT\",\"data_pedido\":\"2019-02-11T07:00:00.000-02:00\"}',\n",
       " '{\"id\":-524582768,\"status\":\"ENT\",\"data_pedido\":\"2019-02-11T06:26:00.000-02:00\"}',\n",
       " '{\"id\":1860234692,\"status\":\"ENT\",\"data_pedido\":\"2019-02-11T12:04:00.000-02:00\"}',\n",
       " '{\"id\":315202155,\"status\":\"ENT\",\"data_pedido\":\"2019-02-11T04:49:00.000-02:00\"}',\n",
       " '{\"id\":1082814298,\"status\":\"ENT\",\"data_pedido\":\"2019-02-11T11:00:00.000-02:00\"}',\n",
       " '{\"id\":-853738139,\"status\":\"ENT\",\"data_pedido\":\"2019-02-11T10:38:00.000-02:00\"}',\n",
       " '{\"id\":1066456831,\"status\":\"ENT\",\"data_pedido\":\"2019-02-11T10:00:00.000-02:00\"}',\n",
       " '{\"id\":-1742022237,\"status\":\"ENT\",\"data_pedido\":\"2019-02-11T10:10:00.000-02:00\"}',\n",
       " '{\"id\":385304050,\"status\":\"ENT\",\"data_pedido\":\"2019-02-11T09:21:00.000-02:00\"}',\n",
       " '{\"id\":-258706375,\"status\":\"ENT\",\"data_pedido\":\"2019-02-11T10:09:00.000-02:00\"}',\n",
       " '{\"id\":-2062251377,\"status\":\"ENT\",\"data_pedido\":\"2019-02-11T11:50:00.000-02:00\"}',\n",
       " '{\"id\":-2025491559,\"status\":\"ENT\",\"data_pedido\":\"2019-02-11T07:00:00.000-02:00\"}',\n",
       " '{\"id\":932579173,\"status\":\"ENT\",\"data_pedido\":\"2019-02-11T04:00:00.000-02:00\"}',\n",
       " '{\"id\":-2032396447,\"status\":\"ENT\",\"data_pedido\":\"2019-02-11T11:31:00.000-02:00\"}',\n",
       " '{\"id\":-263047096,\"status\":\"ENT\",\"data_pedido\":\"2019-02-11T09:14:00.000-02:00\"}',\n",
       " '{\"id\":-1576451854,\"status\":\"ENT\",\"data_pedido\":\"2019-02-11T12:09:00.000-02:00\"}',\n",
       " '{\"id\":1497490049,\"status\":\"ENT\",\"data_pedido\":\"2019-02-11T08:17:00.000-02:00\"}',\n",
       " '{\"id\":1964244048,\"status\":\"ENT\",\"data_pedido\":\"2019-02-11T11:31:00.000-02:00\"}',\n",
       " '{\"id\":1307409666,\"status\":\"ENT\",\"data_pedido\":\"2019-02-11T09:45:00.000-02:00\"}',\n",
       " '{\"id\":1614464458,\"status\":\"ENT\",\"data_pedido\":\"2019-02-11T07:11:00.000-02:00\"}',\n",
       " '{\"id\":-1475939155,\"status\":\"ENT\",\"data_pedido\":\"2019-02-11T10:37:00.000-02:00\"}',\n",
       " '{\"id\":-1102252749,\"status\":\"ENT\",\"data_pedido\":\"2019-02-11T12:20:00.000-02:00\"}',\n",
       " '{\"id\":591298907,\"status\":\"ENT\",\"data_pedido\":\"2019-02-11T10:00:00.000-02:00\"}',\n",
       " '{\"id\":-1102508113,\"status\":\"ENT\",\"data_pedido\":\"2019-02-11T09:58:00.000-02:00\"}',\n",
       " '{\"id\":-1812380226,\"status\":\"ENT\",\"data_pedido\":\"2019-02-11T10:07:00.000-02:00\"}',\n",
       " '{\"id\":371332637,\"status\":\"ENT\",\"data_pedido\":\"2019-02-11T10:01:00.000-02:00\"}',\n",
       " '{\"id\":510195121,\"status\":\"ENT\",\"data_pedido\":\"2019-02-11T10:37:00.000-02:00\"}',\n",
       " '{\"id\":284762041,\"status\":\"ENT\",\"data_pedido\":\"2019-02-11T09:41:00.000-02:00\"}',\n",
       " '{\"id\":-110176647,\"status\":\"ENT\",\"data_pedido\":\"2019-02-11T11:49:00.000-02:00\"}',\n",
       " '{\"id\":-1296096724,\"status\":\"ENT\",\"data_pedido\":\"2019-02-11T11:19:00.000-02:00\"}',\n",
       " '{\"id\":-1757983797,\"status\":\"ENT\",\"data_pedido\":\"2019-02-11T12:06:00.000-02:00\"}',\n",
       " '{\"id\":-1740001761,\"status\":\"ENT\",\"data_pedido\":\"2019-02-11T07:00:00.000-02:00\"}',\n",
       " '{\"id\":1568435886,\"status\":\"ENT\",\"data_pedido\":\"2019-02-11T11:06:00.000-02:00\"}',\n",
       " '{\"id\":908713409,\"status\":\"ENT\",\"data_pedido\":\"2019-02-11T12:11:00.000-02:00\"}',\n",
       " '{\"id\":1467055953,\"status\":\"ENT\",\"data_pedido\":\"2019-02-11T00:41:00.000-02:00\"}',\n",
       " '{\"id\":90320704,\"status\":\"ENT\",\"data_pedido\":\"2019-02-11T10:32:00.000-02:00\"}',\n",
       " '{\"id\":-937513466,\"status\":\"ENT\",\"data_pedido\":\"2019-02-11T04:00:00.000-02:00\"}',\n",
       " '{\"id\":1538255333,\"status\":\"ENT\",\"data_pedido\":\"2019-02-11T11:15:00.000-02:00\"}',\n",
       " '{\"id\":-922906359,\"status\":\"ENT\",\"data_pedido\":\"2019-02-11T04:00:00.000-02:00\"}',\n",
       " '{\"id\":2097784485,\"status\":\"ENT\",\"data_pedido\":\"2019-02-11T06:36:00.000-02:00\"}',\n",
       " '{\"id\":323087374,\"status\":\"ENT\",\"data_pedido\":\"2019-02-11T10:57:00.000-02:00\"}',\n",
       " '{\"id\":986175922,\"status\":\"ENT\",\"data_pedido\":\"2019-02-11T06:36:00.000-02:00\"}',\n",
       " '{\"id\":1002066980,\"status\":\"ENT\",\"data_pedido\":\"2019-02-11T10:24:00.000-02:00\"}',\n",
       " '{\"id\":107401417,\"status\":\"ENT\",\"data_pedido\":\"2019-02-11T10:00:00.000-02:00\"}',\n",
       " '{\"id\":-484711560,\"status\":\"ENT\",\"data_pedido\":\"2019-02-11T11:49:00.000-02:00\"}',\n",
       " '{\"id\":-1829346080,\"status\":\"ENT\",\"data_pedido\":\"2019-02-11T09:41:00.000-02:00\"}',\n",
       " '{\"id\":-150423192,\"status\":\"ENT\",\"data_pedido\":\"2019-02-11T07:54:00.000-02:00\"}',\n",
       " '{\"id\":-70798208,\"status\":\"ENT\",\"data_pedido\":\"2019-02-11T11:37:00.000-02:00\"}',\n",
       " '{\"id\":415271027,\"status\":\"ENT\",\"data_pedido\":\"2019-02-11T10:07:00.000-02:00\"}',\n",
       " '{\"id\":700742159,\"status\":\"ENT\",\"data_pedido\":\"2019-02-11T04:00:00.000-02:00\"}',\n",
       " '{\"id\":584076,\"status\":\"ENT\",\"data_pedido\":\"2019-02-11T09:10:00.000-02:00\"}',\n",
       " '{\"id\":-1046189749,\"status\":\"ENT\",\"data_pedido\":\"2019-02-11T04:00:00.000-02:00\"}',\n",
       " '{\"id\":1131009067,\"status\":\"ENT\",\"data_pedido\":\"2019-02-11T11:34:00.000-02:00\"}',\n",
       " '{\"id\":-1573648381,\"status\":\"ENT\",\"data_pedido\":\"2019-02-11T06:37:00.000-02:00\"}',\n",
       " '{\"id\":-1769945303,\"status\":\"ENT\",\"data_pedido\":\"2019-02-11T09:42:00.000-02:00\"}',\n",
       " '{\"id\":-23900666,\"status\":\"ENT\",\"data_pedido\":\"2019-02-11T11:38:00.000-02:00\"}',\n",
       " '{\"id\":-1313114578,\"status\":\"ENT\",\"data_pedido\":\"2019-02-11T10:00:00.000-02:00\"}',\n",
       " '{\"id\":779107383,\"status\":\"ENT\",\"data_pedido\":\"2019-02-11T08:23:00.000-02:00\"}',\n",
       " '{\"id\":344729528,\"status\":\"ENT\",\"data_pedido\":\"2019-02-11T04:00:00.000-02:00\"}',\n",
       " '{\"id\":47728856,\"status\":\"ENT\",\"data_pedido\":\"2019-02-11T04:00:00.000-02:00\"}',\n",
       " '{\"id\":708509990,\"status\":\"ENT\",\"data_pedido\":\"2019-02-11T10:00:00.000-02:00\"}',\n",
       " '{\"id\":-927725719,\"status\":\"ENT\",\"data_pedido\":\"2019-02-11T04:49:00.000-02:00\"}',\n",
       " '{\"id\":-820736670,\"status\":\"ENT\",\"data_pedido\":\"2019-02-11T10:29:00.000-02:00\"}',\n",
       " '{\"id\":2017381142,\"status\":\"ENT\",\"data_pedido\":\"2019-02-11T07:00:00.000-02:00\"}',\n",
       " '{\"id\":1918192062,\"status\":\"ENT\",\"data_pedido\":\"2019-02-11T09:37:00.000-02:00\"}',\n",
       " '{\"id\":-1530689981,\"status\":\"ENT\",\"data_pedido\":\"2019-02-11T10:58:00.000-02:00\"}',\n",
       " '{\"id\":-140525394,\"status\":\"ENT\",\"data_pedido\":\"2019-02-11T11:46:00.000-02:00\"}',\n",
       " '{\"id\":879850724,\"status\":\"ENT\",\"data_pedido\":\"2019-02-11T10:44:00.000-02:00\"}',\n",
       " '{\"id\":1839351492,\"status\":\"ENT\",\"data_pedido\":\"2019-02-11T04:00:00.000-02:00\"}',\n",
       " '{\"id\":-1140295031,\"status\":\"ENT\",\"data_pedido\":\"2019-02-11T09:03:00.000-02:00\"}',\n",
       " '{\"id\":-115733488,\"status\":\"ENT\",\"data_pedido\":\"2019-02-11T09:58:00.000-02:00\"}',\n",
       " '{\"id\":-507451701,\"status\":\"ENT\",\"data_pedido\":\"2019-02-11T10:00:00.000-02:00\"}',\n",
       " '{\"id\":-1656073463,\"status\":\"ENT\",\"data_pedido\":\"2019-02-11T10:47:00.000-02:00\"}',\n",
       " '{\"id\":625351186,\"status\":\"ENT\",\"data_pedido\":\"2019-02-11T08:11:00.000-02:00\"}',\n",
       " '{\"id\":1892844394,\"status\":\"ENT\",\"data_pedido\":\"2019-02-11T04:00:00.000-02:00\"}',\n",
       " '{\"id\":2029846786,\"status\":\"ENT\",\"data_pedido\":\"2019-02-11T11:31:00.000-02:00\"}',\n",
       " '{\"id\":54159881,\"status\":\"ENT\",\"data_pedido\":\"2019-02-11T10:40:00.000-02:00\"}',\n",
       " '{\"id\":-1546493266,\"status\":\"ENT\",\"data_pedido\":\"2019-02-11T07:00:00.000-02:00\"}',\n",
       " '{\"id\":-124942456,\"status\":\"ENT\",\"data_pedido\":\"2019-02-11T10:37:00.000-02:00\"}',\n",
       " '{\"id\":-1064422121,\"status\":\"ENT\",\"data_pedido\":\"2019-02-11T08:46:00.000-02:00\"}',\n",
       " '{\"id\":-1235267979,\"status\":\"ENT\",\"data_pedido\":\"2019-02-11T04:00:00.000-02:00\"}',\n",
       " '{\"id\":1104080755,\"status\":\"ENT\",\"data_pedido\":\"2019-02-11T11:00:00.000-02:00\"}',\n",
       " '{\"id\":1615799851,\"status\":\"ENT\",\"data_pedido\":\"2019-02-11T11:37:00.000-02:00\"}',\n",
       " '{\"id\":-1284561133,\"status\":\"ENT\",\"data_pedido\":\"2019-02-11T08:10:00.000-02:00\"}',\n",
       " '{\"id\":-1734088720,\"status\":\"ENT\",\"data_pedido\":\"2019-02-11T10:32:00.000-02:00\"}',\n",
       " '{\"id\":-1057886142,\"status\":\"ENT\",\"data_pedido\":\"2019-02-11T11:46:00.000-02:00\"}',\n",
       " '{\"id\":1782883961,\"status\":\"ENT\",\"data_pedido\":\"2019-02-11T12:08:00.000-02:00\"}',\n",
       " '{\"id\":1974489653,\"status\":\"ENT\",\"data_pedido\":\"2019-02-11T09:55:00.000-02:00\"}',\n",
       " '{\"id\":-676798521,\"status\":\"ENT\",\"data_pedido\":\"2019-02-11T07:00:00.000-02:00\"}',\n",
       " '{\"id\":-1232022129,\"status\":\"ENT\",\"data_pedido\":\"2019-02-11T09:00:00.000-02:00\"}',\n",
       " '{\"id\":1896780616,\"status\":\"ENT\",\"data_pedido\":\"2019-02-11T11:39:00.000-02:00\"}',\n",
       " '{\"id\":1942385221,\"status\":\"ENT\",\"data_pedido\":\"2019-02-11T08:37:00.000-02:00\"}',\n",
       " '{\"id\":1570085530,\"status\":\"ENT\",\"data_pedido\":\"2019-02-11T10:42:00.000-02:00\"}',\n",
       " '{\"id\":-159000035,\"status\":\"ENT\",\"data_pedido\":\"2019-02-11T10:01:00.000-02:00\"}',\n",
       " '{\"id\":-46146574,\"status\":\"ENT\",\"data_pedido\":\"2019-02-11T10:44:00.000-02:00\"}',\n",
       " '{\"id\":-1332493717,\"status\":\"ENT\",\"data_pedido\":\"2019-02-11T04:00:00.000-02:00\"}',\n",
       " '{\"id\":-1136217095,\"status\":\"ENT\",\"data_pedido\":\"2019-02-11T11:16:00.000-02:00\"}',\n",
       " '{\"id\":247601297,\"status\":\"ENT\",\"data_pedido\":\"2019-02-11T07:00:00.000-02:00\"}',\n",
       " '{\"id\":1156531577,\"status\":\"ENT\",\"data_pedido\":\"2019-02-11T12:19:00.000-02:00\"}',\n",
       " '{\"id\":1029303768,\"status\":\"ENT\",\"data_pedido\":\"2019-02-11T04:00:00.000-02:00\"}',\n",
       " '{\"id\":241152308,\"status\":\"ENT\",\"data_pedido\":\"2019-02-11T04:00:00.000-02:00\"}',\n",
       " '{\"id\":-1345274564,\"status\":\"ENT\",\"data_pedido\":\"2019-02-11T10:07:00.000-02:00\"}',\n",
       " '{\"id\":-143470100,\"status\":\"ENT\",\"data_pedido\":\"2019-02-11T11:04:00.000-02:00\"}',\n",
       " '{\"id\":-1523948263,\"status\":\"ENT\",\"data_pedido\":\"2019-02-11T10:43:00.000-02:00\"}',\n",
       " '{\"id\":-2049466218,\"status\":\"ENT\",\"data_pedido\":\"2019-02-11T11:33:00.000-02:00\"}',\n",
       " '{\"id\":350310840,\"status\":\"ENT\",\"data_pedido\":\"2019-02-11T10:37:00.000-02:00\"}',\n",
       " '{\"id\":-647283591,\"status\":\"ENT\",\"data_pedido\":\"2019-02-11T04:00:00.000-02:00\"}',\n",
       " '{\"id\":814877950,\"status\":\"ENT\",\"data_pedido\":\"2019-02-11T07:00:00.000-02:00\"}',\n",
       " '{\"id\":-1284641937,\"status\":\"ENT\",\"data_pedido\":\"2019-02-11T12:20:00.000-02:00\"}',\n",
       " '{\"id\":747767331,\"status\":\"ENT\",\"data_pedido\":\"2019-02-11T11:31:00.000-02:00\"}',\n",
       " '{\"id\":2003278988,\"status\":\"ENT\",\"data_pedido\":\"2019-02-11T10:41:00.000-02:00\"}',\n",
       " '{\"id\":-1474722848,\"status\":\"ENT\",\"data_pedido\":\"2019-02-11T07:07:00.000-02:00\"}',\n",
       " '{\"id\":-5742601,\"status\":\"ENT\",\"data_pedido\":\"2019-02-11T10:01:00.000-02:00\"}',\n",
       " '{\"id\":250123077,\"status\":\"ENT\",\"data_pedido\":\"2019-02-11T08:00:00.000-02:00\"}',\n",
       " '{\"id\":1985328552,\"status\":\"ENT\",\"data_pedido\":\"2019-02-11T10:17:00.000-02:00\"}',\n",
       " '{\"id\":-1926554728,\"status\":\"ENT\",\"data_pedido\":\"2019-02-11T12:18:00.000-02:00\"}',\n",
       " '{\"id\":1415751568,\"status\":\"ENT\",\"data_pedido\":\"2019-02-11T11:33:00.000-02:00\"}',\n",
       " '{\"id\":1617409504,\"status\":\"ENT\",\"data_pedido\":\"2019-02-11T08:19:00.000-02:00\"}',\n",
       " '{\"id\":-866141763,\"status\":\"ENT\",\"data_pedido\":\"2019-02-11T11:05:00.000-02:00\"}',\n",
       " '{\"id\":1637267206,\"status\":\"ENT\",\"data_pedido\":\"2019-02-11T07:02:00.000-02:00\"}',\n",
       " '{\"id\":-428223441,\"status\":\"ENT\",\"data_pedido\":\"2019-02-11T11:18:00.000-02:00\"}',\n",
       " '{\"id\":-27049699,\"status\":\"ENT\",\"data_pedido\":\"2019-02-11T10:44:00.000-02:00\"}',\n",
       " '{\"id\":1997398832,\"status\":\"ENT\",\"data_pedido\":\"2019-02-11T09:07:00.000-02:00\"}',\n",
       " '{\"id\":506478191,\"status\":\"ENT\",\"data_pedido\":\"2019-02-11T09:30:00.000-02:00\"}',\n",
       " '{\"id\":-223354522,\"status\":\"ENT\",\"data_pedido\":\"2019-02-11T11:06:00.000-02:00\"}',\n",
       " '{\"id\":633590267,\"status\":\"ENT\",\"data_pedido\":\"2019-02-11T10:34:00.000-02:00\"}',\n",
       " '{\"id\":-625590157,\"status\":\"ENT\",\"data_pedido\":\"2019-02-11T04:00:00.000-02:00\"}',\n",
       " '{\"id\":-1342990754,\"status\":\"ENT\",\"data_pedido\":\"2019-02-11T10:04:00.000-02:00\"}',\n",
       " '{\"id\":-1797482757,\"status\":\"ENT\",\"data_pedido\":\"2019-02-11T09:58:00.000-02:00\"}',\n",
       " '{\"id\":1656637370,\"status\":\"ENT\",\"data_pedido\":\"2019-02-11T11:00:00.000-02:00\"}',\n",
       " '{\"id\":-122143252,\"status\":\"ENT\",\"data_pedido\":\"2019-02-11T11:55:00.000-02:00\"}',\n",
       " '{\"id\":1859609557,\"status\":\"ENT\",\"data_pedido\":\"2019-02-11T10:09:00.000-02:00\"}',\n",
       " '{\"id\":-1782721921,\"status\":\"ENT\",\"data_pedido\":\"2019-02-11T10:16:00.000-02:00\"}',\n",
       " '{\"id\":614643535,\"status\":\"ENT\",\"data_pedido\":\"2019-02-11T10:48:00.000-02:00\"}',\n",
       " '{\"id\":-1605610618,\"status\":\"ENT\",\"data_pedido\":\"2019-02-11T10:01:00.000-02:00\"}',\n",
       " '{\"id\":597599441,\"status\":\"ENT\",\"data_pedido\":\"2019-02-11T10:32:00.000-02:00\"}',\n",
       " '{\"id\":-18488609,\"status\":\"ENT\",\"data_pedido\":\"2019-02-11T12:19:00.000-02:00\"}',\n",
       " '{\"id\":-329674634,\"status\":\"ENT\",\"data_pedido\":\"2019-02-11T12:02:00.000-02:00\"}',\n",
       " '{\"id\":2002868131,\"status\":\"ENT\",\"data_pedido\":\"2019-02-11T10:30:00.000-02:00\"}',\n",
       " '{\"id\":400810538,\"status\":\"ENT\",\"data_pedido\":\"2019-02-11T10:05:00.000-02:00\"}',\n",
       " '{\"id\":1328770270,\"status\":\"ENT\",\"data_pedido\":\"2019-02-11T08:19:00.000-02:00\"}',\n",
       " '{\"id\":-1502740037,\"status\":\"ENT\",\"data_pedido\":\"2019-02-11T11:30:00.000-02:00\"}',\n",
       " '{\"id\":-1709430035,\"status\":\"ENT\",\"data_pedido\":\"2019-02-11T12:00:00.000-02:00\"}',\n",
       " '{\"id\":-461711502,\"status\":\"ENT\",\"data_pedido\":\"2019-02-11T05:25:00.000-02:00\"}',\n",
       " '{\"id\":1867025369,\"status\":\"ENT\",\"data_pedido\":\"2019-02-11T09:42:00.000-02:00\"}',\n",
       " '{\"id\":-1062330015,\"status\":\"ENT\",\"data_pedido\":\"2019-02-11T10:53:00.000-02:00\"}',\n",
       " '{\"id\":2088909682,\"status\":\"ENT\",\"data_pedido\":\"2019-02-11T10:00:00.000-02:00\"}',\n",
       " '{\"id\":-999937267,\"status\":\"ENT\",\"data_pedido\":\"2019-02-11T04:00:00.000-02:00\"}',\n",
       " '{\"id\":2107435382,\"status\":\"ENT\",\"data_pedido\":\"2019-02-11T10:20:00.000-02:00\"}',\n",
       " '{\"id\":1290317436,\"status\":\"ENT\",\"data_pedido\":\"2019-02-11T12:22:00.000-02:00\"}',\n",
       " '{\"id\":481246891,\"status\":\"ENT\",\"data_pedido\":\"2019-02-11T09:52:00.000-02:00\"}',\n",
       " '{\"id\":-2047654455,\"status\":\"ENT\",\"data_pedido\":\"2019-02-11T11:33:00.000-02:00\"}',\n",
       " '{\"id\":1693283820,\"status\":\"ENT\",\"data_pedido\":\"2019-02-11T09:25:00.000-02:00\"}',\n",
       " '{\"id\":1736237569,\"status\":\"ENT\",\"data_pedido\":\"2019-02-11T06:50:00.000-02:00\"}',\n",
       " '{\"id\":-1525751918,\"status\":\"ENT\",\"data_pedido\":\"2019-02-11T12:29:00.000-02:00\"}',\n",
       " '{\"id\":-1819198800,\"status\":\"ENT\",\"data_pedido\":\"2019-02-11T10:00:00.000-02:00\"}',\n",
       " '{\"id\":346544838,\"status\":\"ENT\",\"data_pedido\":\"2019-02-11T04:00:00.000-02:00\"}',\n",
       " '{\"id\":-1823513810,\"status\":\"ENT\",\"data_pedido\":\"2019-02-11T06:57:00.000-02:00\"}',\n",
       " '{\"id\":1988747800,\"status\":\"ENT\",\"data_pedido\":\"2019-02-11T09:57:00.000-02:00\"}',\n",
       " '{\"id\":492084189,\"status\":\"ENT\",\"data_pedido\":\"2019-02-11T09:45:00.000-02:00\"}',\n",
       " '{\"id\":1488621035,\"status\":\"ENT\",\"data_pedido\":\"2019-02-11T10:07:00.000-02:00\"}',\n",
       " '{\"id\":-796486297,\"status\":\"ENT\",\"data_pedido\":\"2019-02-11T10:15:00.000-02:00\"}',\n",
       " '{\"id\":39224776,\"status\":\"ENT\",\"data_pedido\":\"2019-02-11T07:33:00.000-02:00\"}',\n",
       " '{\"id\":1780961010,\"status\":\"ENT\",\"data_pedido\":\"2019-02-11T10:52:00.000-02:00\"}',\n",
       " '{\"id\":-481549994,\"status\":\"ENT\",\"data_pedido\":\"2019-02-11T10:10:00.000-02:00\"}',\n",
       " '{\"id\":-1652574123,\"status\":\"ENT\",\"data_pedido\":\"2019-02-11T11:40:00.000-02:00\"}',\n",
       " '{\"id\":-188780255,\"status\":\"ENT\",\"data_pedido\":\"2019-02-11T06:57:00.000-02:00\"}',\n",
       " '{\"id\":-1350296200,\"status\":\"ENT\",\"data_pedido\":\"2019-02-11T10:34:00.000-02:00\"}',\n",
       " '{\"id\":370446498,\"status\":\"ENT\",\"data_pedido\":\"2019-02-11T07:50:00.000-02:00\"}',\n",
       " '{\"id\":-469384846,\"status\":\"ENT\",\"data_pedido\":\"2019-02-11T08:24:00.000-02:00\"}',\n",
       " '{\"id\":-320285376,\"status\":\"ENT\",\"data_pedido\":\"2019-02-11T09:21:00.000-02:00\"}',\n",
       " '{\"id\":1177983955,\"status\":\"ENT\",\"data_pedido\":\"2019-02-11T10:30:00.000-02:00\"}',\n",
       " '{\"id\":525230748,\"status\":\"ENT\",\"data_pedido\":\"2019-02-11T11:40:00.000-02:00\"}',\n",
       " '{\"id\":1519452526,\"status\":\"ENT\",\"data_pedido\":\"2019-02-11T09:28:00.000-02:00\"}',\n",
       " '{\"id\":-1902345773,\"status\":\"ENT\",\"data_pedido\":\"2019-02-11T09:03:00.000-02:00\"}',\n",
       " '{\"id\":1132993203,\"status\":\"ENT\",\"data_pedido\":\"2019-02-11T09:15:00.000-02:00\"}',\n",
       " '{\"id\":-1381794081,\"status\":\"ENT\",\"data_pedido\":\"2019-02-11T10:00:00.000-02:00\"}',\n",
       " '{\"id\":805660141,\"status\":\"ENT\",\"data_pedido\":\"2019-02-11T10:15:00.000-02:00\"}',\n",
       " '{\"id\":175288134,\"status\":\"ENT\",\"data_pedido\":\"2019-02-11T04:00:00.000-02:00\"}',\n",
       " '{\"id\":-1736649290,\"status\":\"ENT\",\"data_pedido\":\"2019-02-11T04:00:00.000-02:00\"}',\n",
       " '{\"id\":1797737770,\"status\":\"ENT\",\"data_pedido\":\"2019-02-11T10:49:00.000-02:00\"}',\n",
       " '{\"id\":-1066356412,\"status\":\"ENT\",\"data_pedido\":\"2019-02-11T07:56:00.000-02:00\"}',\n",
       " '{\"id\":572639168,\"status\":\"ENT\",\"data_pedido\":\"2019-02-11T08:00:00.000-02:00\"}',\n",
       " '{\"id\":1060927869,\"status\":\"ENT\",\"data_pedido\":\"2019-02-11T07:26:00.000-02:00\"}',\n",
       " '{\"id\":-1319639298,\"status\":\"ENT\",\"data_pedido\":\"2019-02-11T06:36:00.000-02:00\"}',\n",
       " '{\"id\":-1677366000,\"status\":\"ENT\",\"data_pedido\":\"2019-02-11T12:06:00.000-02:00\"}',\n",
       " '{\"id\":-1447655953,\"status\":\"ENT\",\"data_pedido\":\"2019-02-11T10:34:00.000-02:00\"}',\n",
       " '{\"id\":385112679,\"status\":\"ENT\",\"data_pedido\":\"2019-02-11T08:13:00.000-02:00\"}',\n",
       " '{\"id\":-663703591,\"status\":\"ENT\",\"data_pedido\":\"2019-02-11T12:26:00.000-02:00\"}',\n",
       " '{\"id\":988750636,\"status\":\"ENT\",\"data_pedido\":\"2019-02-11T09:04:00.000-02:00\"}',\n",
       " '{\"id\":-1859446247,\"status\":\"ENT\",\"data_pedido\":\"2019-02-11T11:16:00.000-02:00\"}',\n",
       " '{\"id\":1166245360,\"status\":\"ENT\",\"data_pedido\":\"2019-02-11T08:19:00.000-02:00\"}',\n",
       " '{\"id\":-1208732080,\"status\":\"ENT\",\"data_pedido\":\"2019-02-11T07:30:00.000-02:00\"}',\n",
       " '{\"id\":-1948311492,\"status\":\"ENT\",\"data_pedido\":\"2019-02-11T06:36:00.000-02:00\"}',\n",
       " '{\"id\":-1876499824,\"status\":\"ENT\",\"data_pedido\":\"2019-02-11T11:40:00.000-02:00\"}',\n",
       " '{\"id\":1094542236,\"status\":\"ENT\",\"data_pedido\":\"2019-02-11T10:32:00.000-02:00\"}',\n",
       " '{\"id\":-1439245452,\"status\":\"ENT\",\"data_pedido\":\"2019-02-11T09:00:00.000-02:00\"}',\n",
       " '{\"id\":189903517,\"status\":\"ENT\",\"data_pedido\":\"2019-02-11T11:37:00.000-02:00\"}',\n",
       " '{\"id\":-944562359,\"status\":\"ENT\",\"data_pedido\":\"2019-02-11T10:00:00.000-02:00\"}',\n",
       " '{\"id\":1369660411,\"status\":\"ENT\",\"data_pedido\":\"2019-02-11T11:59:00.000-02:00\"}',\n",
       " '{\"id\":1166673650,\"status\":\"ENT\",\"data_pedido\":\"2019-02-11T09:42:00.000-02:00\"}',\n",
       " '{\"id\":-397912860,\"status\":\"ENT\",\"data_pedido\":\"2019-02-11T11:19:00.000-02:00\"}',\n",
       " '{\"id\":-1743619134,\"status\":\"ENT\",\"data_pedido\":\"2019-02-11T12:08:00.000-02:00\"}',\n",
       " '{\"id\":-1859165610,\"status\":\"ENT\",\"data_pedido\":\"2019-02-11T11:11:00.000-02:00\"}',\n",
       " '{\"id\":-1716472637,\"status\":\"ENT\",\"data_pedido\":\"2019-02-11T11:35:00.000-02:00\"}',\n",
       " '{\"id\":1869803147,\"status\":\"ENT\",\"data_pedido\":\"2019-02-11T10:00:00.000-02:00\"}',\n",
       " '{\"id\":-1528119287,\"status\":\"ENT\",\"data_pedido\":\"2019-02-11T10:20:00.000-02:00\"}',\n",
       " '{\"id\":-857692647,\"status\":\"ENT\",\"data_pedido\":\"2019-02-11T06:50:00.000-02:00\"}',\n",
       " '{\"id\":1990590354,\"status\":\"ENT\",\"data_pedido\":\"2019-02-11T06:37:00.000-02:00\"}',\n",
       " '{\"id\":-1627096596,\"status\":\"ENT\",\"data_pedido\":\"2019-02-11T10:24:00.000-02:00\"}',\n",
       " '{\"id\":2039655009,\"status\":\"ENT\",\"data_pedido\":\"2019-02-11T07:00:00.000-02:00\"}',\n",
       " '{\"id\":190780801,\"status\":\"ENT\",\"data_pedido\":\"2019-02-11T08:12:00.000-02:00\"}',\n",
       " '{\"id\":-1207096460,\"status\":\"ENT\",\"data_pedido\":\"2019-02-11T08:00:00.000-02:00\"}',\n",
       " '{\"id\":-1981448062,\"status\":\"ENT\",\"data_pedido\":\"2019-02-11T09:12:00.000-02:00\"}',\n",
       " '{\"id\":-1434290021,\"status\":\"ENT\",\"data_pedido\":\"2019-02-11T08:00:00.000-02:00\"}',\n",
       " '{\"id\":1835911339,\"status\":\"ENT\",\"data_pedido\":\"2019-02-11T12:19:00.000-02:00\"}',\n",
       " '{\"id\":-138301995,\"status\":\"ENT\",\"data_pedido\":\"2019-02-11T10:35:00.000-02:00\"}',\n",
       " '{\"id\":1002745734,\"status\":\"ENT\",\"data_pedido\":\"2019-02-11T10:31:00.000-02:00\"}',\n",
       " '{\"id\":-795999939,\"status\":\"ENT\",\"data_pedido\":\"2019-02-11T11:20:00.000-02:00\"}',\n",
       " '{\"id\":347188868,\"status\":\"ENT\",\"data_pedido\":\"2019-02-11T06:37:00.000-02:00\"}',\n",
       " '{\"id\":885645938,\"status\":\"ENT\",\"data_pedido\":\"2019-02-11T07:17:00.000-02:00\"}',\n",
       " '{\"id\":543261997,\"status\":\"ENT\",\"data_pedido\":\"2019-02-11T08:19:00.000-02:00\"}',\n",
       " '{\"id\":-1718827156,\"status\":\"ENT\",\"data_pedido\":\"2019-02-11T09:23:00.000-02:00\"}',\n",
       " '{\"id\":-1039943558,\"status\":\"ENT\",\"data_pedido\":\"2019-02-11T09:06:00.000-02:00\"}',\n",
       " '{\"id\":442013584,\"status\":\"ENT\",\"data_pedido\":\"2019-02-11T11:25:00.000-02:00\"}',\n",
       " '{\"id\":-1585693212,\"status\":\"ENT\",\"data_pedido\":\"2019-02-11T06:37:00.000-02:00\"}',\n",
       " '{\"id\":-732128199,\"status\":\"ENT\",\"data_pedido\":\"2019-02-11T09:40:00.000-02:00\"}',\n",
       " '{\"id\":669629910,\"status\":\"ENT\",\"data_pedido\":\"2019-02-11T11:17:00.000-02:00\"}',\n",
       " '{\"id\":1260222677,\"status\":\"ENT\",\"data_pedido\":\"2019-02-11T08:19:00.000-02:00\"}',\n",
       " '{\"id\":-1071000035,\"status\":\"ENT\",\"data_pedido\":\"2019-02-11T08:01:00.000-02:00\"}',\n",
       " '{\"id\":1646523743,\"status\":\"ENT\",\"data_pedido\":\"2019-02-11T10:50:00.000-02:00\"}',\n",
       " '{\"id\":967744724,\"status\":\"ENT\",\"data_pedido\":\"2019-02-11T09:57:00.000-02:00\"}',\n",
       " '{\"id\":-1040793366,\"status\":\"ENT\",\"data_pedido\":\"2019-02-11T09:56:00.000-02:00\"}',\n",
       " '{\"id\":2119599647,\"status\":\"ENT\",\"data_pedido\":\"2019-02-11T09:06:00.000-02:00\"}',\n",
       " '{\"id\":86821892,\"status\":\"ENT\",\"data_pedido\":\"2019-02-11T10:00:00.000-02:00\"}',\n",
       " '{\"id\":-493173529,\"status\":\"ENT\",\"data_pedido\":\"2019-02-11T10:01:00.000-02:00\"}',\n",
       " ...]"
      ]
     },
     "execution_count": 62,
     "metadata": {},
     "output_type": "execute_result"
    }
   ],
   "source": [
    "dataframe_json.collect()"
   ]
  },
  {
   "cell_type": "code",
   "execution_count": 64,
   "metadata": {},
   "outputs": [],
   "source": [
    "dataframe_union = dataframe_fevereiro.union(dataframe_exclusao_linhas)"
   ]
  },
  {
   "cell_type": "code",
   "execution_count": null,
   "metadata": {},
   "outputs": [],
   "source": []
  },
  {
   "cell_type": "code",
   "execution_count": null,
   "metadata": {},
   "outputs": [],
   "source": []
  }
 ],
 "metadata": {
  "kernelspec": {
   "display_name": "Python 3",
   "language": "python",
   "name": "python3"
  },
  "language_info": {
   "codemirror_mode": {
    "name": "ipython",
    "version": 3
   },
   "file_extension": ".py",
   "mimetype": "text/x-python",
   "name": "python",
   "nbconvert_exporter": "python",
   "pygments_lexer": "ipython3",
   "version": "3.7.3"
  }
 },
 "nbformat": 4,
 "nbformat_minor": 2
}
