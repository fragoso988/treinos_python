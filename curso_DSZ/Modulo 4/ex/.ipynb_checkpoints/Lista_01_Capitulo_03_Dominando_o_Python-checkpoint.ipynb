{
 "cells": [
  {
   "cell_type": "markdown",
   "metadata": {
    "colab_type": "text",
    "id": "t8qG28pDnfuM"
   },
   "source": [
    "# Exercícios - Capítulo Dominando o Python"
   ]
  },
  {
   "cell_type": "markdown",
   "metadata": {
    "colab_type": "text",
    "id": "N9fXnHvPnfuN"
   },
   "source": [
    "1) Imprima a frase \"Eu sou Minerador de Dados!\""
   ]
  },
  {
   "cell_type": "code",
   "execution_count": 4,
   "metadata": {},
   "outputs": [
    {
     "name": "stdout",
     "output_type": "stream",
     "text": [
      "Eu sou Minerador de Dados!\n"
     ]
    }
   ],
   "source": [
    "print (\"Eu sou Minerador de Dados!\")"
   ]
  },
  {
   "cell_type": "markdown",
   "metadata": {
    "colab_type": "text",
    "id": "dK5aLDPDnfuO"
   },
   "source": [
    "2) Faça operações matemáticas de soma, subtração, multiplicação e divisão."
   ]
  },
  {
   "cell_type": "code",
   "execution_count": 5,
   "metadata": {},
   "outputs": [
    {
     "name": "stdout",
     "output_type": "stream",
     "text": [
      "2\n",
      "-2\n",
      "900\n",
      "5.0\n"
     ]
    }
   ],
   "source": [
    "print ( 1 + 1)\n",
    "print (1 - 3)\n",
    "print (9 * 100)\n",
    "print (45 / 9)"
   ]
  },
  {
   "cell_type": "markdown",
   "metadata": {
    "colab_type": "text",
    "id": "Y1hfyqi3nfuO"
   },
   "source": [
    "3) Imprima o tipo de um determinado valor inteiro."
   ]
  },
  {
   "cell_type": "code",
   "execution_count": null,
   "metadata": {},
   "outputs": [],
   "source": [
    "n = int(15)\n",
    "print (n)"
   ]
  },
  {
   "cell_type": "markdown",
   "metadata": {
    "colab_type": "text",
    "id": "lpMenLb2nfuP"
   },
   "source": [
    "4) Converta o valor passado anteriormente para o tipo float"
   ]
  },
  {
   "cell_type": "code",
   "execution_count": 6,
   "metadata": {},
   "outputs": [
    {
     "name": "stdout",
     "output_type": "stream",
     "text": [
      "15.0\n"
     ]
    }
   ],
   "source": [
    "n = float(n)\n",
    "print(n)"
   ]
  },
  {
   "cell_type": "markdown",
   "metadata": {
    "colab_type": "text",
    "id": "L3naneHLnfuP"
   },
   "source": [
    "5) Faça a conversão do valor float recebido anteriormente para o tipo string"
   ]
  },
  {
   "cell_type": "code",
   "execution_count": 8,
   "metadata": {},
   "outputs": [
    {
     "name": "stdout",
     "output_type": "stream",
     "text": [
      "15.0\n"
     ]
    },
    {
     "data": {
      "text/plain": [
       "str"
      ]
     },
     "execution_count": 8,
     "metadata": {},
     "output_type": "execute_result"
    }
   ],
   "source": [
    "n = str(n)\n",
    "print (n)\n",
    "type (n)"
   ]
  },
  {
   "cell_type": "markdown",
   "metadata": {
    "colab_type": "text",
    "id": "DfN6mDVonfuQ"
   },
   "source": [
    "6) Utilizando funções de arredonamento faça:\n",
    "- Arredonde o valor 2.898\n",
    "- Arredonde o valor 2.4545455 e exiba apenas 4 cadas decimais"
   ]
  },
  {
   "cell_type": "code",
   "execution_count": 11,
   "metadata": {},
   "outputs": [
    {
     "name": "stdout",
     "output_type": "stream",
     "text": [
      "3 2.4545\n"
     ]
    }
   ],
   "source": [
    "n1 = round(2.898)\n",
    "n2 = round(2.4545455, 4 )\n",
    "print (n1, n2)"
   ]
  },
  {
   "cell_type": "markdown",
   "metadata": {
    "colab_type": "text",
    "id": "rKA0Gdl0nfuQ"
   },
   "source": [
    "7) Utilizando variáveis faça:\n",
    "- Defina uma variável com o seu nome e imprima o seu valor.\n",
    "- Imprima o tipo dessa variável.\n",
    "- Substitua o valor da sua variável nome com a concatenação do seu valor e o seu sobrenome, depois, imprima o novo valor.\n",
    "    - obs: O resultado dessa variável será Nome Sobrenome, exemplo, Felipe Santana.\n",
    "- Defina duas variaveis com os valores do seu email e idade com apenas uma linha de comando, depois, imprima seus valores."
   ]
  },
  {
   "cell_type": "code",
   "execution_count": 17,
   "metadata": {},
   "outputs": [
    {
     "name": "stdout",
     "output_type": "stream",
     "text": [
      "Marcos\n",
      "Marcos Fragoso\n",
      "aaa@aaa.com 31\n"
     ]
    }
   ],
   "source": [
    "nome = 'Marcos'\n",
    "print(nome)\n",
    "nome = nome + ' Fragoso'\n",
    "print (nome)\n",
    "email, idade = 'aaa@aaa.com', 31\n",
    "print(email, idade)"
   ]
  },
  {
   "cell_type": "markdown",
   "metadata": {
    "colab_type": "text",
    "id": "Xj8LZ11infuR"
   },
   "source": [
    "8) Explique a causa do erro se executar a seguinte instrução para criar uma nova variável: break=10"
   ]
  },
  {
   "cell_type": "code",
   "execution_count": null,
   "metadata": {},
   "outputs": [],
   "source": [
    "Python não permite criar variáveis com nomes iguais a de funções da linguagem."
   ]
  },
  {
   "cell_type": "markdown",
   "metadata": {
    "colab_type": "text",
    "id": "UipeTegTnfuS"
   },
   "source": [
    "9) Sobre os objetos Strings, faça:\n",
    "- Defina uma variavel com a string: \"Python é uma maldição!\" e imprima\n",
    "- Imprima o primeiro caracter da variavel.\n",
    "- Imprima os valores do primeiro caracter até o 6.\n",
    "- Faça a contagem de todos os caracteres utilizando uma única linha de comando.\n",
    "- Faça uma contagem de quantos vezes a palavra dados aparece na seguinte frase:\n",
    "    - \"dados é o novo petróleo, em Deus eu confio, para o resto me traga dados..\"\n",
    "- Substitua o primeiro caracter da frase acima para maiúsculo\n",
    "- Quebre as palavras da frase separado por virgula, criando uma lista."
   ]
  },
  {
   "cell_type": "code",
   "execution_count": 30,
   "metadata": {},
   "outputs": [
    {
     "name": "stdout",
     "output_type": "stream",
     "text": [
      "P\n",
      "Python\n"
     ]
    },
    {
     "data": {
      "text/plain": [
       "22"
      ]
     },
     "execution_count": 30,
     "metadata": {},
     "output_type": "execute_result"
    }
   ],
   "source": [
    "frase = 'Python é uma maldição!'\n",
    "print (frase[0])\n",
    "print (frase[:6])\n",
    "len(frase)\n"
   ]
  },
  {
   "cell_type": "code",
   "execution_count": 34,
   "metadata": {},
   "outputs": [
    {
     "data": {
      "text/plain": [
       "2"
      ]
     },
     "execution_count": 34,
     "metadata": {},
     "output_type": "execute_result"
    }
   ],
   "source": [
    "frase = 'dados é o novo petróleo, em Deus eu confio, para o resto me traga dados..'\n",
    "frase.count('dados')"
   ]
  },
  {
   "cell_type": "code",
   "execution_count": 35,
   "metadata": {},
   "outputs": [
    {
     "data": {
      "text/plain": [
       "'Dados é o novo petróleo, em deus eu confio, para o resto me traga dados..'"
      ]
     },
     "execution_count": 35,
     "metadata": {},
     "output_type": "execute_result"
    }
   ],
   "source": [
    "frase.capitalize()"
   ]
  },
  {
   "cell_type": "code",
   "execution_count": 38,
   "metadata": {},
   "outputs": [
    {
     "data": {
      "text/plain": [
       "['dados é o novo petróleo',\n",
       " ' em Deus eu confio',\n",
       " ' para o resto me traga dados..']"
      ]
     },
     "execution_count": 38,
     "metadata": {},
     "output_type": "execute_result"
    }
   ],
   "source": [
    "frase.split(',')"
   ]
  },
  {
   "cell_type": "markdown",
   "metadata": {
    "colab_type": "text",
    "id": "sOfK05ypnfuS"
   },
   "source": [
    "10) Trabalhando com Listas, faça:\n",
    "- Cria uma lista de valores inteiros com o nome idades.\n",
    "- Imprima apenas segundo elemento da lista.\n",
    "- Imprima a contagem de valores da lista.\n",
    "- Substitua o valor do segundo elemento da lista e imprima o resultado.\n",
    "- Imprima apenas os valores do segundo elemento em diante.\n",
    "- Remova qualquer elemento da lista e imprima o resultado.\n",
    "- Defina uma lista chamada salarios com os valores : 900,1200,1500,800,12587,10000.\n",
    "- Verifique se contém o valor 10000 na lista de salarios.\n",
    "- Imprima o menor e maior valor da lista.\n",
    "- Adicione o valor 7000 a lista.\n",
    "- Extenda a lista com dois novos elementos utilizando apenas um método.\n",
    "- Imprima o índice do elemento de valor 800 da lista de salarios.\n",
    "- Faça uma ordenação dos valores da lista de salarios em ordem crescente e decrescente."
   ]
  },
  {
   "cell_type": "code",
   "execution_count": 40,
   "metadata": {},
   "outputs": [
    {
     "data": {
      "text/plain": [
       "[30, 33, 27, 15, 69]"
      ]
     },
     "execution_count": 40,
     "metadata": {},
     "output_type": "execute_result"
    }
   ],
   "source": [
    "idades = [30, 33, 27, 15, 69]\n",
    "idades"
   ]
  },
  {
   "cell_type": "code",
   "execution_count": 41,
   "metadata": {},
   "outputs": [
    {
     "data": {
      "text/plain": [
       "33"
      ]
     },
     "execution_count": 41,
     "metadata": {},
     "output_type": "execute_result"
    }
   ],
   "source": [
    "idades[1]"
   ]
  },
  {
   "cell_type": "code",
   "execution_count": 44,
   "metadata": {},
   "outputs": [
    {
     "data": {
      "text/plain": [
       "5"
      ]
     },
     "execution_count": 44,
     "metadata": {},
     "output_type": "execute_result"
    }
   ],
   "source": [
    "len(idades)"
   ]
  },
  {
   "cell_type": "code",
   "execution_count": 45,
   "metadata": {},
   "outputs": [
    {
     "data": {
      "text/plain": [
       "[30, 54, 27, 15, 69]"
      ]
     },
     "execution_count": 45,
     "metadata": {},
     "output_type": "execute_result"
    }
   ],
   "source": [
    "idades[1] = 54\n",
    "idades"
   ]
  },
  {
   "cell_type": "code",
   "execution_count": 48,
   "metadata": {},
   "outputs": [
    {
     "ename": "ValueError",
     "evalue": "list.remove(x): x not in list",
     "output_type": "error",
     "traceback": [
      "\u001b[0;31m---------------------------------------------------------------------------\u001b[0m",
      "\u001b[0;31mValueError\u001b[0m                                Traceback (most recent call last)",
      "\u001b[0;32m<ipython-input-48-30629cc308e9>\u001b[0m in \u001b[0;36m<module>\u001b[0;34m\u001b[0m\n\u001b[0;32m----> 1\u001b[0;31m \u001b[0midades\u001b[0m\u001b[0;34m.\u001b[0m\u001b[0mremove\u001b[0m\u001b[0;34m(\u001b[0m\u001b[0;36m15\u001b[0m\u001b[0;34m)\u001b[0m\u001b[0;34m\u001b[0m\u001b[0;34m\u001b[0m\u001b[0m\n\u001b[0m",
      "\u001b[0;31mValueError\u001b[0m: list.remove(x): x not in list"
     ]
    }
   ],
   "source": [
    "idades.remove(15)\n"
   ]
  },
  {
   "cell_type": "code",
   "execution_count": 49,
   "metadata": {},
   "outputs": [
    {
     "data": {
      "text/plain": [
       "[30, 54, 27, 69]"
      ]
     },
     "execution_count": 49,
     "metadata": {},
     "output_type": "execute_result"
    }
   ],
   "source": [
    "idades"
   ]
  },
  {
   "cell_type": "code",
   "execution_count": 59,
   "metadata": {},
   "outputs": [
    {
     "data": {
      "text/plain": [
       "[900, 1200, 1500, 800, 12587, 10000]"
      ]
     },
     "execution_count": 59,
     "metadata": {},
     "output_type": "execute_result"
    }
   ],
   "source": [
    "salarios = [900,1200,1500,800,12587,10000]\n",
    "salarios"
   ]
  },
  {
   "cell_type": "code",
   "execution_count": 60,
   "metadata": {},
   "outputs": [
    {
     "data": {
      "text/plain": [
       "True"
      ]
     },
     "execution_count": 60,
     "metadata": {},
     "output_type": "execute_result"
    }
   ],
   "source": [
    "10000 in salarios"
   ]
  },
  {
   "cell_type": "code",
   "execution_count": 61,
   "metadata": {},
   "outputs": [
    {
     "data": {
      "text/plain": [
       "800"
      ]
     },
     "execution_count": 61,
     "metadata": {},
     "output_type": "execute_result"
    }
   ],
   "source": [
    "min(salarios)"
   ]
  },
  {
   "cell_type": "code",
   "execution_count": 62,
   "metadata": {},
   "outputs": [
    {
     "data": {
      "text/plain": [
       "12587"
      ]
     },
     "execution_count": 62,
     "metadata": {},
     "output_type": "execute_result"
    }
   ],
   "source": [
    "max(salarios)"
   ]
  },
  {
   "cell_type": "code",
   "execution_count": 65,
   "metadata": {},
   "outputs": [],
   "source": [
    "salarios.extend([7000])"
   ]
  },
  {
   "cell_type": "code",
   "execution_count": 66,
   "metadata": {},
   "outputs": [
    {
     "data": {
      "text/plain": [
       "[900, 1200, 1500, 800, 12587, 10000, 700, 7000]"
      ]
     },
     "execution_count": 66,
     "metadata": {},
     "output_type": "execute_result"
    }
   ],
   "source": [
    "salarios"
   ]
  },
  {
   "cell_type": "code",
   "execution_count": 67,
   "metadata": {},
   "outputs": [
    {
     "data": {
      "text/plain": [
       "3"
      ]
     },
     "execution_count": 67,
     "metadata": {},
     "output_type": "execute_result"
    }
   ],
   "source": [
    "salarios.index(800)"
   ]
  },
  {
   "cell_type": "code",
   "execution_count": 68,
   "metadata": {},
   "outputs": [
    {
     "data": {
      "text/plain": [
       "[700, 800, 900, 1200, 1500, 7000, 10000, 12587]"
      ]
     },
     "execution_count": 68,
     "metadata": {},
     "output_type": "execute_result"
    }
   ],
   "source": [
    "salarios.sort()\n",
    "salarios"
   ]
  },
  {
   "cell_type": "code",
   "execution_count": 69,
   "metadata": {},
   "outputs": [
    {
     "data": {
      "text/plain": [
       "[12587, 10000, 7000, 1500, 1200, 900, 800, 700]"
      ]
     },
     "execution_count": 69,
     "metadata": {},
     "output_type": "execute_result"
    }
   ],
   "source": [
    "salarios.sort(reverse = True)\n",
    "salarios"
   ]
  },
  {
   "cell_type": "code",
   "execution_count": null,
   "metadata": {},
   "outputs": [],
   "source": []
  }
 ],
 "metadata": {
  "colab": {
   "name": "Lista 01 - Capitulo 03 - Dominando o Python.ipynb",
   "provenance": [],
   "version": "0.3.2"
  },
  "kernelspec": {
   "display_name": "Python 3",
   "language": "python",
   "name": "python3"
  },
  "language_info": {
   "codemirror_mode": {
    "name": "ipython",
    "version": 3
   },
   "file_extension": ".py",
   "mimetype": "text/x-python",
   "name": "python",
   "nbconvert_exporter": "python",
   "pygments_lexer": "ipython3",
   "version": "3.7.3"
  },
  "widgets": {
   "application/vnd.jupyter.widget-state+json": {
    "state": {},
    "version_major": 2,
    "version_minor": 0
   }
  }
 },
 "nbformat": 4,
 "nbformat_minor": 1
}
